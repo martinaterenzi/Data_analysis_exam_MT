{
 "cells": [
  {
   "cell_type": "code",
   "execution_count": 1,
   "id": "b4b4c36a-daf9-4f28-a47e-f764b790b280",
   "metadata": {
    "tags": []
   },
   "outputs": [],
   "source": [
    "setwd(\"/bin/Exam\")"
   ]
  },
  {
   "cell_type": "code",
   "execution_count": 2,
   "id": "617a48e4-dd43-43f1-baeb-f239d378d4ac",
   "metadata": {
    "tags": []
   },
   "outputs": [
    {
     "data": {
      "text/html": [
       "<table class=\"dataframe\">\n",
       "<caption>A data.frame: 6 × 61</caption>\n",
       "<thead>\n",
       "\t<tr><th></th><th scope=col>gene</th><th scope=col>HCC2935_DMSO_1</th><th scope=col>HCC2935_DMSO_2</th><th scope=col>HCC2935_DMSO_3</th><th scope=col>HCC2935_long_wash_1</th><th scope=col>HCC2935_long_wash_2</th><th scope=col>HCC2935_long_wash_3</th><th scope=col>HCC2935_short_wash_1</th><th scope=col>HCC2935_short_wash_2</th><th scope=col>HCC2935_short_wash_3</th><th scope=col>⋯</th><th scope=col>PC9_osi_acute_3</th><th scope=col>PC9_short_wash_1</th><th scope=col>PC9_short_wash_2</th><th scope=col>PC9_short_wash_3</th><th scope=col>PC9_long_wash_1</th><th scope=col>PC9_long_wash_2</th><th scope=col>PC9_long_wash_3</th><th scope=col>PC9_osi_DTP_1</th><th scope=col>PC9_osi_DTP_2</th><th scope=col>PC9_osi_DTP_3</th></tr>\n",
       "\t<tr><th></th><th scope=col>&lt;chr&gt;</th><th scope=col>&lt;dbl&gt;</th><th scope=col>&lt;dbl&gt;</th><th scope=col>&lt;dbl&gt;</th><th scope=col>&lt;dbl&gt;</th><th scope=col>&lt;dbl&gt;</th><th scope=col>&lt;dbl&gt;</th><th scope=col>&lt;dbl&gt;</th><th scope=col>&lt;dbl&gt;</th><th scope=col>&lt;dbl&gt;</th><th scope=col>⋯</th><th scope=col>&lt;dbl&gt;</th><th scope=col>&lt;dbl&gt;</th><th scope=col>&lt;dbl&gt;</th><th scope=col>&lt;dbl&gt;</th><th scope=col>&lt;dbl&gt;</th><th scope=col>&lt;dbl&gt;</th><th scope=col>&lt;dbl&gt;</th><th scope=col>&lt;dbl&gt;</th><th scope=col>&lt;dbl&gt;</th><th scope=col>&lt;dbl&gt;</th></tr>\n",
       "</thead>\n",
       "<tbody>\n",
       "\t<tr><th scope=row>1</th><td>A1BG   </td><td>  0.5682648</td><td>  5.155194</td><td>  2.477012</td><td>  9.3825599</td><td>  3.756897</td><td>  3.657931</td><td>  5.181001</td><td>  5.0955982</td><td>  6.029939</td><td>⋯</td><td>   5.8535371</td><td>  12.9978395</td><td>  18.8865019</td><td>  18.044952</td><td>   7.8021925</td><td>   5.553602</td><td>  14.145045</td><td>  19.4726655</td><td>  54.6598821</td><td>  16.444272</td></tr>\n",
       "\t<tr><th scope=row>2</th><td>A1CF   </td><td>  1.6903967</td><td>  5.044475</td><td>  0.000000</td><td>  0.8530669</td><td> 16.372231</td><td> 12.806211</td><td>  8.635351</td><td>  4.2878568</td><td>  3.360871</td><td>⋯</td><td>   2.4764460</td><td>   5.7916972</td><td>  13.2814493</td><td>   7.481299</td><td>   7.4124338</td><td>   6.699701</td><td>   6.749110</td><td>  14.1457653</td><td>   7.4760577</td><td>   9.132462</td></tr>\n",
       "\t<tr><th scope=row>3</th><td>A2M    </td><td>  4.5918067</td><td>  0.000000</td><td>  0.000000</td><td>  0.0000000</td><td> 13.573063</td><td>  0.000000</td><td>  0.000000</td><td>  0.3701051</td><td>  0.000000</td><td>⋯</td><td>   0.3590596</td><td>   0.0000000</td><td>  11.8258773</td><td>   8.320874</td><td>   4.1530829</td><td>   3.384917</td><td>   9.265192</td><td>   0.3616485</td><td>  33.3906184</td><td>   7.940929</td></tr>\n",
       "\t<tr><th scope=row>4</th><td>A2ML1  </td><td> 10.9928384</td><td> 23.050205</td><td> 26.685158</td><td> 22.3528821</td><td> 20.365509</td><td> 24.832785</td><td> 21.161743</td><td> 17.8441506</td><td>  7.263028</td><td>⋯</td><td> 244.6464245</td><td> 548.4148524</td><td> 521.5107147</td><td> 646.430287</td><td> 133.8276411</td><td> 125.312795</td><td> 515.226738</td><td> 723.9662025</td><td> 993.4183288</td><td> 912.677045</td></tr>\n",
       "\t<tr><th scope=row>5</th><td>A3GALT2</td><td>  1.0240799</td><td>  0.000000</td><td>  0.000000</td><td>  0.0000000</td><td>  0.000000</td><td>  5.150755</td><td>  0.000000</td><td>  0.0000000</td><td>  0.000000</td><td>⋯</td><td>   0.9640867</td><td>   0.9598506</td><td>   0.9634092</td><td>   0.971106</td><td>   0.9544674</td><td>   0.000000</td><td>   0.000000</td><td>   2.8911717</td><td>   0.9671412</td><td>   2.889548</td></tr>\n",
       "\t<tr><th scope=row>6</th><td>A4GALT </td><td>443.9211845</td><td>480.966346</td><td>449.169540</td><td>331.2582223</td><td>357.440237</td><td>272.281982</td><td>328.083888</td><td>319.5509843</td><td>265.040712</td><td>⋯</td><td>1424.6011545</td><td>2082.8428844</td><td>2270.7910738</td><td>2807.879156</td><td>1053.7736860</td><td>1097.736260</td><td>2337.103769</td><td>2322.4511546</td><td>3057.6903855</td><td>2822.636641</td></tr>\n",
       "</tbody>\n",
       "</table>\n"
      ],
      "text/latex": [
       "A data.frame: 6 × 61\n",
       "\\begin{tabular}{r|lllllllllllllllllllll}\n",
       "  & gene & HCC2935\\_DMSO\\_1 & HCC2935\\_DMSO\\_2 & HCC2935\\_DMSO\\_3 & HCC2935\\_long\\_wash\\_1 & HCC2935\\_long\\_wash\\_2 & HCC2935\\_long\\_wash\\_3 & HCC2935\\_short\\_wash\\_1 & HCC2935\\_short\\_wash\\_2 & HCC2935\\_short\\_wash\\_3 & ⋯ & PC9\\_osi\\_acute\\_3 & PC9\\_short\\_wash\\_1 & PC9\\_short\\_wash\\_2 & PC9\\_short\\_wash\\_3 & PC9\\_long\\_wash\\_1 & PC9\\_long\\_wash\\_2 & PC9\\_long\\_wash\\_3 & PC9\\_osi\\_DTP\\_1 & PC9\\_osi\\_DTP\\_2 & PC9\\_osi\\_DTP\\_3\\\\\n",
       "  & <chr> & <dbl> & <dbl> & <dbl> & <dbl> & <dbl> & <dbl> & <dbl> & <dbl> & <dbl> & ⋯ & <dbl> & <dbl> & <dbl> & <dbl> & <dbl> & <dbl> & <dbl> & <dbl> & <dbl> & <dbl>\\\\\n",
       "\\hline\n",
       "\t1 & A1BG    &   0.5682648 &   5.155194 &   2.477012 &   9.3825599 &   3.756897 &   3.657931 &   5.181001 &   5.0955982 &   6.029939 & ⋯ &    5.8535371 &   12.9978395 &   18.8865019 &   18.044952 &    7.8021925 &    5.553602 &   14.145045 &   19.4726655 &   54.6598821 &   16.444272\\\\\n",
       "\t2 & A1CF    &   1.6903967 &   5.044475 &   0.000000 &   0.8530669 &  16.372231 &  12.806211 &   8.635351 &   4.2878568 &   3.360871 & ⋯ &    2.4764460 &    5.7916972 &   13.2814493 &    7.481299 &    7.4124338 &    6.699701 &    6.749110 &   14.1457653 &    7.4760577 &    9.132462\\\\\n",
       "\t3 & A2M     &   4.5918067 &   0.000000 &   0.000000 &   0.0000000 &  13.573063 &   0.000000 &   0.000000 &   0.3701051 &   0.000000 & ⋯ &    0.3590596 &    0.0000000 &   11.8258773 &    8.320874 &    4.1530829 &    3.384917 &    9.265192 &    0.3616485 &   33.3906184 &    7.940929\\\\\n",
       "\t4 & A2ML1   &  10.9928384 &  23.050205 &  26.685158 &  22.3528821 &  20.365509 &  24.832785 &  21.161743 &  17.8441506 &   7.263028 & ⋯ &  244.6464245 &  548.4148524 &  521.5107147 &  646.430287 &  133.8276411 &  125.312795 &  515.226738 &  723.9662025 &  993.4183288 &  912.677045\\\\\n",
       "\t5 & A3GALT2 &   1.0240799 &   0.000000 &   0.000000 &   0.0000000 &   0.000000 &   5.150755 &   0.000000 &   0.0000000 &   0.000000 & ⋯ &    0.9640867 &    0.9598506 &    0.9634092 &    0.971106 &    0.9544674 &    0.000000 &    0.000000 &    2.8911717 &    0.9671412 &    2.889548\\\\\n",
       "\t6 & A4GALT  & 443.9211845 & 480.966346 & 449.169540 & 331.2582223 & 357.440237 & 272.281982 & 328.083888 & 319.5509843 & 265.040712 & ⋯ & 1424.6011545 & 2082.8428844 & 2270.7910738 & 2807.879156 & 1053.7736860 & 1097.736260 & 2337.103769 & 2322.4511546 & 3057.6903855 & 2822.636641\\\\\n",
       "\\end{tabular}\n"
      ],
      "text/markdown": [
       "\n",
       "A data.frame: 6 × 61\n",
       "\n",
       "| <!--/--> | gene &lt;chr&gt; | HCC2935_DMSO_1 &lt;dbl&gt; | HCC2935_DMSO_2 &lt;dbl&gt; | HCC2935_DMSO_3 &lt;dbl&gt; | HCC2935_long_wash_1 &lt;dbl&gt; | HCC2935_long_wash_2 &lt;dbl&gt; | HCC2935_long_wash_3 &lt;dbl&gt; | HCC2935_short_wash_1 &lt;dbl&gt; | HCC2935_short_wash_2 &lt;dbl&gt; | HCC2935_short_wash_3 &lt;dbl&gt; | ⋯ ⋯ | PC9_osi_acute_3 &lt;dbl&gt; | PC9_short_wash_1 &lt;dbl&gt; | PC9_short_wash_2 &lt;dbl&gt; | PC9_short_wash_3 &lt;dbl&gt; | PC9_long_wash_1 &lt;dbl&gt; | PC9_long_wash_2 &lt;dbl&gt; | PC9_long_wash_3 &lt;dbl&gt; | PC9_osi_DTP_1 &lt;dbl&gt; | PC9_osi_DTP_2 &lt;dbl&gt; | PC9_osi_DTP_3 &lt;dbl&gt; |\n",
       "|---|---|---|---|---|---|---|---|---|---|---|---|---|---|---|---|---|---|---|---|---|---|\n",
       "| 1 | A1BG    |   0.5682648 |   5.155194 |   2.477012 |   9.3825599 |   3.756897 |   3.657931 |   5.181001 |   5.0955982 |   6.029939 | ⋯ |    5.8535371 |   12.9978395 |   18.8865019 |   18.044952 |    7.8021925 |    5.553602 |   14.145045 |   19.4726655 |   54.6598821 |   16.444272 |\n",
       "| 2 | A1CF    |   1.6903967 |   5.044475 |   0.000000 |   0.8530669 |  16.372231 |  12.806211 |   8.635351 |   4.2878568 |   3.360871 | ⋯ |    2.4764460 |    5.7916972 |   13.2814493 |    7.481299 |    7.4124338 |    6.699701 |    6.749110 |   14.1457653 |    7.4760577 |    9.132462 |\n",
       "| 3 | A2M     |   4.5918067 |   0.000000 |   0.000000 |   0.0000000 |  13.573063 |   0.000000 |   0.000000 |   0.3701051 |   0.000000 | ⋯ |    0.3590596 |    0.0000000 |   11.8258773 |    8.320874 |    4.1530829 |    3.384917 |    9.265192 |    0.3616485 |   33.3906184 |    7.940929 |\n",
       "| 4 | A2ML1   |  10.9928384 |  23.050205 |  26.685158 |  22.3528821 |  20.365509 |  24.832785 |  21.161743 |  17.8441506 |   7.263028 | ⋯ |  244.6464245 |  548.4148524 |  521.5107147 |  646.430287 |  133.8276411 |  125.312795 |  515.226738 |  723.9662025 |  993.4183288 |  912.677045 |\n",
       "| 5 | A3GALT2 |   1.0240799 |   0.000000 |   0.000000 |   0.0000000 |   0.000000 |   5.150755 |   0.000000 |   0.0000000 |   0.000000 | ⋯ |    0.9640867 |    0.9598506 |    0.9634092 |    0.971106 |    0.9544674 |    0.000000 |    0.000000 |    2.8911717 |    0.9671412 |    2.889548 |\n",
       "| 6 | A4GALT  | 443.9211845 | 480.966346 | 449.169540 | 331.2582223 | 357.440237 | 272.281982 | 328.083888 | 319.5509843 | 265.040712 | ⋯ | 1424.6011545 | 2082.8428844 | 2270.7910738 | 2807.879156 | 1053.7736860 | 1097.736260 | 2337.103769 | 2322.4511546 | 3057.6903855 | 2822.636641 |\n",
       "\n"
      ],
      "text/plain": [
       "  gene    HCC2935_DMSO_1 HCC2935_DMSO_2 HCC2935_DMSO_3 HCC2935_long_wash_1\n",
       "1 A1BG      0.5682648      5.155194       2.477012       9.3825599        \n",
       "2 A1CF      1.6903967      5.044475       0.000000       0.8530669        \n",
       "3 A2M       4.5918067      0.000000       0.000000       0.0000000        \n",
       "4 A2ML1    10.9928384     23.050205      26.685158      22.3528821        \n",
       "5 A3GALT2   1.0240799      0.000000       0.000000       0.0000000        \n",
       "6 A4GALT  443.9211845    480.966346     449.169540     331.2582223        \n",
       "  HCC2935_long_wash_2 HCC2935_long_wash_3 HCC2935_short_wash_1\n",
       "1   3.756897            3.657931            5.181001          \n",
       "2  16.372231           12.806211            8.635351          \n",
       "3  13.573063            0.000000            0.000000          \n",
       "4  20.365509           24.832785           21.161743          \n",
       "5   0.000000            5.150755            0.000000          \n",
       "6 357.440237          272.281982          328.083888          \n",
       "  HCC2935_short_wash_2 HCC2935_short_wash_3 ⋯ PC9_osi_acute_3 PC9_short_wash_1\n",
       "1   5.0955982            6.029939           ⋯    5.8535371      12.9978395    \n",
       "2   4.2878568            3.360871           ⋯    2.4764460       5.7916972    \n",
       "3   0.3701051            0.000000           ⋯    0.3590596       0.0000000    \n",
       "4  17.8441506            7.263028           ⋯  244.6464245     548.4148524    \n",
       "5   0.0000000            0.000000           ⋯    0.9640867       0.9598506    \n",
       "6 319.5509843          265.040712           ⋯ 1424.6011545    2082.8428844    \n",
       "  PC9_short_wash_2 PC9_short_wash_3 PC9_long_wash_1 PC9_long_wash_2\n",
       "1   18.8865019       18.044952         7.8021925       5.553602    \n",
       "2   13.2814493        7.481299         7.4124338       6.699701    \n",
       "3   11.8258773        8.320874         4.1530829       3.384917    \n",
       "4  521.5107147      646.430287       133.8276411     125.312795    \n",
       "5    0.9634092        0.971106         0.9544674       0.000000    \n",
       "6 2270.7910738     2807.879156      1053.7736860    1097.736260    \n",
       "  PC9_long_wash_3 PC9_osi_DTP_1 PC9_osi_DTP_2 PC9_osi_DTP_3\n",
       "1   14.145045       19.4726655    54.6598821    16.444272  \n",
       "2    6.749110       14.1457653     7.4760577     9.132462  \n",
       "3    9.265192        0.3616485    33.3906184     7.940929  \n",
       "4  515.226738      723.9662025   993.4183288   912.677045  \n",
       "5    0.000000        2.8911717     0.9671412     2.889548  \n",
       "6 2337.103769     2322.4511546  3057.6903855  2822.636641  "
      ]
     },
     "metadata": {},
     "output_type": "display_data"
    },
    {
     "data": {
      "text/html": [
       "<table class=\"dataframe\">\n",
       "<caption>A data.frame: 6 × 7</caption>\n",
       "<thead>\n",
       "\t<tr><th></th><th scope=col>gene</th><th scope=col>H1975_DMSO_1</th><th scope=col>H1975_DMSO_2</th><th scope=col>H1975_DMSO_3</th><th scope=col>H1975_osi_DTP_1</th><th scope=col>H1975_osi_DTP_2</th><th scope=col>H1975_osi_DTP_3</th></tr>\n",
       "\t<tr><th></th><th scope=col>&lt;chr&gt;</th><th scope=col>&lt;dbl&gt;</th><th scope=col>&lt;dbl&gt;</th><th scope=col>&lt;dbl&gt;</th><th scope=col>&lt;dbl&gt;</th><th scope=col>&lt;dbl&gt;</th><th scope=col>&lt;dbl&gt;</th></tr>\n",
       "</thead>\n",
       "<tbody>\n",
       "\t<tr><th scope=row>1</th><td>A1BG   </td><td>788.8477841</td><td>436.0194563</td><td>624.1128152</td><td>888.7190056</td><td>851.905787</td><td>850.062314</td></tr>\n",
       "\t<tr><th scope=row>2</th><td>A1CF   </td><td>  5.9176652</td><td> 12.3258496</td><td>  0.8429555</td><td>  0.8579344</td><td>  8.969218</td><td>  9.416306</td></tr>\n",
       "\t<tr><th scope=row>3</th><td>A2M    </td><td>  0.3681615</td><td>  0.7309377</td><td>  0.0000000</td><td>124.1034271</td><td> 44.935687</td><td> 21.881597</td></tr>\n",
       "\t<tr><th scope=row>4</th><td>A2ML1  </td><td> 10.0186959</td><td> 38.1575548</td><td> 17.7310213</td><td> 10.8636700</td><td> 12.917684</td><td> 18.431924</td></tr>\n",
       "\t<tr><th scope=row>5</th><td>A3GALT2</td><td>  1.0000591</td><td>  0.9945132</td><td>  2.9958185</td><td>  2.0160282</td><td>  3.036452</td><td>  3.039603</td></tr>\n",
       "\t<tr><th scope=row>6</th><td>A4GALT </td><td>564.3877865</td><td>340.1630090</td><td>409.8402777</td><td>668.9767513</td><td>655.724842</td><td>631.619819</td></tr>\n",
       "</tbody>\n",
       "</table>\n"
      ],
      "text/latex": [
       "A data.frame: 6 × 7\n",
       "\\begin{tabular}{r|lllllll}\n",
       "  & gene & H1975\\_DMSO\\_1 & H1975\\_DMSO\\_2 & H1975\\_DMSO\\_3 & H1975\\_osi\\_DTP\\_1 & H1975\\_osi\\_DTP\\_2 & H1975\\_osi\\_DTP\\_3\\\\\n",
       "  & <chr> & <dbl> & <dbl> & <dbl> & <dbl> & <dbl> & <dbl>\\\\\n",
       "\\hline\n",
       "\t1 & A1BG    & 788.8477841 & 436.0194563 & 624.1128152 & 888.7190056 & 851.905787 & 850.062314\\\\\n",
       "\t2 & A1CF    &   5.9176652 &  12.3258496 &   0.8429555 &   0.8579344 &   8.969218 &   9.416306\\\\\n",
       "\t3 & A2M     &   0.3681615 &   0.7309377 &   0.0000000 & 124.1034271 &  44.935687 &  21.881597\\\\\n",
       "\t4 & A2ML1   &  10.0186959 &  38.1575548 &  17.7310213 &  10.8636700 &  12.917684 &  18.431924\\\\\n",
       "\t5 & A3GALT2 &   1.0000591 &   0.9945132 &   2.9958185 &   2.0160282 &   3.036452 &   3.039603\\\\\n",
       "\t6 & A4GALT  & 564.3877865 & 340.1630090 & 409.8402777 & 668.9767513 & 655.724842 & 631.619819\\\\\n",
       "\\end{tabular}\n"
      ],
      "text/markdown": [
       "\n",
       "A data.frame: 6 × 7\n",
       "\n",
       "| <!--/--> | gene &lt;chr&gt; | H1975_DMSO_1 &lt;dbl&gt; | H1975_DMSO_2 &lt;dbl&gt; | H1975_DMSO_3 &lt;dbl&gt; | H1975_osi_DTP_1 &lt;dbl&gt; | H1975_osi_DTP_2 &lt;dbl&gt; | H1975_osi_DTP_3 &lt;dbl&gt; |\n",
       "|---|---|---|---|---|---|---|---|\n",
       "| 1 | A1BG    | 788.8477841 | 436.0194563 | 624.1128152 | 888.7190056 | 851.905787 | 850.062314 |\n",
       "| 2 | A1CF    |   5.9176652 |  12.3258496 |   0.8429555 |   0.8579344 |   8.969218 |   9.416306 |\n",
       "| 3 | A2M     |   0.3681615 |   0.7309377 |   0.0000000 | 124.1034271 |  44.935687 |  21.881597 |\n",
       "| 4 | A2ML1   |  10.0186959 |  38.1575548 |  17.7310213 |  10.8636700 |  12.917684 |  18.431924 |\n",
       "| 5 | A3GALT2 |   1.0000591 |   0.9945132 |   2.9958185 |   2.0160282 |   3.036452 |   3.039603 |\n",
       "| 6 | A4GALT  | 564.3877865 | 340.1630090 | 409.8402777 | 668.9767513 | 655.724842 | 631.619819 |\n",
       "\n"
      ],
      "text/plain": [
       "  gene    H1975_DMSO_1 H1975_DMSO_2 H1975_DMSO_3 H1975_osi_DTP_1\n",
       "1 A1BG    788.8477841  436.0194563  624.1128152  888.7190056    \n",
       "2 A1CF      5.9176652   12.3258496    0.8429555    0.8579344    \n",
       "3 A2M       0.3681615    0.7309377    0.0000000  124.1034271    \n",
       "4 A2ML1    10.0186959   38.1575548   17.7310213   10.8636700    \n",
       "5 A3GALT2   1.0000591    0.9945132    2.9958185    2.0160282    \n",
       "6 A4GALT  564.3877865  340.1630090  409.8402777  668.9767513    \n",
       "  H1975_osi_DTP_2 H1975_osi_DTP_3\n",
       "1 851.905787      850.062314     \n",
       "2   8.969218        9.416306     \n",
       "3  44.935687       21.881597     \n",
       "4  12.917684       18.431924     \n",
       "5   3.036452        3.039603     \n",
       "6 655.724842      631.619819     "
      ]
     },
     "metadata": {},
     "output_type": "display_data"
    }
   ],
   "source": [
    "file_path <- \"/bin/Exam/GSE193258_RNAseq_estimated_counts.tsv\"\n",
    "\n",
    "\n",
    "data <- read.table(file_path, header = TRUE, sep = \"\\t\")\n",
    "\n",
    "# View the data\n",
    "head(data)\n",
    "\n",
    "counts=data.frame(data[,c(1,32,33,34,41,42,43)], row.names = rownames(data))\n",
    "head(counts)\n",
    "counts_1=data.frame(data[,c(32,33,34,41,42,43)], row.names = rownames(data))\n",
    "gene_names=counts$gene\n",
    "rownames(counts_1)=gene_names"
   ]
  },
  {
   "cell_type": "code",
   "execution_count": 3,
   "id": "64018399-f1f6-4629-a3c6-a2ba33658525",
   "metadata": {
    "tags": []
   },
   "outputs": [
    {
     "data": {
      "text/html": [
       "<style>\n",
       ".list-inline {list-style: none; margin:0; padding: 0}\n",
       ".list-inline>li {display: inline-block}\n",
       ".list-inline>li:not(:last-child)::after {content: \"\\00b7\"; padding: 0 .5ex}\n",
       "</style>\n",
       "<ol class=list-inline><li>'matrix'</li><li>'array'</li></ol>\n"
      ],
      "text/latex": [
       "\\begin{enumerate*}\n",
       "\\item 'matrix'\n",
       "\\item 'array'\n",
       "\\end{enumerate*}\n"
      ],
      "text/markdown": [
       "1. 'matrix'\n",
       "2. 'array'\n",
       "\n",
       "\n"
      ],
      "text/plain": [
       "[1] \"matrix\" \"array\" "
      ]
     },
     "metadata": {},
     "output_type": "display_data"
    },
    {
     "data": {
      "text/html": [
       "<table class=\"dataframe\">\n",
       "<caption>A matrix: 6 × 6 of type dbl</caption>\n",
       "<thead>\n",
       "\t<tr><th></th><th scope=col>H1975_DMSO_1</th><th scope=col>H1975_DMSO_2</th><th scope=col>H1975_DMSO_3</th><th scope=col>H1975_osi_DTP_1</th><th scope=col>H1975_osi_DTP_2</th><th scope=col>H1975_osi_DTP_3</th></tr>\n",
       "</thead>\n",
       "<tbody>\n",
       "\t<tr><th scope=row>A1BG</th><td>788.8477841</td><td>436.0194563</td><td>624.1128152</td><td>888.7190056</td><td>851.905787</td><td>850.062314</td></tr>\n",
       "\t<tr><th scope=row>A1CF</th><td>  5.9176652</td><td> 12.3258496</td><td>  0.8429555</td><td>  0.8579344</td><td>  8.969218</td><td>  9.416306</td></tr>\n",
       "\t<tr><th scope=row>A2M</th><td>  0.3681615</td><td>  0.7309377</td><td>  0.0000000</td><td>124.1034271</td><td> 44.935687</td><td> 21.881597</td></tr>\n",
       "\t<tr><th scope=row>A2ML1</th><td> 10.0186959</td><td> 38.1575548</td><td> 17.7310213</td><td> 10.8636700</td><td> 12.917684</td><td> 18.431924</td></tr>\n",
       "\t<tr><th scope=row>A3GALT2</th><td>  1.0000591</td><td>  0.9945132</td><td>  2.9958185</td><td>  2.0160282</td><td>  3.036452</td><td>  3.039603</td></tr>\n",
       "\t<tr><th scope=row>A4GALT</th><td>564.3877865</td><td>340.1630090</td><td>409.8402777</td><td>668.9767513</td><td>655.724842</td><td>631.619819</td></tr>\n",
       "</tbody>\n",
       "</table>\n"
      ],
      "text/latex": [
       "A matrix: 6 × 6 of type dbl\n",
       "\\begin{tabular}{r|llllll}\n",
       "  & H1975\\_DMSO\\_1 & H1975\\_DMSO\\_2 & H1975\\_DMSO\\_3 & H1975\\_osi\\_DTP\\_1 & H1975\\_osi\\_DTP\\_2 & H1975\\_osi\\_DTP\\_3\\\\\n",
       "\\hline\n",
       "\tA1BG & 788.8477841 & 436.0194563 & 624.1128152 & 888.7190056 & 851.905787 & 850.062314\\\\\n",
       "\tA1CF &   5.9176652 &  12.3258496 &   0.8429555 &   0.8579344 &   8.969218 &   9.416306\\\\\n",
       "\tA2M &   0.3681615 &   0.7309377 &   0.0000000 & 124.1034271 &  44.935687 &  21.881597\\\\\n",
       "\tA2ML1 &  10.0186959 &  38.1575548 &  17.7310213 &  10.8636700 &  12.917684 &  18.431924\\\\\n",
       "\tA3GALT2 &   1.0000591 &   0.9945132 &   2.9958185 &   2.0160282 &   3.036452 &   3.039603\\\\\n",
       "\tA4GALT & 564.3877865 & 340.1630090 & 409.8402777 & 668.9767513 & 655.724842 & 631.619819\\\\\n",
       "\\end{tabular}\n"
      ],
      "text/markdown": [
       "\n",
       "A matrix: 6 × 6 of type dbl\n",
       "\n",
       "| <!--/--> | H1975_DMSO_1 | H1975_DMSO_2 | H1975_DMSO_3 | H1975_osi_DTP_1 | H1975_osi_DTP_2 | H1975_osi_DTP_3 |\n",
       "|---|---|---|---|---|---|---|\n",
       "| A1BG | 788.8477841 | 436.0194563 | 624.1128152 | 888.7190056 | 851.905787 | 850.062314 |\n",
       "| A1CF |   5.9176652 |  12.3258496 |   0.8429555 |   0.8579344 |   8.969218 |   9.416306 |\n",
       "| A2M |   0.3681615 |   0.7309377 |   0.0000000 | 124.1034271 |  44.935687 |  21.881597 |\n",
       "| A2ML1 |  10.0186959 |  38.1575548 |  17.7310213 |  10.8636700 |  12.917684 |  18.431924 |\n",
       "| A3GALT2 |   1.0000591 |   0.9945132 |   2.9958185 |   2.0160282 |   3.036452 |   3.039603 |\n",
       "| A4GALT | 564.3877865 | 340.1630090 | 409.8402777 | 668.9767513 | 655.724842 | 631.619819 |\n",
       "\n"
      ],
      "text/plain": [
       "        H1975_DMSO_1 H1975_DMSO_2 H1975_DMSO_3 H1975_osi_DTP_1 H1975_osi_DTP_2\n",
       "A1BG    788.8477841  436.0194563  624.1128152  888.7190056     851.905787     \n",
       "A1CF      5.9176652   12.3258496    0.8429555    0.8579344       8.969218     \n",
       "A2M       0.3681615    0.7309377    0.0000000  124.1034271      44.935687     \n",
       "A2ML1    10.0186959   38.1575548   17.7310213   10.8636700      12.917684     \n",
       "A3GALT2   1.0000591    0.9945132    2.9958185    2.0160282       3.036452     \n",
       "A4GALT  564.3877865  340.1630090  409.8402777  668.9767513     655.724842     \n",
       "        H1975_osi_DTP_3\n",
       "A1BG    850.062314     \n",
       "A1CF      9.416306     \n",
       "A2M      21.881597     \n",
       "A2ML1    18.431924     \n",
       "A3GALT2   3.039603     \n",
       "A4GALT  631.619819     "
      ]
     },
     "metadata": {},
     "output_type": "display_data"
    },
    {
     "name": "stderr",
     "output_type": "stream",
     "text": [
      "Updating HTML index of packages in '.Library'\n",
      "\n",
      "Making 'packages.html' ...\n",
      " done\n",
      "\n",
      "'getOption(\"repos\")' replaces Bioconductor standard repositories, see\n",
      "'help(\"repositories\", package = \"BiocManager\")' for details.\n",
      "Replacement repositories:\n",
      "    CRAN: https://cran.r-project.org\n",
      "\n",
      "Bioconductor version 3.14 (BiocManager 1.30.21.1), R 4.1.1 (2021-08-10)\n",
      "\n",
      "Warning message:\n",
      "“package(s) not installed when version(s) same as or greater than current; use\n",
      "  `force = TRUE` to re-install: 'edgeR'”\n",
      "Old packages: 'KernSmooth', 'MASS', 'Matrix', 'Rcpp', 'cpp11', 'digest',\n",
      "  'evaluate', 'fs', 'jsonlite', 'locfit', 'mgcv', 'vctrs'\n",
      "\n",
      "Loading required package: limma\n",
      "\n"
     ]
    },
    {
     "data": {
      "text/html": [
       "<table class=\"dataframe\">\n",
       "<caption>A matrix: 6 × 6 of type dbl</caption>\n",
       "<thead>\n",
       "\t<tr><th></th><th scope=col>H1975_DMSO_1</th><th scope=col>H1975_DMSO_2</th><th scope=col>H1975_DMSO_3</th><th scope=col>H1975_osi_DTP_1</th><th scope=col>H1975_osi_DTP_2</th><th scope=col>H1975_osi_DTP_3</th></tr>\n",
       "</thead>\n",
       "<tbody>\n",
       "\t<tr><th scope=row>A1BG</th><td>16.595225463</td><td>10.28022483</td><td>14.54158901</td><td>20.17025642</td><td>17.3383875</td><td>20.58156499</td></tr>\n",
       "\t<tr><th scope=row>A1CF</th><td> 0.124491683</td><td> 0.29061204</td><td> 0.01964054</td><td> 0.01947157</td><td> 0.1825457</td><td> 0.22798601</td></tr>\n",
       "\t<tr><th scope=row>A2M</th><td> 0.007745124</td><td> 0.01723364</td><td> 0.00000000</td><td> 2.81663600</td><td> 0.9145522</td><td> 0.52979352</td></tr>\n",
       "\t<tr><th scope=row>A2ML1</th><td> 0.210766286</td><td> 0.89965766</td><td> 0.41312599</td><td> 0.24656051</td><td> 0.2629068</td><td> 0.44627064</td></tr>\n",
       "\t<tr><th scope=row>A3GALT2</th><td> 0.021038540</td><td> 0.02344808</td><td> 0.06980142</td><td> 0.04575553</td><td> 0.0617993</td><td> 0.07359435</td></tr>\n",
       "\t<tr><th scope=row>A4GALT</th><td>11.873193732</td><td> 8.02017470</td><td> 9.54912114</td><td>15.18301345</td><td>13.3456206</td><td>15.29267223</td></tr>\n",
       "</tbody>\n",
       "</table>\n"
      ],
      "text/latex": [
       "A matrix: 6 × 6 of type dbl\n",
       "\\begin{tabular}{r|llllll}\n",
       "  & H1975\\_DMSO\\_1 & H1975\\_DMSO\\_2 & H1975\\_DMSO\\_3 & H1975\\_osi\\_DTP\\_1 & H1975\\_osi\\_DTP\\_2 & H1975\\_osi\\_DTP\\_3\\\\\n",
       "\\hline\n",
       "\tA1BG & 16.595225463 & 10.28022483 & 14.54158901 & 20.17025642 & 17.3383875 & 20.58156499\\\\\n",
       "\tA1CF &  0.124491683 &  0.29061204 &  0.01964054 &  0.01947157 &  0.1825457 &  0.22798601\\\\\n",
       "\tA2M &  0.007745124 &  0.01723364 &  0.00000000 &  2.81663600 &  0.9145522 &  0.52979352\\\\\n",
       "\tA2ML1 &  0.210766286 &  0.89965766 &  0.41312599 &  0.24656051 &  0.2629068 &  0.44627064\\\\\n",
       "\tA3GALT2 &  0.021038540 &  0.02344808 &  0.06980142 &  0.04575553 &  0.0617993 &  0.07359435\\\\\n",
       "\tA4GALT & 11.873193732 &  8.02017470 &  9.54912114 & 15.18301345 & 13.3456206 & 15.29267223\\\\\n",
       "\\end{tabular}\n"
      ],
      "text/markdown": [
       "\n",
       "A matrix: 6 × 6 of type dbl\n",
       "\n",
       "| <!--/--> | H1975_DMSO_1 | H1975_DMSO_2 | H1975_DMSO_3 | H1975_osi_DTP_1 | H1975_osi_DTP_2 | H1975_osi_DTP_3 |\n",
       "|---|---|---|---|---|---|---|\n",
       "| A1BG | 16.595225463 | 10.28022483 | 14.54158901 | 20.17025642 | 17.3383875 | 20.58156499 |\n",
       "| A1CF |  0.124491683 |  0.29061204 |  0.01964054 |  0.01947157 |  0.1825457 |  0.22798601 |\n",
       "| A2M |  0.007745124 |  0.01723364 |  0.00000000 |  2.81663600 |  0.9145522 |  0.52979352 |\n",
       "| A2ML1 |  0.210766286 |  0.89965766 |  0.41312599 |  0.24656051 |  0.2629068 |  0.44627064 |\n",
       "| A3GALT2 |  0.021038540 |  0.02344808 |  0.06980142 |  0.04575553 |  0.0617993 |  0.07359435 |\n",
       "| A4GALT | 11.873193732 |  8.02017470 |  9.54912114 | 15.18301345 | 13.3456206 | 15.29267223 |\n",
       "\n"
      ],
      "text/plain": [
       "        H1975_DMSO_1 H1975_DMSO_2 H1975_DMSO_3 H1975_osi_DTP_1 H1975_osi_DTP_2\n",
       "A1BG    16.595225463 10.28022483  14.54158901  20.17025642     17.3383875     \n",
       "A1CF     0.124491683  0.29061204   0.01964054   0.01947157      0.1825457     \n",
       "A2M      0.007745124  0.01723364   0.00000000   2.81663600      0.9145522     \n",
       "A2ML1    0.210766286  0.89965766   0.41312599   0.24656051      0.2629068     \n",
       "A3GALT2  0.021038540  0.02344808   0.06980142   0.04575553      0.0617993     \n",
       "A4GALT  11.873193732  8.02017470   9.54912114  15.18301345     13.3456206     \n",
       "        H1975_osi_DTP_3\n",
       "A1BG    20.58156499    \n",
       "A1CF     0.22798601    \n",
       "A2M      0.52979352    \n",
       "A2ML1    0.44627064    \n",
       "A3GALT2  0.07359435    \n",
       "A4GALT  15.29267223    "
      ]
     },
     "metadata": {},
     "output_type": "display_data"
    }
   ],
   "source": [
    "#Data Normalization\n",
    "\n",
    "matrix=as.matrix(counts_1, rownames.force=NA)\n",
    "class(matrix)\n",
    "head(matrix)\n",
    "install.packages(\"BiocManager\")\n",
    "BiocManager::install(\"edgeR\")\n",
    "#I use the edgeR package to make the conversion into CPM of the matrix \n",
    "library(edgeR)\n",
    "matrix_cpm = edgeR::cpm(matrix)\n",
    "head(matrix_cpm)\n",
    "#I save the results into a txt file\n",
    "write.table(matrix_cpm, file = \"H1975_table_cpm.txt\", sep =\"\\t\", col.names=NA)\n"
   ]
  },
  {
   "cell_type": "code",
   "execution_count": 4,
   "id": "7faba39c-c07b-4e1e-83a7-fa9f7c9c494f",
   "metadata": {
    "tags": []
   },
   "outputs": [
    {
     "data": {
      "text/plain": [
       "Importance of components:\n",
       "                           PC1     PC2      PC3      PC4     PC5       PC6\n",
       "Standard deviation     50.3945 16.3950 11.98016 10.32848 8.41077 1.367e-13\n",
       "Proportion of Variance  0.8115  0.0859  0.04586  0.03409 0.02261 0.000e+00\n",
       "Cumulative Proportion   0.8115  0.8974  0.94330  0.97739 1.00000 1.000e+00"
      ]
     },
     "metadata": {},
     "output_type": "display_data"
    },
    {
     "data": {
      "text/html": [
       "<table class=\"dataframe\">\n",
       "<caption>A matrix: 6 × 6 of type dbl</caption>\n",
       "<thead>\n",
       "\t<tr><th></th><th scope=col>PC1</th><th scope=col>PC2</th><th scope=col>PC3</th><th scope=col>PC4</th><th scope=col>PC5</th><th scope=col>PC6</th></tr>\n",
       "</thead>\n",
       "<tbody>\n",
       "\t<tr><th scope=row>H1975_DMSO_1</th><td>-52.97515</td><td> 18.241784</td><td> -2.459494</td><td> -0.7371208</td><td>-11.2100621</td><td> 9.443715e-14</td></tr>\n",
       "\t<tr><th scope=row>H1975_DMSO_2</th><td>-33.32743</td><td>-25.715923</td><td>  9.868506</td><td>  7.1839347</td><td> -2.7477227</td><td> 8.232128e-14</td></tr>\n",
       "\t<tr><th scope=row>H1975_DMSO_3</th><td>-49.23097</td><td>  5.311382</td><td> -2.597891</td><td> -3.4385762</td><td> 14.4447404</td><td> 6.484539e-13</td></tr>\n",
       "\t<tr><th scope=row>H1975_osi_DTP_1</th><td> 48.05740</td><td>  5.096384</td><td>-10.506137</td><td> 15.8574338</td><td>  1.5599939</td><td>-3.708749e-13</td></tr>\n",
       "\t<tr><th scope=row>H1975_osi_DTP_2</th><td> 33.20917</td><td>-13.537976</td><td>-12.657981</td><td>-13.9047952</td><td> -2.9353429</td><td>-1.100613e-13</td></tr>\n",
       "\t<tr><th scope=row>H1975_osi_DTP_3</th><td> 54.26698</td><td> 10.604349</td><td> 18.352997</td><td> -4.9608764</td><td>  0.8883935</td><td>-3.010840e-13</td></tr>\n",
       "</tbody>\n",
       "</table>\n"
      ],
      "text/latex": [
       "A matrix: 6 × 6 of type dbl\n",
       "\\begin{tabular}{r|llllll}\n",
       "  & PC1 & PC2 & PC3 & PC4 & PC5 & PC6\\\\\n",
       "\\hline\n",
       "\tH1975\\_DMSO\\_1 & -52.97515 &  18.241784 &  -2.459494 &  -0.7371208 & -11.2100621 &  9.443715e-14\\\\\n",
       "\tH1975\\_DMSO\\_2 & -33.32743 & -25.715923 &   9.868506 &   7.1839347 &  -2.7477227 &  8.232128e-14\\\\\n",
       "\tH1975\\_DMSO\\_3 & -49.23097 &   5.311382 &  -2.597891 &  -3.4385762 &  14.4447404 &  6.484539e-13\\\\\n",
       "\tH1975\\_osi\\_DTP\\_1 &  48.05740 &   5.096384 & -10.506137 &  15.8574338 &   1.5599939 & -3.708749e-13\\\\\n",
       "\tH1975\\_osi\\_DTP\\_2 &  33.20917 & -13.537976 & -12.657981 & -13.9047952 &  -2.9353429 & -1.100613e-13\\\\\n",
       "\tH1975\\_osi\\_DTP\\_3 &  54.26698 &  10.604349 &  18.352997 &  -4.9608764 &   0.8883935 & -3.010840e-13\\\\\n",
       "\\end{tabular}\n"
      ],
      "text/markdown": [
       "\n",
       "A matrix: 6 × 6 of type dbl\n",
       "\n",
       "| <!--/--> | PC1 | PC2 | PC3 | PC4 | PC5 | PC6 |\n",
       "|---|---|---|---|---|---|---|\n",
       "| H1975_DMSO_1 | -52.97515 |  18.241784 |  -2.459494 |  -0.7371208 | -11.2100621 |  9.443715e-14 |\n",
       "| H1975_DMSO_2 | -33.32743 | -25.715923 |   9.868506 |   7.1839347 |  -2.7477227 |  8.232128e-14 |\n",
       "| H1975_DMSO_3 | -49.23097 |   5.311382 |  -2.597891 |  -3.4385762 |  14.4447404 |  6.484539e-13 |\n",
       "| H1975_osi_DTP_1 |  48.05740 |   5.096384 | -10.506137 |  15.8574338 |   1.5599939 | -3.708749e-13 |\n",
       "| H1975_osi_DTP_2 |  33.20917 | -13.537976 | -12.657981 | -13.9047952 |  -2.9353429 | -1.100613e-13 |\n",
       "| H1975_osi_DTP_3 |  54.26698 |  10.604349 |  18.352997 |  -4.9608764 |   0.8883935 | -3.010840e-13 |\n",
       "\n"
      ],
      "text/plain": [
       "                PC1       PC2        PC3        PC4         PC5        \n",
       "H1975_DMSO_1    -52.97515  18.241784  -2.459494  -0.7371208 -11.2100621\n",
       "H1975_DMSO_2    -33.32743 -25.715923   9.868506   7.1839347  -2.7477227\n",
       "H1975_DMSO_3    -49.23097   5.311382  -2.597891  -3.4385762  14.4447404\n",
       "H1975_osi_DTP_1  48.05740   5.096384 -10.506137  15.8574338   1.5599939\n",
       "H1975_osi_DTP_2  33.20917 -13.537976 -12.657981 -13.9047952  -2.9353429\n",
       "H1975_osi_DTP_3  54.26698  10.604349  18.352997  -4.9608764   0.8883935\n",
       "                PC6          \n",
       "H1975_DMSO_1     9.443715e-14\n",
       "H1975_DMSO_2     8.232128e-14\n",
       "H1975_DMSO_3     6.484539e-13\n",
       "H1975_osi_DTP_1 -3.708749e-13\n",
       "H1975_osi_DTP_2 -1.100613e-13\n",
       "H1975_osi_DTP_3 -3.010840e-13"
      ]
     },
     "metadata": {},
     "output_type": "display_data"
    },
    {
     "data": {
      "text/html": [
       "<strong>png:</strong> 2"
      ],
      "text/latex": [
       "\\textbf{png:} 2"
      ],
      "text/markdown": [
       "**png:** 2"
      ],
      "text/plain": [
       "png \n",
       "  2 "
      ]
     },
     "metadata": {},
     "output_type": "display_data"
    }
   ],
   "source": [
    "#Data Visualization\n",
    "\n",
    "normalized_counts = read.table(\"H1975_table_cpm.txt\", sep=\"\\t\", header = TRUE, row.names=1)\n",
    "normalized_counts=log2(normalized_counts+1)\n",
    "pca <- prcomp(t(normalized_counts))\n",
    "summary(pca)\n",
    "\n",
    "variance <- pca$sdev^2\n",
    "variance_perc <- round(variance/sum(variance)*100, 1)\n",
    "head(pca$x)\n",
    "pdf(\"H1975_screeplot.pdf\")\n",
    "barplot(variance_perc, main=\"Scree Plot\", xlab=\"Principal Component\", ylab=\"Percent Variation\", ylim = c(0,100))\n",
    "dev.off()"
   ]
  },
  {
   "cell_type": "code",
   "execution_count": 5,
   "id": "f2903b2e-c711-4b41-b819-2745ebf32771",
   "metadata": {
    "tags": []
   },
   "outputs": [
    {
     "name": "stderr",
     "output_type": "stream",
     "text": [
      "Updating HTML index of packages in '.Library'\n",
      "\n",
      "Making 'packages.html' ...\n",
      " done\n",
      "\n"
     ]
    },
    {
     "data": {
      "text/html": [
       "<style>\n",
       ".list-inline {list-style: none; margin:0; padding: 0}\n",
       ".list-inline>li {display: inline-block}\n",
       ".list-inline>li:not(:last-child)::after {content: \"\\00b7\"; padding: 0 .5ex}\n",
       "</style>\n",
       "<ol class=list-inline><li>6</li><li>3</li></ol>\n"
      ],
      "text/latex": [
       "\\begin{enumerate*}\n",
       "\\item 6\n",
       "\\item 3\n",
       "\\end{enumerate*}\n"
      ],
      "text/markdown": [
       "1. 6\n",
       "2. 3\n",
       "\n",
       "\n"
      ],
      "text/plain": [
       "[1] 6 3"
      ]
     },
     "metadata": {},
     "output_type": "display_data"
    },
    {
     "data": {
      "text/html": [
       "<table class=\"dataframe\">\n",
       "<caption>A data.frame: 6 × 3</caption>\n",
       "<thead>\n",
       "\t<tr><th></th><th scope=col>Sample</th><th scope=col>PC1</th><th scope=col>PC2</th></tr>\n",
       "\t<tr><th></th><th scope=col>&lt;chr&gt;</th><th scope=col>&lt;dbl&gt;</th><th scope=col>&lt;dbl&gt;</th></tr>\n",
       "</thead>\n",
       "<tbody>\n",
       "\t<tr><th scope=row>H1975_DMSO_1</th><td>H1975_DMSO_1   </td><td>-52.97515</td><td> 18.241784</td></tr>\n",
       "\t<tr><th scope=row>H1975_DMSO_2</th><td>H1975_DMSO_2   </td><td>-33.32743</td><td>-25.715923</td></tr>\n",
       "\t<tr><th scope=row>H1975_DMSO_3</th><td>H1975_DMSO_3   </td><td>-49.23097</td><td>  5.311382</td></tr>\n",
       "\t<tr><th scope=row>H1975_osi_DTP_1</th><td>H1975_osi_DTP_1</td><td> 48.05740</td><td>  5.096384</td></tr>\n",
       "\t<tr><th scope=row>H1975_osi_DTP_2</th><td>H1975_osi_DTP_2</td><td> 33.20917</td><td>-13.537976</td></tr>\n",
       "\t<tr><th scope=row>H1975_osi_DTP_3</th><td>H1975_osi_DTP_3</td><td> 54.26698</td><td> 10.604349</td></tr>\n",
       "</tbody>\n",
       "</table>\n"
      ],
      "text/latex": [
       "A data.frame: 6 × 3\n",
       "\\begin{tabular}{r|lll}\n",
       "  & Sample & PC1 & PC2\\\\\n",
       "  & <chr> & <dbl> & <dbl>\\\\\n",
       "\\hline\n",
       "\tH1975\\_DMSO\\_1 & H1975\\_DMSO\\_1    & -52.97515 &  18.241784\\\\\n",
       "\tH1975\\_DMSO\\_2 & H1975\\_DMSO\\_2    & -33.32743 & -25.715923\\\\\n",
       "\tH1975\\_DMSO\\_3 & H1975\\_DMSO\\_3    & -49.23097 &   5.311382\\\\\n",
       "\tH1975\\_osi\\_DTP\\_1 & H1975\\_osi\\_DTP\\_1 &  48.05740 &   5.096384\\\\\n",
       "\tH1975\\_osi\\_DTP\\_2 & H1975\\_osi\\_DTP\\_2 &  33.20917 & -13.537976\\\\\n",
       "\tH1975\\_osi\\_DTP\\_3 & H1975\\_osi\\_DTP\\_3 &  54.26698 &  10.604349\\\\\n",
       "\\end{tabular}\n"
      ],
      "text/markdown": [
       "\n",
       "A data.frame: 6 × 3\n",
       "\n",
       "| <!--/--> | Sample &lt;chr&gt; | PC1 &lt;dbl&gt; | PC2 &lt;dbl&gt; |\n",
       "|---|---|---|---|\n",
       "| H1975_DMSO_1 | H1975_DMSO_1    | -52.97515 |  18.241784 |\n",
       "| H1975_DMSO_2 | H1975_DMSO_2    | -33.32743 | -25.715923 |\n",
       "| H1975_DMSO_3 | H1975_DMSO_3    | -49.23097 |   5.311382 |\n",
       "| H1975_osi_DTP_1 | H1975_osi_DTP_1 |  48.05740 |   5.096384 |\n",
       "| H1975_osi_DTP_2 | H1975_osi_DTP_2 |  33.20917 | -13.537976 |\n",
       "| H1975_osi_DTP_3 | H1975_osi_DTP_3 |  54.26698 |  10.604349 |\n",
       "\n"
      ],
      "text/plain": [
       "                Sample          PC1       PC2       \n",
       "H1975_DMSO_1    H1975_DMSO_1    -52.97515  18.241784\n",
       "H1975_DMSO_2    H1975_DMSO_2    -33.32743 -25.715923\n",
       "H1975_DMSO_3    H1975_DMSO_3    -49.23097   5.311382\n",
       "H1975_osi_DTP_1 H1975_osi_DTP_1  48.05740   5.096384\n",
       "H1975_osi_DTP_2 H1975_osi_DTP_2  33.20917 -13.537976\n",
       "H1975_osi_DTP_3 H1975_osi_DTP_3  54.26698  10.604349"
      ]
     },
     "metadata": {},
     "output_type": "display_data"
    },
    {
     "data": {
      "text/html": [
       "<strong>png:</strong> 2"
      ],
      "text/latex": [
       "\\textbf{png:} 2"
      ],
      "text/markdown": [
       "**png:** 2"
      ],
      "text/plain": [
       "png \n",
       "  2 "
      ]
     },
     "metadata": {},
     "output_type": "display_data"
    }
   ],
   "source": [
    "install.packages(\"ggplot2\")\n",
    "library(ggplot2)\n",
    "pca_table <- data.frame(Sample=rownames(pca$x),\n",
    "                        PC1=pca$x[,1],\n",
    "                        PC2=pca$x[,2])\n",
    "dim(pca_table) \n",
    "head(pca_table)\n",
    "\n",
    "pdf(\"PCA_plot.pdf\")\n",
    "ggplot(data=pca_table, aes(x=PC1, y=PC2, color=Sample)) +\n",
    "  geom_point() + \n",
    "  scale_color_manual(labels = c(rep(\"treated_osi\",3), rep(\"control_DMSO\",3)), \n",
    "                     values = c(rep(\"violetred1\",3), rep(\"mediumpurple3\",3))) +\n",
    "  xlab(paste(\"PC1 - \", variance_perc[1], \"%\", sep=\"\")) +\n",
    "  ylab(paste(\"PC2 - \", variance_perc[2], \"%\", sep=\"\")) +\n",
    "  ggtitle(\"PCA samples\")\n",
    "\n",
    "dev.off()  "
   ]
  },
  {
   "cell_type": "code",
   "execution_count": 6,
   "id": "a04c3f35-f422-4b54-aa60-0674f774d1d5",
   "metadata": {},
   "outputs": [
    {
     "data": {
      "text/html": [
       "<style>\n",
       ".list-inline {list-style: none; margin:0; padding: 0}\n",
       ".list-inline>li {display: inline-block}\n",
       ".list-inline>li:not(:last-child)::after {content: \"\\00b7\"; padding: 0 .5ex}\n",
       "</style>\n",
       "<ol class=list-inline><li>'ESRP1'</li><li>'CDH1'</li><li>'LAD1'</li><li>'MAL2'</li><li>'VGF'</li><li>'TMEM30B'</li><li>'CNN1'</li><li>'EDN2'</li><li>'MYEOV'</li><li>'RTL1'</li></ol>\n"
      ],
      "text/latex": [
       "\\begin{enumerate*}\n",
       "\\item 'ESRP1'\n",
       "\\item 'CDH1'\n",
       "\\item 'LAD1'\n",
       "\\item 'MAL2'\n",
       "\\item 'VGF'\n",
       "\\item 'TMEM30B'\n",
       "\\item 'CNN1'\n",
       "\\item 'EDN2'\n",
       "\\item 'MYEOV'\n",
       "\\item 'RTL1'\n",
       "\\end{enumerate*}\n"
      ],
      "text/markdown": [
       "1. 'ESRP1'\n",
       "2. 'CDH1'\n",
       "3. 'LAD1'\n",
       "4. 'MAL2'\n",
       "5. 'VGF'\n",
       "6. 'TMEM30B'\n",
       "7. 'CNN1'\n",
       "8. 'EDN2'\n",
       "9. 'MYEOV'\n",
       "10. 'RTL1'\n",
       "\n",
       "\n"
      ],
      "text/plain": [
       " [1] \"ESRP1\"   \"CDH1\"    \"LAD1\"    \"MAL2\"    \"VGF\"     \"TMEM30B\" \"CNN1\"   \n",
       " [8] \"EDN2\"    \"MYEOV\"   \"RTL1\"   "
      ]
     },
     "metadata": {},
     "output_type": "display_data"
    }
   ],
   "source": [
    "\n",
    "pc1_loading_scores <- pca$rotation[,1]\n",
    "pc1_gene_scores <- abs(pc1_loading_scores)\n",
    "\n",
    "\n",
    "pc1_rank_gene_score<- sort(pc1_gene_scores, decreasing=TRUE)\n",
    "pc1_top_10_genes <- names(pc1_rank_gene_score[1:10])\n",
    "pc1_top_10_genes\n",
    "pc1_top_10_genes = pca$rotation[pc1_top_10_genes,1]\n",
    "\n",
    "write.table(pc1_top_10_genes, file = \"pc1_top10genes.txt\", sep =\"\\t\", col.names=NA)\n",
    "\n",
    "pc2_loading_scores <- pca$rotation[,2]\n",
    "pc2_gene_scores <- abs(pc2_loading_scores)"
   ]
  },
  {
   "cell_type": "code",
   "execution_count": 7,
   "id": "d59e9e78-255b-42e2-842d-a8e53a6a2e2c",
   "metadata": {
    "tags": []
   },
   "outputs": [
    {
     "data": {
      "text/html": [
       "<style>\n",
       ".list-inline {list-style: none; margin:0; padding: 0}\n",
       ".list-inline>li {display: inline-block}\n",
       ".list-inline>li:not(:last-child)::after {content: \"\\00b7\"; padding: 0 .5ex}\n",
       "</style>\n",
       "<ol class=list-inline><li>'FOS'</li><li>'PLCB4'</li><li>'ANXA8L1'</li><li>'ANXA8'</li><li>'AL035078.4'</li><li>'SERPINA5'</li><li>'CXCR5'</li><li>'PLXNA4'</li><li>'PLEKHS1'</li><li>'CCN5'</li></ol>\n"
      ],
      "text/latex": [
       "\\begin{enumerate*}\n",
       "\\item 'FOS'\n",
       "\\item 'PLCB4'\n",
       "\\item 'ANXA8L1'\n",
       "\\item 'ANXA8'\n",
       "\\item 'AL035078.4'\n",
       "\\item 'SERPINA5'\n",
       "\\item 'CXCR5'\n",
       "\\item 'PLXNA4'\n",
       "\\item 'PLEKHS1'\n",
       "\\item 'CCN5'\n",
       "\\end{enumerate*}\n"
      ],
      "text/markdown": [
       "1. 'FOS'\n",
       "2. 'PLCB4'\n",
       "3. 'ANXA8L1'\n",
       "4. 'ANXA8'\n",
       "5. 'AL035078.4'\n",
       "6. 'SERPINA5'\n",
       "7. 'CXCR5'\n",
       "8. 'PLXNA4'\n",
       "9. 'PLEKHS1'\n",
       "10. 'CCN5'\n",
       "\n",
       "\n"
      ],
      "text/plain": [
       " [1] \"FOS\"        \"PLCB4\"      \"ANXA8L1\"    \"ANXA8\"      \"AL035078.4\"\n",
       " [6] \"SERPINA5\"   \"CXCR5\"      \"PLXNA4\"     \"PLEKHS1\"    \"CCN5\"      "
      ]
     },
     "metadata": {},
     "output_type": "display_data"
    },
    {
     "data": {
      "text/html": [
       "<style>\n",
       ".list-inline {list-style: none; margin:0; padding: 0}\n",
       ".list-inline>li {display: inline-block}\n",
       ".list-inline>li:not(:last-child)::after {content: \"\\00b7\"; padding: 0 .5ex}\n",
       "</style>\n",
       "<ol class=list-inline><li>'matrix'</li><li>'array'</li></ol>\n"
      ],
      "text/latex": [
       "\\begin{enumerate*}\n",
       "\\item 'matrix'\n",
       "\\item 'array'\n",
       "\\end{enumerate*}\n"
      ],
      "text/markdown": [
       "1. 'matrix'\n",
       "2. 'array'\n",
       "\n",
       "\n"
      ],
      "text/plain": [
       "[1] \"matrix\" \"array\" "
      ]
     },
     "metadata": {},
     "output_type": "display_data"
    }
   ],
   "source": [
    "pc2_rank_gene_score<- sort(pc2_gene_scores, decreasing=TRUE)\n",
    "pc2_top_10_genes <- names(pc2_rank_gene_score[1:10])\n",
    "pc2_top_10_genes\n",
    "pc2_top_10_genes = pca$rotation[pc2_top_10_genes,1]\n",
    "\n",
    "write.table(pc2_top_10_genes, file = \"pc2_top10genes.txt\", sep =\"\\t\", col.names=NA)\n",
    "class(matrix) "
   ]
  },
  {
   "cell_type": "code",
   "execution_count": 8,
   "id": "5b577521-80c8-464d-abf2-9a16e3c8aa83",
   "metadata": {
    "tags": []
   },
   "outputs": [
    {
     "name": "stderr",
     "output_type": "stream",
     "text": [
      "Loading required package: S4Vectors\n",
      "\n",
      "Loading required package: stats4\n",
      "\n",
      "Loading required package: BiocGenerics\n",
      "\n",
      "\n",
      "Attaching package: ‘BiocGenerics’\n",
      "\n",
      "\n",
      "The following object is masked from ‘package:limma’:\n",
      "\n",
      "    plotMA\n",
      "\n",
      "\n",
      "The following objects are masked from ‘package:stats’:\n",
      "\n",
      "    IQR, mad, sd, var, xtabs\n",
      "\n",
      "\n",
      "The following objects are masked from ‘package:base’:\n",
      "\n",
      "    Filter, Find, Map, Position, Reduce, anyDuplicated, append,\n",
      "    as.data.frame, basename, cbind, colnames, dirname, do.call,\n",
      "    duplicated, eval, evalq, get, grep, grepl, intersect, is.unsorted,\n",
      "    lapply, mapply, match, mget, order, paste, pmax, pmax.int, pmin,\n",
      "    pmin.int, rank, rbind, rownames, sapply, setdiff, sort, table,\n",
      "    tapply, union, unique, unsplit, which.max, which.min\n",
      "\n",
      "\n",
      "\n",
      "Attaching package: ‘S4Vectors’\n",
      "\n",
      "\n",
      "The following objects are masked from ‘package:base’:\n",
      "\n",
      "    I, expand.grid, unname\n",
      "\n",
      "\n",
      "Loading required package: IRanges\n",
      "\n",
      "Loading required package: GenomicRanges\n",
      "\n",
      "Loading required package: GenomeInfoDb\n",
      "\n",
      "Loading required package: SummarizedExperiment\n",
      "\n",
      "Loading required package: MatrixGenerics\n",
      "\n",
      "Loading required package: matrixStats\n",
      "\n",
      "\n",
      "Attaching package: ‘MatrixGenerics’\n",
      "\n",
      "\n",
      "The following objects are masked from ‘package:matrixStats’:\n",
      "\n",
      "    colAlls, colAnyNAs, colAnys, colAvgsPerRowSet, colCollapse,\n",
      "    colCounts, colCummaxs, colCummins, colCumprods, colCumsums,\n",
      "    colDiffs, colIQRDiffs, colIQRs, colLogSumExps, colMadDiffs,\n",
      "    colMads, colMaxs, colMeans2, colMedians, colMins, colOrderStats,\n",
      "    colProds, colQuantiles, colRanges, colRanks, colSdDiffs, colSds,\n",
      "    colSums2, colTabulates, colVarDiffs, colVars, colWeightedMads,\n",
      "    colWeightedMeans, colWeightedMedians, colWeightedSds,\n",
      "    colWeightedVars, rowAlls, rowAnyNAs, rowAnys, rowAvgsPerColSet,\n",
      "    rowCollapse, rowCounts, rowCummaxs, rowCummins, rowCumprods,\n",
      "    rowCumsums, rowDiffs, rowIQRDiffs, rowIQRs, rowLogSumExps,\n",
      "    rowMadDiffs, rowMads, rowMaxs, rowMeans2, rowMedians, rowMins,\n",
      "    rowOrderStats, rowProds, rowQuantiles, rowRanges, rowRanks,\n",
      "    rowSdDiffs, rowSds, rowSums2, rowTabulates, rowVarDiffs, rowVars,\n",
      "    rowWeightedMads, rowWeightedMeans, rowWeightedMedians,\n",
      "    rowWeightedSds, rowWeightedVars\n",
      "\n",
      "\n",
      "Loading required package: Biobase\n",
      "\n",
      "Welcome to Bioconductor\n",
      "\n",
      "    Vignettes contain introductory material; view with\n",
      "    'browseVignettes()'. To cite Bioconductor, see\n",
      "    'citation(\"Biobase\")', and for packages 'citation(\"pkgname\")'.\n",
      "\n",
      "\n",
      "\n",
      "Attaching package: ‘Biobase’\n",
      "\n",
      "\n",
      "The following object is masked from ‘package:MatrixGenerics’:\n",
      "\n",
      "    rowMedians\n",
      "\n",
      "\n",
      "The following objects are masked from ‘package:matrixStats’:\n",
      "\n",
      "    anyMissing, rowMedians\n",
      "\n",
      "\n"
     ]
    },
    {
     "data": {
      "text/html": [
       "<table class=\"dataframe\">\n",
       "<caption>A data.frame: 6 × 6</caption>\n",
       "<thead>\n",
       "\t<tr><th></th><th scope=col>H1975_DMSO_1</th><th scope=col>H1975_DMSO_2</th><th scope=col>H1975_DMSO_3</th><th scope=col>H1975_osi_DTP_1</th><th scope=col>H1975_osi_DTP_2</th><th scope=col>H1975_osi_DTP_3</th></tr>\n",
       "\t<tr><th></th><th scope=col>&lt;int&gt;</th><th scope=col>&lt;int&gt;</th><th scope=col>&lt;int&gt;</th><th scope=col>&lt;int&gt;</th><th scope=col>&lt;int&gt;</th><th scope=col>&lt;int&gt;</th></tr>\n",
       "</thead>\n",
       "<tbody>\n",
       "\t<tr><th scope=row>1</th><td>788</td><td>436</td><td>624</td><td>888</td><td>851</td><td>850</td></tr>\n",
       "\t<tr><th scope=row>2</th><td>  5</td><td> 12</td><td>  0</td><td>  0</td><td>  8</td><td>  9</td></tr>\n",
       "\t<tr><th scope=row>3</th><td>  0</td><td>  0</td><td>  0</td><td>124</td><td> 44</td><td> 21</td></tr>\n",
       "\t<tr><th scope=row>4</th><td> 10</td><td> 38</td><td> 17</td><td> 10</td><td> 12</td><td> 18</td></tr>\n",
       "\t<tr><th scope=row>5</th><td>  1</td><td>  0</td><td>  2</td><td>  2</td><td>  3</td><td>  3</td></tr>\n",
       "\t<tr><th scope=row>6</th><td>564</td><td>340</td><td>409</td><td>668</td><td>655</td><td>631</td></tr>\n",
       "</tbody>\n",
       "</table>\n"
      ],
      "text/latex": [
       "A data.frame: 6 × 6\n",
       "\\begin{tabular}{r|llllll}\n",
       "  & H1975\\_DMSO\\_1 & H1975\\_DMSO\\_2 & H1975\\_DMSO\\_3 & H1975\\_osi\\_DTP\\_1 & H1975\\_osi\\_DTP\\_2 & H1975\\_osi\\_DTP\\_3\\\\\n",
       "  & <int> & <int> & <int> & <int> & <int> & <int>\\\\\n",
       "\\hline\n",
       "\t1 & 788 & 436 & 624 & 888 & 851 & 850\\\\\n",
       "\t2 &   5 &  12 &   0 &   0 &   8 &   9\\\\\n",
       "\t3 &   0 &   0 &   0 & 124 &  44 &  21\\\\\n",
       "\t4 &  10 &  38 &  17 &  10 &  12 &  18\\\\\n",
       "\t5 &   1 &   0 &   2 &   2 &   3 &   3\\\\\n",
       "\t6 & 564 & 340 & 409 & 668 & 655 & 631\\\\\n",
       "\\end{tabular}\n"
      ],
      "text/markdown": [
       "\n",
       "A data.frame: 6 × 6\n",
       "\n",
       "| <!--/--> | H1975_DMSO_1 &lt;int&gt; | H1975_DMSO_2 &lt;int&gt; | H1975_DMSO_3 &lt;int&gt; | H1975_osi_DTP_1 &lt;int&gt; | H1975_osi_DTP_2 &lt;int&gt; | H1975_osi_DTP_3 &lt;int&gt; |\n",
       "|---|---|---|---|---|---|---|\n",
       "| 1 | 788 | 436 | 624 | 888 | 851 | 850 |\n",
       "| 2 |   5 |  12 |   0 |   0 |   8 |   9 |\n",
       "| 3 |   0 |   0 |   0 | 124 |  44 |  21 |\n",
       "| 4 |  10 |  38 |  17 |  10 |  12 |  18 |\n",
       "| 5 |   1 |   0 |   2 |   2 |   3 |   3 |\n",
       "| 6 | 564 | 340 | 409 | 668 | 655 | 631 |\n",
       "\n"
      ],
      "text/plain": [
       "  H1975_DMSO_1 H1975_DMSO_2 H1975_DMSO_3 H1975_osi_DTP_1 H1975_osi_DTP_2\n",
       "1 788          436          624          888             851            \n",
       "2   5           12            0            0               8            \n",
       "3   0            0            0          124              44            \n",
       "4  10           38           17           10              12            \n",
       "5   1            0            2            2               3            \n",
       "6 564          340          409          668             655            \n",
       "  H1975_osi_DTP_3\n",
       "1 850            \n",
       "2   9            \n",
       "3  21            \n",
       "4  18            \n",
       "5   3            \n",
       "6 631            "
      ]
     },
     "metadata": {},
     "output_type": "display_data"
    },
    {
     "name": "stderr",
     "output_type": "stream",
     "text": [
      "estimating size factors\n",
      "\n",
      "estimating dispersions\n",
      "\n",
      "gene-wise dispersion estimates\n",
      "\n",
      "mean-dispersion relationship\n",
      "\n",
      "final dispersion estimates\n",
      "\n",
      "fitting model and testing\n",
      "\n"
     ]
    },
    {
     "data": {
      "text/html": [
       "<table class=\"dataframe\">\n",
       "<caption>A data.frame: 6 × 7</caption>\n",
       "<thead>\n",
       "\t<tr><th></th><th scope=col>baseMean</th><th scope=col>log2FoldChange</th><th scope=col>lfcSE</th><th scope=col>stat</th><th scope=col>pvalue</th><th scope=col>padj</th><th scope=col>gene</th></tr>\n",
       "\t<tr><th></th><th scope=col>&lt;dbl&gt;</th><th scope=col>&lt;dbl&gt;</th><th scope=col>&lt;dbl&gt;</th><th scope=col>&lt;dbl&gt;</th><th scope=col>&lt;dbl&gt;</th><th scope=col>&lt;dbl&gt;</th><th scope=col>&lt;chr&gt;</th></tr>\n",
       "</thead>\n",
       "<tbody>\n",
       "\t<tr><th scope=row>1</th><td>735.660787</td><td> 0.49501760</td><td>0.2094534</td><td> 2.363377630</td><td>1.810921e-02</td><td>4.360523e-02</td><td>A1BG   </td></tr>\n",
       "\t<tr><th scope=row>2</th><td>  5.677788</td><td>-0.01118102</td><td>1.6634579</td><td>-0.006721551</td><td>9.946370e-01</td><td>9.975953e-01</td><td>A1CF   </td></tr>\n",
       "\t<tr><th scope=row>3</th><td> 31.190673</td><td> 8.40672897</td><td>1.4061637</td><td> 5.978485321</td><td>2.252219e-09</td><td>2.435139e-08</td><td>A2M    </td></tr>\n",
       "\t<tr><th scope=row>4</th><td> 17.783363</td><td>-0.71392496</td><td>0.7695154</td><td>-0.927759115</td><td>3.535325e-01</td><td>4.921508e-01</td><td>A2ML1  </td></tr>\n",
       "\t<tr><th scope=row>5</th><td>  1.827968</td><td> 1.40932018</td><td>1.9393552</td><td> 0.726695247</td><td>4.674127e-01</td><td>6.050703e-01</td><td>A3GALT2</td></tr>\n",
       "\t<tr><th scope=row>6</th><td>541.280267</td><td> 0.58035512</td><td>0.1984846</td><td> 2.923930673</td><td>3.456417e-03</td><td>1.030488e-02</td><td>A4GALT </td></tr>\n",
       "</tbody>\n",
       "</table>\n"
      ],
      "text/latex": [
       "A data.frame: 6 × 7\n",
       "\\begin{tabular}{r|lllllll}\n",
       "  & baseMean & log2FoldChange & lfcSE & stat & pvalue & padj & gene\\\\\n",
       "  & <dbl> & <dbl> & <dbl> & <dbl> & <dbl> & <dbl> & <chr>\\\\\n",
       "\\hline\n",
       "\t1 & 735.660787 &  0.49501760 & 0.2094534 &  2.363377630 & 1.810921e-02 & 4.360523e-02 & A1BG   \\\\\n",
       "\t2 &   5.677788 & -0.01118102 & 1.6634579 & -0.006721551 & 9.946370e-01 & 9.975953e-01 & A1CF   \\\\\n",
       "\t3 &  31.190673 &  8.40672897 & 1.4061637 &  5.978485321 & 2.252219e-09 & 2.435139e-08 & A2M    \\\\\n",
       "\t4 &  17.783363 & -0.71392496 & 0.7695154 & -0.927759115 & 3.535325e-01 & 4.921508e-01 & A2ML1  \\\\\n",
       "\t5 &   1.827968 &  1.40932018 & 1.9393552 &  0.726695247 & 4.674127e-01 & 6.050703e-01 & A3GALT2\\\\\n",
       "\t6 & 541.280267 &  0.58035512 & 0.1984846 &  2.923930673 & 3.456417e-03 & 1.030488e-02 & A4GALT \\\\\n",
       "\\end{tabular}\n"
      ],
      "text/markdown": [
       "\n",
       "A data.frame: 6 × 7\n",
       "\n",
       "| <!--/--> | baseMean &lt;dbl&gt; | log2FoldChange &lt;dbl&gt; | lfcSE &lt;dbl&gt; | stat &lt;dbl&gt; | pvalue &lt;dbl&gt; | padj &lt;dbl&gt; | gene &lt;chr&gt; |\n",
       "|---|---|---|---|---|---|---|---|\n",
       "| 1 | 735.660787 |  0.49501760 | 0.2094534 |  2.363377630 | 1.810921e-02 | 4.360523e-02 | A1BG    |\n",
       "| 2 |   5.677788 | -0.01118102 | 1.6634579 | -0.006721551 | 9.946370e-01 | 9.975953e-01 | A1CF    |\n",
       "| 3 |  31.190673 |  8.40672897 | 1.4061637 |  5.978485321 | 2.252219e-09 | 2.435139e-08 | A2M     |\n",
       "| 4 |  17.783363 | -0.71392496 | 0.7695154 | -0.927759115 | 3.535325e-01 | 4.921508e-01 | A2ML1   |\n",
       "| 5 |   1.827968 |  1.40932018 | 1.9393552 |  0.726695247 | 4.674127e-01 | 6.050703e-01 | A3GALT2 |\n",
       "| 6 | 541.280267 |  0.58035512 | 0.1984846 |  2.923930673 | 3.456417e-03 | 1.030488e-02 | A4GALT  |\n",
       "\n"
      ],
      "text/plain": [
       "  baseMean   log2FoldChange lfcSE     stat         pvalue       padj        \n",
       "1 735.660787  0.49501760    0.2094534  2.363377630 1.810921e-02 4.360523e-02\n",
       "2   5.677788 -0.01118102    1.6634579 -0.006721551 9.946370e-01 9.975953e-01\n",
       "3  31.190673  8.40672897    1.4061637  5.978485321 2.252219e-09 2.435139e-08\n",
       "4  17.783363 -0.71392496    0.7695154 -0.927759115 3.535325e-01 4.921508e-01\n",
       "5   1.827968  1.40932018    1.9393552  0.726695247 4.674127e-01 6.050703e-01\n",
       "6 541.280267  0.58035512    0.1984846  2.923930673 3.456417e-03 1.030488e-02\n",
       "  gene   \n",
       "1 A1BG   \n",
       "2 A1CF   \n",
       "3 A2M    \n",
       "4 A2ML1  \n",
       "5 A3GALT2\n",
       "6 A4GALT "
      ]
     },
     "metadata": {},
     "output_type": "display_data"
    },
    {
     "data": {
      "text/html": [
       "<table class=\"dataframe\">\n",
       "<caption>A data.frame: 6 × 7</caption>\n",
       "<thead>\n",
       "\t<tr><th></th><th scope=col>baseMean</th><th scope=col>log2FoldChange</th><th scope=col>lfcSE</th><th scope=col>stat</th><th scope=col>pvalue</th><th scope=col>padj</th><th scope=col>gene</th></tr>\n",
       "\t<tr><th></th><th scope=col>&lt;dbl&gt;</th><th scope=col>&lt;dbl&gt;</th><th scope=col>&lt;dbl&gt;</th><th scope=col>&lt;dbl&gt;</th><th scope=col>&lt;dbl&gt;</th><th scope=col>&lt;dbl&gt;</th><th scope=col>&lt;chr&gt;</th></tr>\n",
       "</thead>\n",
       "<tbody>\n",
       "\t<tr><th scope=row>3</th><td> 31.19067</td><td> 8.406729</td><td>1.4061637</td><td> 5.978485</td><td>2.252219e-09</td><td>2.435139e-08</td><td>A2M  </td></tr>\n",
       "\t<tr><th scope=row>14</th><td>519.24891</td><td>-1.185638</td><td>0.1758240</td><td>-6.743319</td><td>1.548084e-11</td><td>2.373160e-10</td><td>AADAT</td></tr>\n",
       "\t<tr><th scope=row>17</th><td>443.60869</td><td> 1.354595</td><td>0.2163098</td><td> 6.262289</td><td>3.793659e-10</td><td>4.656717e-09</td><td>AAMDC</td></tr>\n",
       "\t<tr><th scope=row>19</th><td> 43.91813</td><td>-3.340325</td><td>0.5007026</td><td>-6.671275</td><td>2.535904e-11</td><td>3.779855e-10</td><td>AANAT</td></tr>\n",
       "\t<tr><th scope=row>27</th><td> 95.45950</td><td> 3.027056</td><td>0.4494267</td><td> 6.735371</td><td>1.635122e-11</td><td>2.504287e-10</td><td>AASS </td></tr>\n",
       "\t<tr><th scope=row>30</th><td>417.24621</td><td> 1.405086</td><td>0.2461975</td><td> 5.707149</td><td>1.148844e-08</td><td>1.079280e-07</td><td>ABAT </td></tr>\n",
       "</tbody>\n",
       "</table>\n"
      ],
      "text/latex": [
       "A data.frame: 6 × 7\n",
       "\\begin{tabular}{r|lllllll}\n",
       "  & baseMean & log2FoldChange & lfcSE & stat & pvalue & padj & gene\\\\\n",
       "  & <dbl> & <dbl> & <dbl> & <dbl> & <dbl> & <dbl> & <chr>\\\\\n",
       "\\hline\n",
       "\t3 &  31.19067 &  8.406729 & 1.4061637 &  5.978485 & 2.252219e-09 & 2.435139e-08 & A2M  \\\\\n",
       "\t14 & 519.24891 & -1.185638 & 0.1758240 & -6.743319 & 1.548084e-11 & 2.373160e-10 & AADAT\\\\\n",
       "\t17 & 443.60869 &  1.354595 & 0.2163098 &  6.262289 & 3.793659e-10 & 4.656717e-09 & AAMDC\\\\\n",
       "\t19 &  43.91813 & -3.340325 & 0.5007026 & -6.671275 & 2.535904e-11 & 3.779855e-10 & AANAT\\\\\n",
       "\t27 &  95.45950 &  3.027056 & 0.4494267 &  6.735371 & 1.635122e-11 & 2.504287e-10 & AASS \\\\\n",
       "\t30 & 417.24621 &  1.405086 & 0.2461975 &  5.707149 & 1.148844e-08 & 1.079280e-07 & ABAT \\\\\n",
       "\\end{tabular}\n"
      ],
      "text/markdown": [
       "\n",
       "A data.frame: 6 × 7\n",
       "\n",
       "| <!--/--> | baseMean &lt;dbl&gt; | log2FoldChange &lt;dbl&gt; | lfcSE &lt;dbl&gt; | stat &lt;dbl&gt; | pvalue &lt;dbl&gt; | padj &lt;dbl&gt; | gene &lt;chr&gt; |\n",
       "|---|---|---|---|---|---|---|---|\n",
       "| 3 |  31.19067 |  8.406729 | 1.4061637 |  5.978485 | 2.252219e-09 | 2.435139e-08 | A2M   |\n",
       "| 14 | 519.24891 | -1.185638 | 0.1758240 | -6.743319 | 1.548084e-11 | 2.373160e-10 | AADAT |\n",
       "| 17 | 443.60869 |  1.354595 | 0.2163098 |  6.262289 | 3.793659e-10 | 4.656717e-09 | AAMDC |\n",
       "| 19 |  43.91813 | -3.340325 | 0.5007026 | -6.671275 | 2.535904e-11 | 3.779855e-10 | AANAT |\n",
       "| 27 |  95.45950 |  3.027056 | 0.4494267 |  6.735371 | 1.635122e-11 | 2.504287e-10 | AASS  |\n",
       "| 30 | 417.24621 |  1.405086 | 0.2461975 |  5.707149 | 1.148844e-08 | 1.079280e-07 | ABAT  |\n",
       "\n"
      ],
      "text/plain": [
       "   baseMean  log2FoldChange lfcSE     stat      pvalue       padj         gene \n",
       "3   31.19067  8.406729      1.4061637  5.978485 2.252219e-09 2.435139e-08 A2M  \n",
       "14 519.24891 -1.185638      0.1758240 -6.743319 1.548084e-11 2.373160e-10 AADAT\n",
       "17 443.60869  1.354595      0.2163098  6.262289 3.793659e-10 4.656717e-09 AAMDC\n",
       "19  43.91813 -3.340325      0.5007026 -6.671275 2.535904e-11 3.779855e-10 AANAT\n",
       "27  95.45950  3.027056      0.4494267  6.735371 1.635122e-11 2.504287e-10 AASS \n",
       "30 417.24621  1.405086      0.2461975  5.707149 1.148844e-08 1.079280e-07 ABAT "
      ]
     },
     "metadata": {},
     "output_type": "display_data"
    },
    {
     "data": {
      "text/html": [
       "<style>\n",
       ".list-inline {list-style: none; margin:0; padding: 0}\n",
       ".list-inline>li {display: inline-block}\n",
       ".list-inline>li:not(:last-child)::after {content: \"\\00b7\"; padding: 0 .5ex}\n",
       "</style>\n",
       "<ol class=list-inline><li>2778</li><li>7</li></ol>\n"
      ],
      "text/latex": [
       "\\begin{enumerate*}\n",
       "\\item 2778\n",
       "\\item 7\n",
       "\\end{enumerate*}\n"
      ],
      "text/markdown": [
       "1. 2778\n",
       "2. 7\n",
       "\n",
       "\n"
      ],
      "text/plain": [
       "[1] 2778    7"
      ]
     },
     "metadata": {},
     "output_type": "display_data"
    }
   ],
   "source": [
    "\n",
    "#BiocManager::install(\"DESeq2\")\n",
    "library(DESeq2)\n",
    "treated=counts_1\n",
    "treated=as.data.frame(lapply(treated, as.integer))\n",
    "head(treated)\n",
    "matrix_treated=as.matrix(treated)\n",
    "coldata=data.frame(samples=dimnames(matrix_treated)[[2]], condition=factor(c(rep(\"ctrl\",3), rep(\"treat\",3))))\n",
    "dds=DESeqDataSetFromMatrix(countData = matrix_treated, colData = coldata, design = ~condition)\n",
    "dds=DESeq(dds) \n",
    "res=results(dds)\n",
    "results_df=as.data.frame(res)\n",
    "results_df$gene=counts$gene\n",
    "head(results_df)\n",
    "results_df=results_df[!is.na(results_df$log2FoldChange),]\n",
    "results_df=results_df[which((results_df$padj<=0.05) &(abs(results_df$log2FoldChange)>=1)),]\n",
    "head(results_df)\n",
    "dim(results_df)\n"
   ]
  },
  {
   "cell_type": "code",
   "execution_count": 9,
   "id": "ab8a8b1b-09f0-496a-9b56-7548dfcaa32a",
   "metadata": {
    "tags": []
   },
   "outputs": [
    {
     "name": "stderr",
     "output_type": "stream",
     "text": [
      "\u001b[1m\u001b[22mSaving 6.67 x 6.67 in image\n",
      "\n",
      "Attaching package: ‘dplyr’\n",
      "\n",
      "\n",
      "The following object is masked from ‘package:Biobase’:\n",
      "\n",
      "    combine\n",
      "\n",
      "\n",
      "The following object is masked from ‘package:matrixStats’:\n",
      "\n",
      "    count\n",
      "\n",
      "\n",
      "The following objects are masked from ‘package:GenomicRanges’:\n",
      "\n",
      "    intersect, setdiff, union\n",
      "\n",
      "\n",
      "The following object is masked from ‘package:GenomeInfoDb’:\n",
      "\n",
      "    intersect\n",
      "\n",
      "\n",
      "The following objects are masked from ‘package:IRanges’:\n",
      "\n",
      "    collapse, desc, intersect, setdiff, slice, union\n",
      "\n",
      "\n",
      "The following objects are masked from ‘package:S4Vectors’:\n",
      "\n",
      "    first, intersect, rename, setdiff, setequal, union\n",
      "\n",
      "\n",
      "The following objects are masked from ‘package:BiocGenerics’:\n",
      "\n",
      "    combine, intersect, setdiff, union\n",
      "\n",
      "\n",
      "The following objects are masked from ‘package:stats’:\n",
      "\n",
      "    filter, lag\n",
      "\n",
      "\n",
      "The following objects are masked from ‘package:base’:\n",
      "\n",
      "    intersect, setdiff, setequal, union\n",
      "\n",
      "\n"
     ]
    },
    {
     "data": {
      "text/html": [
       "<style>\n",
       ".list-inline {list-style: none; margin:0; padding: 0}\n",
       ".list-inline>li {display: inline-block}\n",
       ".list-inline>li:not(:last-child)::after {content: \"\\00b7\"; padding: 0 .5ex}\n",
       "</style>\n",
       "<ol class=list-inline><li>'A2M'</li><li>'AAMDC'</li><li>'AASS'</li><li>'ABAT'</li><li>'ABCA5'</li><li>'ABCB1'</li></ol>\n"
      ],
      "text/latex": [
       "\\begin{enumerate*}\n",
       "\\item 'A2M'\n",
       "\\item 'AAMDC'\n",
       "\\item 'AASS'\n",
       "\\item 'ABAT'\n",
       "\\item 'ABCA5'\n",
       "\\item 'ABCB1'\n",
       "\\end{enumerate*}\n"
      ],
      "text/markdown": [
       "1. 'A2M'\n",
       "2. 'AAMDC'\n",
       "3. 'AASS'\n",
       "4. 'ABAT'\n",
       "5. 'ABCA5'\n",
       "6. 'ABCB1'\n",
       "\n",
       "\n"
      ],
      "text/plain": [
       "[1] \"A2M\"   \"AAMDC\" \"AASS\"  \"ABAT\"  \"ABCA5\" \"ABCB1\""
      ]
     },
     "metadata": {},
     "output_type": "display_data"
    },
    {
     "data": {
      "text/html": [
       "<table class=\"dataframe\">\n",
       "<caption>A data.frame: 6 × 1</caption>\n",
       "<thead>\n",
       "\t<tr><th></th><th scope=col>pos_deg</th></tr>\n",
       "\t<tr><th></th><th scope=col>&lt;chr&gt;</th></tr>\n",
       "</thead>\n",
       "<tbody>\n",
       "\t<tr><th scope=row>1</th><td>A2M  </td></tr>\n",
       "\t<tr><th scope=row>2</th><td>AAMDC</td></tr>\n",
       "\t<tr><th scope=row>3</th><td>AASS </td></tr>\n",
       "\t<tr><th scope=row>4</th><td>ABAT </td></tr>\n",
       "\t<tr><th scope=row>5</th><td>ABCA5</td></tr>\n",
       "\t<tr><th scope=row>6</th><td>ABCB1</td></tr>\n",
       "</tbody>\n",
       "</table>\n"
      ],
      "text/latex": [
       "A data.frame: 6 × 1\n",
       "\\begin{tabular}{r|l}\n",
       "  & pos\\_deg\\\\\n",
       "  & <chr>\\\\\n",
       "\\hline\n",
       "\t1 & A2M  \\\\\n",
       "\t2 & AAMDC\\\\\n",
       "\t3 & AASS \\\\\n",
       "\t4 & ABAT \\\\\n",
       "\t5 & ABCA5\\\\\n",
       "\t6 & ABCB1\\\\\n",
       "\\end{tabular}\n"
      ],
      "text/markdown": [
       "\n",
       "A data.frame: 6 × 1\n",
       "\n",
       "| <!--/--> | pos_deg &lt;chr&gt; |\n",
       "|---|---|\n",
       "| 1 | A2M   |\n",
       "| 2 | AAMDC |\n",
       "| 3 | AASS  |\n",
       "| 4 | ABAT  |\n",
       "| 5 | ABCA5 |\n",
       "| 6 | ABCB1 |\n",
       "\n"
      ],
      "text/plain": [
       "  pos_deg\n",
       "1 A2M    \n",
       "2 AAMDC  \n",
       "3 AASS   \n",
       "4 ABAT   \n",
       "5 ABCA5  \n",
       "6 ABCB1  "
      ]
     },
     "metadata": {},
     "output_type": "display_data"
    },
    {
     "data": {
      "image/png": "[encoded data removed]",
      "text/plain": [
       "plot without title"
      ]
     },
     "metadata": {
      "image/png": {
       "height": 420,
       "width": 420
      }
     },
     "output_type": "display_data"
    }
   ],
   "source": [
    "library(ggplot2)\n",
    "\n",
    "ggplot(results_df, aes(x = log2FoldChange, y = padj)) +\n",
    "  geom_point() +\n",
    "  labs(title = \"Volcano Plot\", x = \"Log Fold Change\", y = \"-log10(P-value)\")\n",
    "ggsave(filename=\"H1975_Volcano.int.pdf\")\n",
    "\n",
    "#Enriched functional features\n",
    "\n",
    "gene_list=results_df$gene\n",
    "\n",
    "\n",
    "gene_list=as.data.frame(gene_list)\n",
    "\n",
    "library(dplyr)\n",
    "positive_genes <- dplyr::filter(results_df, log2FoldChange >0)\n",
    "negative_genes<- dplyr::filter(results_df, log2FoldChange <0)\n",
    "\n",
    "pos_deg <- positive_genes$gene\n",
    "\n",
    "\n",
    "head(pos_deg)\n",
    "neg_deg <-  negative_genes$gene\n",
    "\n",
    "writeLines(pos_deg, \"pos.DEG.int.txt\")\n",
    "writeLines(neg_deg, \"neg.DEG.int.txt\")\n",
    "pos_deg=as.data.frame(pos_deg)\n",
    "neg_deg=as.data.frame(neg_deg)\n",
    "head(pos_deg)\n"
   ]
  },
  {
   "cell_type": "code",
   "execution_count": 11,
   "id": "9ad8ebbb-b254-4890-aef6-0e0c96e8e9ae",
   "metadata": {
    "tags": []
   },
   "outputs": [],
   "source": [
    "#install.packages(\"readxl\")\n",
    "library(readxl)\n",
    "data_pos <- read_excel(\"/bin/Exam/Pos_deg_analysis.xltx\")"
   ]
  },
  {
   "cell_type": "code",
   "execution_count": 12,
   "id": "3a31fc16-3c72-4e49-a60a-296e940dd235",
   "metadata": {
    "tags": []
   },
   "outputs": [
    {
     "data": {
      "text/html": [
       "'numeric'"
      ],
      "text/latex": [
       "'numeric'"
      ],
      "text/markdown": [
       "'numeric'"
      ],
      "text/plain": [
       "[1] \"numeric\""
      ]
     },
     "metadata": {},
     "output_type": "display_data"
    }
   ],
   "source": [
    "data_pos=as.data.frame(data_pos)\n",
    "data_pos$`raw P-value`=as.numeric(data_pos$`raw P-value`)\n",
    "class(data_pos$`raw P-value`)"
   ]
  },
  {
   "cell_type": "code",
   "execution_count": 13,
   "id": "bb0d24b2-aca5-4a55-b024-c6715ae50136",
   "metadata": {
    "tags": []
   },
   "outputs": [],
   "source": [
    "data_ggp1 <- data.frame(data_pos$`GO biological process complete`[1:20], data_pos$`fold Enrichment`[1:20], -log(data_pos$`raw P-value`[1:20]))"
   ]
  },
  {
   "cell_type": "code",
   "execution_count": 14,
   "id": "56d950fe-e974-420a-8a57-f856c8ccb658",
   "metadata": {
    "tags": []
   },
   "outputs": [],
   "source": [
    "colnames(data_ggp1) = c(\"biological_process\", \"fold_enrichment\", \"log_p_value\")"
   ]
  },
  {
   "cell_type": "code",
   "execution_count": 15,
   "id": "00f11516-e200-4745-b654-9ba6b005b3c3",
   "metadata": {
    "tags": []
   },
   "outputs": [
    {
     "name": "stderr",
     "output_type": "stream",
     "text": [
      "\u001b[1m\u001b[22mSaving 6.67 x 6.67 in image\n"
     ]
    },
    {
     "data": {
      "image/png": "[encoded data removed]",
      "text/plain": [
       "plot without title"
      ]
     },
     "metadata": {
      "image/png": {
       "height": 420,
       "width": 420
      }
     },
     "output_type": "display_data"
    }
   ],
   "source": [
    "ggplot(data_ggp1) + \n",
    "  geom_bar(stat = \"identity\", \n",
    "           aes(y=fold_enrichment,x=biological_process, fill=log_p_value)) +\n",
    "  labs(fill=\"log_p_value\") +\n",
    "  theme(legend.position =c(\"bottom\"),\n",
    "        legend.box=\"horizontal\", \n",
    "        legend.text = element_text(size = 9),\n",
    "        legend.key.height = unit(0.75, \"cm\"),\n",
    "        legend.key.width = unit(0.75, \"cm\"),\n",
    "        axis.text=element_text(size=7)) +\n",
    "  scale_x_discrete() +\n",
    "  labs(title=\"GO posint\", \n",
    "       y=\"fold enrichment\", \n",
    "       x=\"Biological process\") + \n",
    "  coord_flip()\n",
    "ggsave(filename=\"GOposdegint.pdf\")\n"
   ]
  },
  {
   "cell_type": "code",
   "execution_count": 16,
   "id": "f515c461-2709-4ea6-b675-abec56b38fb2",
   "metadata": {
    "tags": []
   },
   "outputs": [
    {
     "data": {
      "text/html": [
       "'numeric'"
      ],
      "text/latex": [
       "'numeric'"
      ],
      "text/markdown": [
       "'numeric'"
      ],
      "text/plain": [
       "[1] \"numeric\""
      ]
     },
     "metadata": {},
     "output_type": "display_data"
    },
    {
     "data": {
      "text/html": [
       "<style>\n",
       ".list-inline {list-style: none; margin:0; padding: 0}\n",
       ".list-inline>li {display: inline-block}\n",
       ".list-inline>li:not(:last-child)::after {content: \"\\00b7\"; padding: 0 .5ex}\n",
       "</style>\n",
       "<ol class=list-inline><li>20</li><li>3</li></ol>\n"
      ],
      "text/latex": [
       "\\begin{enumerate*}\n",
       "\\item 20\n",
       "\\item 3\n",
       "\\end{enumerate*}\n"
      ],
      "text/markdown": [
       "1. 20\n",
       "2. 3\n",
       "\n",
       "\n"
      ],
      "text/plain": [
       "[1] 20  3"
      ]
     },
     "metadata": {},
     "output_type": "display_data"
    },
    {
     "name": "stderr",
     "output_type": "stream",
     "text": [
      "\u001b[1m\u001b[22mSaving 6.67 x 6.67 in image\n"
     ]
    },
    {
     "data": {
      "image/png": "[encoded data removed]",
      "text/plain": [
       "plot without title"
      ]
     },
     "metadata": {
      "image/png": {
       "height": 420,
       "width": 420
      }
     },
     "output_type": "display_data"
    }
   ],
   "source": [
    "data_neg <- read_excel(\"/bin/Exam/Neg_deg_analysis.xlt\")\n",
    "data_neg=as.data.frame(data_neg)\n",
    "data_neg$`raw P-value`=as.numeric(data_neg$`raw P-value`)\n",
    "class(data_neg$`raw P-value`)\n",
    "data_ggp2 <- data.frame(data_neg$`GO biological process complete`[1:20], data_neg$`fold Enrichment`[1:20], -log(data_neg$`raw P-value`[1:20]))\n",
    "colnames(data_ggp2) = c(\"biological_process\", \"fold_enrichment\", \"log_p_value\")\n",
    "dim(data_ggp2)\n",
    "\n",
    "ggplot(data_ggp2) + \n",
    "  geom_bar(stat = \"identity\", \n",
    "           aes(y=fold_enrichment,x=biological_process, fill=log_p_value)) +\n",
    "  labs(fill=\"log_p_value\") +\n",
    "  theme(legend.position =c(\"bottom\"),\n",
    "        legend.box=\"horizontal\", \n",
    "        legend.text = element_text(size = 9),\n",
    "        legend.key.height = unit(0.75, \"cm\"),\n",
    "        legend.key.width = unit(0.75, \"cm\"),\n",
    "        axis.text=element_text(size=7)) +\n",
    "  scale_x_discrete() +\n",
    "  labs(title=\"GO posint\", \n",
    "       y=\"fold enrichment\", \n",
    "       x=\"Biological process\") + \n",
    "  coord_flip()\n",
    "ggsave(filename=\"GOnegdegint.pdf\")\n"
   ]
  },
  {
   "cell_type": "code",
   "execution_count": 32,
   "id": "79cee64a-f2cc-4c1f-8e3d-9fd3de8ca4bd",
   "metadata": {
    "tags": []
   },
   "outputs": [
    {
     "data": {
      "text/html": [
       "<table class=\"dataframe\">\n",
       "<caption>A data.frame: 6 × 10</caption>\n",
       "<thead>\n",
       "\t<tr><th></th><th scope=col>V1</th><th scope=col>V2</th><th scope=col>V3</th><th scope=col>V4</th><th scope=col>V5</th><th scope=col>V6</th><th scope=col>V7</th><th scope=col>V8</th><th scope=col>V9</th><th scope=col>V10</th></tr>\n",
       "\t<tr><th></th><th scope=col>&lt;chr&gt;</th><th scope=col>&lt;int&gt;</th><th scope=col>&lt;int&gt;</th><th scope=col>&lt;chr&gt;</th><th scope=col>&lt;int&gt;</th><th scope=col>&lt;chr&gt;</th><th scope=col>&lt;dbl&gt;</th><th scope=col>&lt;dbl&gt;</th><th scope=col>&lt;dbl&gt;</th><th scope=col>&lt;int&gt;</th></tr>\n",
       "</thead>\n",
       "<tbody>\n",
       "\t<tr><th scope=row>1</th><td>chr1</td><td>903600</td><td>903817</td><td>X13_07BS_00YDAZ_H1975-Osim-1_H3K27Ac_hs_i53_peak_1</td><td> 23</td><td>.</td><td> 3.53702</td><td> 4.15945</td><td> 2.38870</td><td>152</td></tr>\n",
       "\t<tr><th scope=row>2</th><td>chr1</td><td>905094</td><td>905816</td><td>X13_07BS_00YDAZ_H1975-Osim-1_H3K27Ac_hs_i53_peak_2</td><td>120</td><td>.</td><td> 7.27846</td><td>14.21410</td><td>12.08320</td><td>177</td></tr>\n",
       "\t<tr><th scope=row>3</th><td>chr1</td><td>940469</td><td>940830</td><td>X13_07BS_00YDAZ_H1975-Osim-1_H3K27Ac_hs_i53_peak_3</td><td>191</td><td>.</td><td> 8.17650</td><td>21.41390</td><td>19.12180</td><td>183</td></tr>\n",
       "\t<tr><th scope=row>4</th><td>chr1</td><td>941027</td><td>941521</td><td>X13_07BS_00YDAZ_H1975-Osim-1_H3K27Ac_hs_i53_peak_4</td><td> 91</td><td>.</td><td> 4.69125</td><td>11.25050</td><td> 9.19753</td><td>173</td></tr>\n",
       "\t<tr><th scope=row>5</th><td>chr1</td><td>958548</td><td>959271</td><td>X13_07BS_00YDAZ_H1975-Osim-1_H3K27Ac_hs_i53_peak_5</td><td>227</td><td>.</td><td>11.18970</td><td>25.11720</td><td>22.75580</td><td>521</td></tr>\n",
       "\t<tr><th scope=row>6</th><td>chr1</td><td>964958</td><td>965171</td><td>X13_07BS_00YDAZ_H1975-Osim-1_H3K27Ac_hs_i53_peak_6</td><td> 25</td><td>.</td><td> 3.31341</td><td> 4.34612</td><td> 2.56258</td><td> 28</td></tr>\n",
       "</tbody>\n",
       "</table>\n"
      ],
      "text/latex": [
       "A data.frame: 6 × 10\n",
       "\\begin{tabular}{r|llllllllll}\n",
       "  & V1 & V2 & V3 & V4 & V5 & V6 & V7 & V8 & V9 & V10\\\\\n",
       "  & <chr> & <int> & <int> & <chr> & <int> & <chr> & <dbl> & <dbl> & <dbl> & <int>\\\\\n",
       "\\hline\n",
       "\t1 & chr1 & 903600 & 903817 & X13\\_07BS\\_00YDAZ\\_H1975-Osim-1\\_H3K27Ac\\_hs\\_i53\\_peak\\_1 &  23 & . &  3.53702 &  4.15945 &  2.38870 & 152\\\\\n",
       "\t2 & chr1 & 905094 & 905816 & X13\\_07BS\\_00YDAZ\\_H1975-Osim-1\\_H3K27Ac\\_hs\\_i53\\_peak\\_2 & 120 & . &  7.27846 & 14.21410 & 12.08320 & 177\\\\\n",
       "\t3 & chr1 & 940469 & 940830 & X13\\_07BS\\_00YDAZ\\_H1975-Osim-1\\_H3K27Ac\\_hs\\_i53\\_peak\\_3 & 191 & . &  8.17650 & 21.41390 & 19.12180 & 183\\\\\n",
       "\t4 & chr1 & 941027 & 941521 & X13\\_07BS\\_00YDAZ\\_H1975-Osim-1\\_H3K27Ac\\_hs\\_i53\\_peak\\_4 &  91 & . &  4.69125 & 11.25050 &  9.19753 & 173\\\\\n",
       "\t5 & chr1 & 958548 & 959271 & X13\\_07BS\\_00YDAZ\\_H1975-Osim-1\\_H3K27Ac\\_hs\\_i53\\_peak\\_5 & 227 & . & 11.18970 & 25.11720 & 22.75580 & 521\\\\\n",
       "\t6 & chr1 & 964958 & 965171 & X13\\_07BS\\_00YDAZ\\_H1975-Osim-1\\_H3K27Ac\\_hs\\_i53\\_peak\\_6 &  25 & . &  3.31341 &  4.34612 &  2.56258 &  28\\\\\n",
       "\\end{tabular}\n"
      ],
      "text/markdown": [
       "\n",
       "A data.frame: 6 × 10\n",
       "\n",
       "| <!--/--> | V1 &lt;chr&gt; | V2 &lt;int&gt; | V3 &lt;int&gt; | V4 &lt;chr&gt; | V5 &lt;int&gt; | V6 &lt;chr&gt; | V7 &lt;dbl&gt; | V8 &lt;dbl&gt; | V9 &lt;dbl&gt; | V10 &lt;int&gt; |\n",
       "|---|---|---|---|---|---|---|---|---|---|---|\n",
       "| 1 | chr1 | 903600 | 903817 | X13_07BS_00YDAZ_H1975-Osim-1_H3K27Ac_hs_i53_peak_1 |  23 | . |  3.53702 |  4.15945 |  2.38870 | 152 |\n",
       "| 2 | chr1 | 905094 | 905816 | X13_07BS_00YDAZ_H1975-Osim-1_H3K27Ac_hs_i53_peak_2 | 120 | . |  7.27846 | 14.21410 | 12.08320 | 177 |\n",
       "| 3 | chr1 | 940469 | 940830 | X13_07BS_00YDAZ_H1975-Osim-1_H3K27Ac_hs_i53_peak_3 | 191 | . |  8.17650 | 21.41390 | 19.12180 | 183 |\n",
       "| 4 | chr1 | 941027 | 941521 | X13_07BS_00YDAZ_H1975-Osim-1_H3K27Ac_hs_i53_peak_4 |  91 | . |  4.69125 | 11.25050 |  9.19753 | 173 |\n",
       "| 5 | chr1 | 958548 | 959271 | X13_07BS_00YDAZ_H1975-Osim-1_H3K27Ac_hs_i53_peak_5 | 227 | . | 11.18970 | 25.11720 | 22.75580 | 521 |\n",
       "| 6 | chr1 | 964958 | 965171 | X13_07BS_00YDAZ_H1975-Osim-1_H3K27Ac_hs_i53_peak_6 |  25 | . |  3.31341 |  4.34612 |  2.56258 |  28 |\n",
       "\n"
      ],
      "text/plain": [
       "  V1   V2     V3     V4                                                 V5  V6\n",
       "1 chr1 903600 903817 X13_07BS_00YDAZ_H1975-Osim-1_H3K27Ac_hs_i53_peak_1  23 . \n",
       "2 chr1 905094 905816 X13_07BS_00YDAZ_H1975-Osim-1_H3K27Ac_hs_i53_peak_2 120 . \n",
       "3 chr1 940469 940830 X13_07BS_00YDAZ_H1975-Osim-1_H3K27Ac_hs_i53_peak_3 191 . \n",
       "4 chr1 941027 941521 X13_07BS_00YDAZ_H1975-Osim-1_H3K27Ac_hs_i53_peak_4  91 . \n",
       "5 chr1 958548 959271 X13_07BS_00YDAZ_H1975-Osim-1_H3K27Ac_hs_i53_peak_5 227 . \n",
       "6 chr1 964958 965171 X13_07BS_00YDAZ_H1975-Osim-1_H3K27Ac_hs_i53_peak_6  25 . \n",
       "  V7       V8       V9       V10\n",
       "1  3.53702  4.15945  2.38870 152\n",
       "2  7.27846 14.21410 12.08320 177\n",
       "3  8.17650 21.41390 19.12180 183\n",
       "4  4.69125 11.25050  9.19753 173\n",
       "5 11.18970 25.11720 22.75580 521\n",
       "6  3.31341  4.34612  2.56258  28"
      ]
     },
     "metadata": {},
     "output_type": "display_data"
    }
   ],
   "source": [
    "#PART2\n",
    "\n",
    "# Set the path to the file narrowpeaks file\n",
    "Narrow_file_Osim_1 <- \"/bin/Exam/Osim-1_H3K27Ac_hs_i53_peaks.narrowPeak\"\n",
    "\n",
    "# Read the file into a data frame\n",
    "peaks_osim_1 <- read.delim(Narrow_file_Osim_1, header = FALSE, stringsAsFactors = FALSE)\n",
    "head(peaks_osim_1)\n",
    "library(readxl)\n",
    "\n",
    "\n",
    "colnames(neg_deg)[colnames(neg_deg)==\"neg_deg\"]=\"SYMBOL\"\n",
    "colnames(pos_deg)[colnames(pos_deg)==\"pos_deg\"]=\"SYMBOL\"\n"
   ]
  },
  {
   "cell_type": "code",
   "execution_count": 18,
   "id": "067182c6-2ad1-4c5b-9252-0088df9408d9",
   "metadata": {
    "tags": []
   },
   "outputs": [],
   "source": [
    "# Install and load the biomaRt package\n",
    "#BiocManager::install(\"biomaRt\")\n",
    "library(biomaRt)\n",
    "\n",
    "\n"
   ]
  },
  {
   "cell_type": "code",
   "execution_count": 36,
   "id": "99731527-ce8a-4a3b-ad77-b122cb5bb78e",
   "metadata": {
    "tags": []
   },
   "outputs": [],
   "source": [
    "library(biomaRt)\n",
    "ensembl <- useMart(\"ensembl\", dataset = \"hsapiens_gene_ensembl\")\n",
    "\n",
    "\n",
    "pos_gene_info <- getBM(attributes = c(\"external_gene_name\", \"chromosome_name\", \"start_position\", \"end_position\"),\n",
    "                       filters = \"external_gene_name\",\n",
    "                       values = pos_deg$SYMBOL,\n",
    "                       mart = ensembl)\n",
    "\n",
    "# Merge gene_df with gene_info based on gene symbol\n",
    "location_pos_genes<- merge(pos_deg, pos_gene_info, by.x = \"SYMBOL\", by.y = \"external_gene_name\")\n",
    "\n"
   ]
  },
  {
   "cell_type": "code",
   "execution_count": 27,
   "id": "7493e63d-910e-4ee3-b9a5-194373d6c7d9",
   "metadata": {
    "tags": []
   },
   "outputs": [],
   "source": [
    "library(biomaRt)\n",
    "\n",
    "ensembl <- useMart(\"ensembl\", dataset = \"hsapiens_gene_ensembl\")\n",
    "\n",
    "# Get gene annotation attributes for each gene symbol\n",
    "neg_gene_info <- getBM(attributes = c(\"external_gene_name\", \"chromosome_name\", \"start_position\", \"end_position\"),\n",
    "                       filters = \"external_gene_name\",\n",
    "                       values = neg_deg$SYMBOL,\n",
    "                       mart = ensembl)\n",
    "\n"
   ]
  },
  {
   "cell_type": "code",
   "execution_count": 28,
   "id": "e4b7385b-0cd1-4b9a-9558-9dc0f8331d44",
   "metadata": {
    "tags": []
   },
   "outputs": [],
   "source": [
    "location_neg_genes<- merge(neg_deg, neg_gene_info, by.x = \"SYMBOL\", by.y = \"external_gene_name\")"
   ]
  },
  {
   "cell_type": "code",
   "execution_count": 29,
   "id": "0139bacd-b666-483e-9ad4-4cde671493dc",
   "metadata": {
    "tags": []
   },
   "outputs": [],
   "source": [
    "write.table(location_pos_genes, file = \"location_pos_genes.txt\", sep = \"\\t\", row.names = FALSE)\n",
    "write.table(location_neg_genes, file = \"location_neg_genes.txt\", sep = \"\\t\", row.names = FALSE)"
   ]
  },
  {
   "cell_type": "code",
   "execution_count": 30,
   "id": "92721c16-33b6-49f2-8a43-ef67cd1a8e69",
   "metadata": {
    "tags": []
   },
   "outputs": [],
   "source": [
    "\n",
    "location_pos_genes <- read.table(\"location_pos_genes.txt\", header = TRUE, sep = \"\\t\")\n",
    "location_neg_genes <- read.table(\"location_neg_genes.txt\", header = TRUE, sep = \"\\t\")\n"
   ]
  },
  {
   "cell_type": "code",
   "execution_count": 34,
   "id": "78bfa896-52fd-4b8e-92a0-14f5e0f76e20",
   "metadata": {
    "tags": []
   },
   "outputs": [],
   "source": [
    "\n",
    "peaks_osim_1_regions=peaks_osim_1[,c(\"V1\", \"V2\", \"V3\", \"V4\")]\n",
    "colnames(peaks_osim_1_regions) <- c(\"seqname\", \"peakStart\", \"peakEnd\", \"peakID\")"
   ]
  },
  {
   "cell_type": "code",
   "execution_count": 37,
   "id": "e502dc67-40ad-4be0-8a27-569ed0da8cd0",
   "metadata": {
    "tags": []
   },
   "outputs": [],
   "source": [
    "#BiocManager::install(\"GenomicRanges\", force=TRUE)\n",
    "\n",
    "library(GenomicRanges)\n",
    "\n",
    "\n"
   ]
  },
  {
   "cell_type": "code",
   "execution_count": 38,
   "id": "9c832074-23f0-4936-a0e0-32837ad27a56",
   "metadata": {
    "tags": []
   },
   "outputs": [],
   "source": [
    "\n",
    "gene_ranges_pos<- GRanges(\n",
    "  seqnames = rep(\"ArtificialChromosome\", length(location_pos_genes$start_position)),\n",
    "  ranges = IRanges(location_pos_genes$start_position, location_pos_genes$end_position)\n",
    ")\n",
    "\n",
    "\n",
    "peak_osim_1_ranges <- GRanges(\n",
    "  seqnames = rep(\"ArtificialChromosome\", length(peaks_osim_1_regions$peakStart)),\n",
    "  ranges = IRanges(peaks_osim_1_regions$peakStart, peaks_osim_1_regions$peakEnd)\n",
    ")\n",
    "\n",
    "\n",
    "overlapping_genes_1_pos <- findOverlaps(gene_ranges_pos, peak_osim_1_ranges)"
   ]
  },
  {
   "cell_type": "code",
   "execution_count": null,
   "id": "19d73498-5455-4be2-9aae-192ce98dcaf4",
   "metadata": {
    "tags": []
   },
   "outputs": [],
   "source": [
    "overlapping_indexes_1_pos <- subjectHits(overlapping_genes_1_pos)\n",
    "overlapping_gene_names_osim_1_pos <- location_pos_genes$SYMBOL[overlapping_indexes_1_pos]\n",
    "overlapping_gene_names_osim_1_pos=as.data.frame(overlapping_gene_names_osim_1_pos)\n",
    "dim(overlapping_gene_names_osim_1_pos)\n"
   ]
  },
  {
   "cell_type": "code",
   "execution_count": 40,
   "id": "19edebd6-78fb-41fd-a13e-71ed38af3da3",
   "metadata": {
    "tags": []
   },
   "outputs": [
    {
     "data": {
      "text/html": [
       "<style>\n",
       ".list-inline {list-style: none; margin:0; padding: 0}\n",
       ".list-inline>li {display: inline-block}\n",
       ".list-inline>li:not(:last-child)::after {content: \"\\00b7\"; padding: 0 .5ex}\n",
       "</style>\n",
       "<ol class=list-inline><li>1730</li><li>1</li></ol>\n"
      ],
      "text/latex": [
       "\\begin{enumerate*}\n",
       "\\item 1730\n",
       "\\item 1\n",
       "\\end{enumerate*}\n"
      ],
      "text/markdown": [
       "1. 1730\n",
       "2. 1\n",
       "\n",
       "\n"
      ],
      "text/plain": [
       "[1] 1730    1"
      ]
     },
     "metadata": {},
     "output_type": "display_data"
    },
    {
     "data": {
      "text/html": [
       "<table class=\"dataframe\">\n",
       "<caption>A data.frame: 1730 × 1</caption>\n",
       "<thead>\n",
       "\t<tr><th></th><th scope=col>overlapping_gene_names_osim_1_pos</th></tr>\n",
       "\t<tr><th></th><th scope=col>&lt;chr&gt;</th></tr>\n",
       "</thead>\n",
       "<tbody>\n",
       "\t<tr><th scope=row>1</th><td>CPAMD8   </td></tr>\n",
       "\t<tr><th scope=row>2</th><td>CPE      </td></tr>\n",
       "\t<tr><th scope=row>3</th><td>CPNE4    </td></tr>\n",
       "\t<tr><th scope=row>4</th><td>CPQ      </td></tr>\n",
       "\t<tr><th scope=row>5</th><td>CPS1     </td></tr>\n",
       "\t<tr><th scope=row>6</th><td>CPZ      </td></tr>\n",
       "\t<tr><th scope=row>7</th><td>CRACR2A  </td></tr>\n",
       "\t<tr><th scope=row>116</th><td>CMTM8    </td></tr>\n",
       "\t<tr><th scope=row>117</th><td>CMYA5    </td></tr>\n",
       "\t<tr><th scope=row>118</th><td>CNGA4    </td></tr>\n",
       "\t<tr><th scope=row>239</th><td>MAN2B1   </td></tr>\n",
       "\t<tr><th scope=row>240</th><td>MAN2B2   </td></tr>\n",
       "\t<tr><th scope=row>241</th><td>MAOA     </td></tr>\n",
       "\t<tr><th scope=row>242</th><td>MAP1B    </td></tr>\n",
       "\t<tr><th scope=row>243</th><td>MAP1LC3A </td></tr>\n",
       "\t<tr><th scope=row>244</th><td>MAP1LC3C </td></tr>\n",
       "\t<tr><th scope=row>245</th><td>MAP2     </td></tr>\n",
       "\t<tr><th scope=row>336</th><td>GLT8D2   </td></tr>\n",
       "\t<tr><th scope=row>337</th><td>GNA14    </td></tr>\n",
       "\t<tr><th scope=row>338</th><td>GNG7     </td></tr>\n",
       "\t<tr><th scope=row>339</th><td>GOLGA6L10</td></tr>\n",
       "\t<tr><th scope=row>340</th><td>GOLGA6L10</td></tr>\n",
       "\t<tr><th scope=row>341</th><td>GOLGA6L10</td></tr>\n",
       "\t<tr><th scope=row>342</th><td>GOLGA8A  </td></tr>\n",
       "\t<tr><th scope=row>343</th><td>GOLGA8A  </td></tr>\n",
       "\t<tr><th scope=row>344</th><td>GOLGA8B  </td></tr>\n",
       "\t<tr><th scope=row>345</th><td>GOLGA8R  </td></tr>\n",
       "\t<tr><th scope=row>346</th><td>GPC4     </td></tr>\n",
       "\t<tr><th scope=row>347</th><td>GPC5     </td></tr>\n",
       "\t<tr><th scope=row>348</th><td>GPC6     </td></tr>\n",
       "\t<tr><th scope=row>⋮</th><td>⋮</td></tr>\n",
       "\t<tr><th scope=row>54963</th><td>MST1     </td></tr>\n",
       "\t<tr><th scope=row>55340</th><td>ECHDC2   </td></tr>\n",
       "\t<tr><th scope=row>55341</th><td>ECM2     </td></tr>\n",
       "\t<tr><th scope=row>55342</th><td>ECM2     </td></tr>\n",
       "\t<tr><th scope=row>55365</th><td>DOK4     </td></tr>\n",
       "\t<tr><th scope=row>55366</th><td>DOK5     </td></tr>\n",
       "\t<tr><th scope=row>55367</th><td>DPP4     </td></tr>\n",
       "\t<tr><th scope=row>55368</th><td>DPYSL2   </td></tr>\n",
       "\t<tr><th scope=row>55369</th><td>DRD2     </td></tr>\n",
       "\t<tr><th scope=row>55425</th><td>DNAJB4   </td></tr>\n",
       "\t<tr><th scope=row>55463</th><td>NOG      </td></tr>\n",
       "\t<tr><th scope=row>55464</th><td>NOVA1    </td></tr>\n",
       "\t<tr><th scope=row>55519</th><td>EIF4EBP3 </td></tr>\n",
       "\t<tr><th scope=row>55520</th><td>EMID1    </td></tr>\n",
       "\t<tr><th scope=row>55521</th><td>EMX1     </td></tr>\n",
       "\t<tr><th scope=row>55522</th><td>ENO4     </td></tr>\n",
       "\t<tr><th scope=row>55523</th><td>ENOX1    </td></tr>\n",
       "\t<tr><th scope=row>55524</th><td>ENPEP    </td></tr>\n",
       "\t<tr><th scope=row>55535</th><td>DUSP8    </td></tr>\n",
       "\t<tr><th scope=row>55536</th><td>DUSP8    </td></tr>\n",
       "\t<tr><th scope=row>55537</th><td>DUSP8    </td></tr>\n",
       "\t<tr><th scope=row>55563</th><td>SFRP4    </td></tr>\n",
       "\t<tr><th scope=row>55564</th><td>SFTPC    </td></tr>\n",
       "\t<tr><th scope=row>55567</th><td>SEMA5B   </td></tr>\n",
       "\t<tr><th scope=row>55568</th><td>SEMA6C   </td></tr>\n",
       "\t<tr><th scope=row>55569</th><td>SEPTIN3  </td></tr>\n",
       "\t<tr><th scope=row>55570</th><td>SERPINB13</td></tr>\n",
       "\t<tr><th scope=row>55571</th><td>SERPINE1 </td></tr>\n",
       "\t<tr><th scope=row>55572</th><td>SERPINF2 </td></tr>\n",
       "\t<tr><th scope=row>55573</th><td>SERPINF2 </td></tr>\n",
       "</tbody>\n",
       "</table>\n"
      ],
      "text/latex": [
       "A data.frame: 1730 × 1\n",
       "\\begin{tabular}{r|l}\n",
       "  & overlapping\\_gene\\_names\\_osim\\_1\\_pos\\\\\n",
       "  & <chr>\\\\\n",
       "\\hline\n",
       "\t1 & CPAMD8   \\\\\n",
       "\t2 & CPE      \\\\\n",
       "\t3 & CPNE4    \\\\\n",
       "\t4 & CPQ      \\\\\n",
       "\t5 & CPS1     \\\\\n",
       "\t6 & CPZ      \\\\\n",
       "\t7 & CRACR2A  \\\\\n",
       "\t116 & CMTM8    \\\\\n",
       "\t117 & CMYA5    \\\\\n",
       "\t118 & CNGA4    \\\\\n",
       "\t239 & MAN2B1   \\\\\n",
       "\t240 & MAN2B2   \\\\\n",
       "\t241 & MAOA     \\\\\n",
       "\t242 & MAP1B    \\\\\n",
       "\t243 & MAP1LC3A \\\\\n",
       "\t244 & MAP1LC3C \\\\\n",
       "\t245 & MAP2     \\\\\n",
       "\t336 & GLT8D2   \\\\\n",
       "\t337 & GNA14    \\\\\n",
       "\t338 & GNG7     \\\\\n",
       "\t339 & GOLGA6L10\\\\\n",
       "\t340 & GOLGA6L10\\\\\n",
       "\t341 & GOLGA6L10\\\\\n",
       "\t342 & GOLGA8A  \\\\\n",
       "\t343 & GOLGA8A  \\\\\n",
       "\t344 & GOLGA8B  \\\\\n",
       "\t345 & GOLGA8R  \\\\\n",
       "\t346 & GPC4     \\\\\n",
       "\t347 & GPC5     \\\\\n",
       "\t348 & GPC6     \\\\\n",
       "\t⋮ & ⋮\\\\\n",
       "\t54963 & MST1     \\\\\n",
       "\t55340 & ECHDC2   \\\\\n",
       "\t55341 & ECM2     \\\\\n",
       "\t55342 & ECM2     \\\\\n",
       "\t55365 & DOK4     \\\\\n",
       "\t55366 & DOK5     \\\\\n",
       "\t55367 & DPP4     \\\\\n",
       "\t55368 & DPYSL2   \\\\\n",
       "\t55369 & DRD2     \\\\\n",
       "\t55425 & DNAJB4   \\\\\n",
       "\t55463 & NOG      \\\\\n",
       "\t55464 & NOVA1    \\\\\n",
       "\t55519 & EIF4EBP3 \\\\\n",
       "\t55520 & EMID1    \\\\\n",
       "\t55521 & EMX1     \\\\\n",
       "\t55522 & ENO4     \\\\\n",
       "\t55523 & ENOX1    \\\\\n",
       "\t55524 & ENPEP    \\\\\n",
       "\t55535 & DUSP8    \\\\\n",
       "\t55536 & DUSP8    \\\\\n",
       "\t55537 & DUSP8    \\\\\n",
       "\t55563 & SFRP4    \\\\\n",
       "\t55564 & SFTPC    \\\\\n",
       "\t55567 & SEMA5B   \\\\\n",
       "\t55568 & SEMA6C   \\\\\n",
       "\t55569 & SEPTIN3  \\\\\n",
       "\t55570 & SERPINB13\\\\\n",
       "\t55571 & SERPINE1 \\\\\n",
       "\t55572 & SERPINF2 \\\\\n",
       "\t55573 & SERPINF2 \\\\\n",
       "\\end{tabular}\n"
      ],
      "text/markdown": [
       "\n",
       "A data.frame: 1730 × 1\n",
       "\n",
       "| <!--/--> | overlapping_gene_names_osim_1_pos &lt;chr&gt; |\n",
       "|---|---|\n",
       "| 1 | CPAMD8    |\n",
       "| 2 | CPE       |\n",
       "| 3 | CPNE4     |\n",
       "| 4 | CPQ       |\n",
       "| 5 | CPS1      |\n",
       "| 6 | CPZ       |\n",
       "| 7 | CRACR2A   |\n",
       "| 116 | CMTM8     |\n",
       "| 117 | CMYA5     |\n",
       "| 118 | CNGA4     |\n",
       "| 239 | MAN2B1    |\n",
       "| 240 | MAN2B2    |\n",
       "| 241 | MAOA      |\n",
       "| 242 | MAP1B     |\n",
       "| 243 | MAP1LC3A  |\n",
       "| 244 | MAP1LC3C  |\n",
       "| 245 | MAP2      |\n",
       "| 336 | GLT8D2    |\n",
       "| 337 | GNA14     |\n",
       "| 338 | GNG7      |\n",
       "| 339 | GOLGA6L10 |\n",
       "| 340 | GOLGA6L10 |\n",
       "| 341 | GOLGA6L10 |\n",
       "| 342 | GOLGA8A   |\n",
       "| 343 | GOLGA8A   |\n",
       "| 344 | GOLGA8B   |\n",
       "| 345 | GOLGA8R   |\n",
       "| 346 | GPC4      |\n",
       "| 347 | GPC5      |\n",
       "| 348 | GPC6      |\n",
       "| ⋮ | ⋮ |\n",
       "| 54963 | MST1      |\n",
       "| 55340 | ECHDC2    |\n",
       "| 55341 | ECM2      |\n",
       "| 55342 | ECM2      |\n",
       "| 55365 | DOK4      |\n",
       "| 55366 | DOK5      |\n",
       "| 55367 | DPP4      |\n",
       "| 55368 | DPYSL2    |\n",
       "| 55369 | DRD2      |\n",
       "| 55425 | DNAJB4    |\n",
       "| 55463 | NOG       |\n",
       "| 55464 | NOVA1     |\n",
       "| 55519 | EIF4EBP3  |\n",
       "| 55520 | EMID1     |\n",
       "| 55521 | EMX1      |\n",
       "| 55522 | ENO4      |\n",
       "| 55523 | ENOX1     |\n",
       "| 55524 | ENPEP     |\n",
       "| 55535 | DUSP8     |\n",
       "| 55536 | DUSP8     |\n",
       "| 55537 | DUSP8     |\n",
       "| 55563 | SFRP4     |\n",
       "| 55564 | SFTPC     |\n",
       "| 55567 | SEMA5B    |\n",
       "| 55568 | SEMA6C    |\n",
       "| 55569 | SEPTIN3   |\n",
       "| 55570 | SERPINB13 |\n",
       "| 55571 | SERPINE1  |\n",
       "| 55572 | SERPINF2  |\n",
       "| 55573 | SERPINF2  |\n",
       "\n"
      ],
      "text/plain": [
       "      overlapping_gene_names_osim_1_pos\n",
       "1     CPAMD8                           \n",
       "2     CPE                              \n",
       "3     CPNE4                            \n",
       "4     CPQ                              \n",
       "5     CPS1                             \n",
       "6     CPZ                              \n",
       "7     CRACR2A                          \n",
       "116   CMTM8                            \n",
       "117   CMYA5                            \n",
       "118   CNGA4                            \n",
       "239   MAN2B1                           \n",
       "240   MAN2B2                           \n",
       "241   MAOA                             \n",
       "242   MAP1B                            \n",
       "243   MAP1LC3A                         \n",
       "244   MAP1LC3C                         \n",
       "245   MAP2                             \n",
       "336   GLT8D2                           \n",
       "337   GNA14                            \n",
       "338   GNG7                             \n",
       "339   GOLGA6L10                        \n",
       "340   GOLGA6L10                        \n",
       "341   GOLGA6L10                        \n",
       "342   GOLGA8A                          \n",
       "343   GOLGA8A                          \n",
       "344   GOLGA8B                          \n",
       "345   GOLGA8R                          \n",
       "346   GPC4                             \n",
       "347   GPC5                             \n",
       "348   GPC6                             \n",
       "⋮     ⋮                                \n",
       "54963 MST1                             \n",
       "55340 ECHDC2                           \n",
       "55341 ECM2                             \n",
       "55342 ECM2                             \n",
       "55365 DOK4                             \n",
       "55366 DOK5                             \n",
       "55367 DPP4                             \n",
       "55368 DPYSL2                           \n",
       "55369 DRD2                             \n",
       "55425 DNAJB4                           \n",
       "55463 NOG                              \n",
       "55464 NOVA1                            \n",
       "55519 EIF4EBP3                         \n",
       "55520 EMID1                            \n",
       "55521 EMX1                             \n",
       "55522 ENO4                             \n",
       "55523 ENOX1                            \n",
       "55524 ENPEP                            \n",
       "55535 DUSP8                            \n",
       "55536 DUSP8                            \n",
       "55537 DUSP8                            \n",
       "55563 SFRP4                            \n",
       "55564 SFTPC                            \n",
       "55567 SEMA5B                           \n",
       "55568 SEMA6C                           \n",
       "55569 SEPTIN3                          \n",
       "55570 SERPINB13                        \n",
       "55571 SERPINE1                         \n",
       "55572 SERPINF2                         \n",
       "55573 SERPINF2                         "
      ]
     },
     "metadata": {},
     "output_type": "display_data"
    }
   ],
   "source": [
    "overlapping_gene_names_osim_1_pos<- subset(overlapping_gene_names_osim_1_pos, overlapping_gene_names_osim_1_pos !=\"NA\")\n",
    "dim(overlapping_gene_names_osim_1_pos)\n",
    "overlapping_gene_names_osim_1_pos"
   ]
  },
  {
   "cell_type": "code",
   "execution_count": 42,
   "id": "f2fe92dc-6138-4914-8700-77e0a13cf1f9",
   "metadata": {
    "tags": []
   },
   "outputs": [],
   "source": [
    "\n",
    "gene_ranges_neg<- GRanges(\n",
    "  seqnames = rep(\"ArtificialChromosome\", length(location_neg_genes$start_position)),\n",
    "  ranges = IRanges(location_neg_genes$start_position, location_neg_genes$end_position)\n",
    ")\n",
    "\n",
    "\n",
    "peak_osim_1_ranges <- GRanges(\n",
    "  seqnames = rep(\"ArtificialChromosome\", length(peaks_osim_1_regions$peakStart)),\n",
    "  ranges = IRanges(peaks_osim_1_regions$peakStart, peaks_osim_1_regions$peakEnd)\n",
    ")\n",
    "\n",
    "overlapping_genes_1_neg <- findOverlaps(gene_ranges_neg, peak_osim_1_ranges)"
   ]
  },
  {
   "cell_type": "code",
   "execution_count": 61,
   "id": "396b2b78-7203-43e0-ae5c-61aeb552d690",
   "metadata": {
    "tags": []
   },
   "outputs": [
    {
     "data": {
      "text/html": [
       "<style>\n",
       ".list-inline {list-style: none; margin:0; padding: 0}\n",
       ".list-inline>li {display: inline-block}\n",
       ".list-inline>li:not(:last-child)::after {content: \"\\00b7\"; padding: 0 .5ex}\n",
       "</style>\n",
       "<ol class=list-inline><li>32665</li><li>1</li></ol>\n"
      ],
      "text/latex": [
       "\\begin{enumerate*}\n",
       "\\item 32665\n",
       "\\item 1\n",
       "\\end{enumerate*}\n"
      ],
      "text/markdown": [
       "1. 32665\n",
       "2. 1\n",
       "\n",
       "\n"
      ],
      "text/plain": [
       "[1] 32665     1"
      ]
     },
     "metadata": {},
     "output_type": "display_data"
    }
   ],
   "source": [
    "overlapping_indexes_1_neg <- subjectHits(overlapping_genes_1_neg)\n",
    "overlapping_gene_names_osim_1_neg <- location_neg_genes$SYMBOL[overlapping_indexes_1_neg]\n",
    "overlapping_gene_names_osim_1_neg=as.data.frame(overlapping_gene_names_osim_1_neg)\n",
    "dim(overlapping_gene_names_osim_1_neg)\n",
    "\n"
   ]
  },
  {
   "cell_type": "code",
   "execution_count": 44,
   "id": "8621464e-a359-4c2d-9e4c-3fa43a51640c",
   "metadata": {
    "tags": []
   },
   "outputs": [
    {
     "data": {
      "text/html": [
       "<style>\n",
       ".list-inline {list-style: none; margin:0; padding: 0}\n",
       ".list-inline>li {display: inline-block}\n",
       ".list-inline>li:not(:last-child)::after {content: \"\\00b7\"; padding: 0 .5ex}\n",
       "</style>\n",
       "<ol class=list-inline><li>742</li><li>1</li></ol>\n"
      ],
      "text/latex": [
       "\\begin{enumerate*}\n",
       "\\item 742\n",
       "\\item 1\n",
       "\\end{enumerate*}\n"
      ],
      "text/markdown": [
       "1. 742\n",
       "2. 1\n",
       "\n",
       "\n"
      ],
      "text/plain": [
       "[1] 742   1"
      ]
     },
     "metadata": {},
     "output_type": "display_data"
    },
    {
     "data": {
      "text/html": [
       "<table class=\"dataframe\">\n",
       "<caption>A data.frame: 742 × 1</caption>\n",
       "<thead>\n",
       "\t<tr><th></th><th scope=col>overlapping_gene_names_osim_1_neg</th></tr>\n",
       "\t<tr><th></th><th scope=col>&lt;chr&gt;</th></tr>\n",
       "</thead>\n",
       "<tbody>\n",
       "\t<tr><th scope=row>400</th><td>MAP7     </td></tr>\n",
       "\t<tr><th scope=row>401</th><td>MAPK13   </td></tr>\n",
       "\t<tr><th scope=row>402</th><td>MAPK8IP2 </td></tr>\n",
       "\t<tr><th scope=row>403</th><td>MARCHF4  </td></tr>\n",
       "\t<tr><th scope=row>404</th><td>MARVELD3 </td></tr>\n",
       "\t<tr><th scope=row>405</th><td>MASTL    </td></tr>\n",
       "\t<tr><th scope=row>406</th><td>MATK     </td></tr>\n",
       "\t<tr><th scope=row>407</th><td>MBNL3    </td></tr>\n",
       "\t<tr><th scope=row>408</th><td>MBOAT1   </td></tr>\n",
       "\t<tr><th scope=row>409</th><td>MCIDAS   </td></tr>\n",
       "\t<tr><th scope=row>410</th><td>MCM10    </td></tr>\n",
       "\t<tr><th scope=row>411</th><td>MCM2     </td></tr>\n",
       "\t<tr><th scope=row>412</th><td>MCM3     </td></tr>\n",
       "\t<tr><th scope=row>656</th><td>IDH3A    </td></tr>\n",
       "\t<tr><th scope=row>657</th><td>IFI44    </td></tr>\n",
       "\t<tr><th scope=row>658</th><td>IFI44L   </td></tr>\n",
       "\t<tr><th scope=row>659</th><td>IFIH1    </td></tr>\n",
       "\t<tr><th scope=row>660</th><td>IFIT1    </td></tr>\n",
       "\t<tr><th scope=row>661</th><td>IFIT2    </td></tr>\n",
       "\t<tr><th scope=row>932</th><td>TNFAIP2  </td></tr>\n",
       "\t<tr><th scope=row>933</th><td>TNFRSF12A</td></tr>\n",
       "\t<tr><th scope=row>934</th><td>TNFRSF1B </td></tr>\n",
       "\t<tr><th scope=row>935</th><td>TNFRSF6B </td></tr>\n",
       "\t<tr><th scope=row>936</th><td>TNS4     </td></tr>\n",
       "\t<tr><th scope=row>937</th><td>TOE1     </td></tr>\n",
       "\t<tr><th scope=row>938</th><td>TONSL    </td></tr>\n",
       "\t<tr><th scope=row>939</th><td>TOP2A    </td></tr>\n",
       "\t<tr><th scope=row>940</th><td>TOPBP1   </td></tr>\n",
       "\t<tr><th scope=row>941</th><td>TP63     </td></tr>\n",
       "\t<tr><th scope=row>942</th><td>TP73     </td></tr>\n",
       "\t<tr><th scope=row>⋮</th><td>⋮</td></tr>\n",
       "\t<tr><th scope=row>31563</th><td>CDC25A   </td></tr>\n",
       "\t<tr><th scope=row>31564</th><td>CDC25C   </td></tr>\n",
       "\t<tr><th scope=row>31565</th><td>CDC42BPG </td></tr>\n",
       "\t<tr><th scope=row>31566</th><td>CDC42EP4 </td></tr>\n",
       "\t<tr><th scope=row>31567</th><td>CDC42EP5 </td></tr>\n",
       "\t<tr><th scope=row>31617</th><td>ARHGAP11B</td></tr>\n",
       "\t<tr><th scope=row>31618</th><td>ARHGAP26 </td></tr>\n",
       "\t<tr><th scope=row>31619</th><td>ARHGAP33 </td></tr>\n",
       "\t<tr><th scope=row>31620</th><td>ARHGAP8  </td></tr>\n",
       "\t<tr><th scope=row>31621</th><td>ARHGDIB  </td></tr>\n",
       "\t<tr><th scope=row>32002</th><td>UGT8     </td></tr>\n",
       "\t<tr><th scope=row>32003</th><td>UHRF1    </td></tr>\n",
       "\t<tr><th scope=row>32004</th><td>UHRF2    </td></tr>\n",
       "\t<tr><th scope=row>32005</th><td>UNC93A   </td></tr>\n",
       "\t<tr><th scope=row>32006</th><td>UNKL     </td></tr>\n",
       "\t<tr><th scope=row>32007</th><td>USP15    </td></tr>\n",
       "\t<tr><th scope=row>32008</th><td>USP51    </td></tr>\n",
       "\t<tr><th scope=row>32120</th><td>CENPF    </td></tr>\n",
       "\t<tr><th scope=row>32209</th><td>NOX5     </td></tr>\n",
       "\t<tr><th scope=row>32210</th><td>NOX5     </td></tr>\n",
       "\t<tr><th scope=row>32261</th><td>SYTL5    </td></tr>\n",
       "\t<tr><th scope=row>32265</th><td>NTN4     </td></tr>\n",
       "\t<tr><th scope=row>32266</th><td>NTNG2    </td></tr>\n",
       "\t<tr><th scope=row>32466</th><td>PHLDA3   </td></tr>\n",
       "\t<tr><th scope=row>32467</th><td>PI16     </td></tr>\n",
       "\t<tr><th scope=row>32478</th><td>NALCN    </td></tr>\n",
       "\t<tr><th scope=row>32539</th><td>ORC5     </td></tr>\n",
       "\t<tr><th scope=row>32540</th><td>ORC6     </td></tr>\n",
       "\t<tr><th scope=row>32541</th><td>ORMDL2   </td></tr>\n",
       "\t<tr><th scope=row>32542</th><td>OTUB2    </td></tr>\n",
       "</tbody>\n",
       "</table>\n"
      ],
      "text/latex": [
       "A data.frame: 742 × 1\n",
       "\\begin{tabular}{r|l}\n",
       "  & overlapping\\_gene\\_names\\_osim\\_1\\_neg\\\\\n",
       "  & <chr>\\\\\n",
       "\\hline\n",
       "\t400 & MAP7     \\\\\n",
       "\t401 & MAPK13   \\\\\n",
       "\t402 & MAPK8IP2 \\\\\n",
       "\t403 & MARCHF4  \\\\\n",
       "\t404 & MARVELD3 \\\\\n",
       "\t405 & MASTL    \\\\\n",
       "\t406 & MATK     \\\\\n",
       "\t407 & MBNL3    \\\\\n",
       "\t408 & MBOAT1   \\\\\n",
       "\t409 & MCIDAS   \\\\\n",
       "\t410 & MCM10    \\\\\n",
       "\t411 & MCM2     \\\\\n",
       "\t412 & MCM3     \\\\\n",
       "\t656 & IDH3A    \\\\\n",
       "\t657 & IFI44    \\\\\n",
       "\t658 & IFI44L   \\\\\n",
       "\t659 & IFIH1    \\\\\n",
       "\t660 & IFIT1    \\\\\n",
       "\t661 & IFIT2    \\\\\n",
       "\t932 & TNFAIP2  \\\\\n",
       "\t933 & TNFRSF12A\\\\\n",
       "\t934 & TNFRSF1B \\\\\n",
       "\t935 & TNFRSF6B \\\\\n",
       "\t936 & TNS4     \\\\\n",
       "\t937 & TOE1     \\\\\n",
       "\t938 & TONSL    \\\\\n",
       "\t939 & TOP2A    \\\\\n",
       "\t940 & TOPBP1   \\\\\n",
       "\t941 & TP63     \\\\\n",
       "\t942 & TP73     \\\\\n",
       "\t⋮ & ⋮\\\\\n",
       "\t31563 & CDC25A   \\\\\n",
       "\t31564 & CDC25C   \\\\\n",
       "\t31565 & CDC42BPG \\\\\n",
       "\t31566 & CDC42EP4 \\\\\n",
       "\t31567 & CDC42EP5 \\\\\n",
       "\t31617 & ARHGAP11B\\\\\n",
       "\t31618 & ARHGAP26 \\\\\n",
       "\t31619 & ARHGAP33 \\\\\n",
       "\t31620 & ARHGAP8  \\\\\n",
       "\t31621 & ARHGDIB  \\\\\n",
       "\t32002 & UGT8     \\\\\n",
       "\t32003 & UHRF1    \\\\\n",
       "\t32004 & UHRF2    \\\\\n",
       "\t32005 & UNC93A   \\\\\n",
       "\t32006 & UNKL     \\\\\n",
       "\t32007 & USP15    \\\\\n",
       "\t32008 & USP51    \\\\\n",
       "\t32120 & CENPF    \\\\\n",
       "\t32209 & NOX5     \\\\\n",
       "\t32210 & NOX5     \\\\\n",
       "\t32261 & SYTL5    \\\\\n",
       "\t32265 & NTN4     \\\\\n",
       "\t32266 & NTNG2    \\\\\n",
       "\t32466 & PHLDA3   \\\\\n",
       "\t32467 & PI16     \\\\\n",
       "\t32478 & NALCN    \\\\\n",
       "\t32539 & ORC5     \\\\\n",
       "\t32540 & ORC6     \\\\\n",
       "\t32541 & ORMDL2   \\\\\n",
       "\t32542 & OTUB2    \\\\\n",
       "\\end{tabular}\n"
      ],
      "text/markdown": [
       "\n",
       "A data.frame: 742 × 1\n",
       "\n",
       "| <!--/--> | overlapping_gene_names_osim_1_neg &lt;chr&gt; |\n",
       "|---|---|\n",
       "| 400 | MAP7      |\n",
       "| 401 | MAPK13    |\n",
       "| 402 | MAPK8IP2  |\n",
       "| 403 | MARCHF4   |\n",
       "| 404 | MARVELD3  |\n",
       "| 405 | MASTL     |\n",
       "| 406 | MATK      |\n",
       "| 407 | MBNL3     |\n",
       "| 408 | MBOAT1    |\n",
       "| 409 | MCIDAS    |\n",
       "| 410 | MCM10     |\n",
       "| 411 | MCM2      |\n",
       "| 412 | MCM3      |\n",
       "| 656 | IDH3A     |\n",
       "| 657 | IFI44     |\n",
       "| 658 | IFI44L    |\n",
       "| 659 | IFIH1     |\n",
       "| 660 | IFIT1     |\n",
       "| 661 | IFIT2     |\n",
       "| 932 | TNFAIP2   |\n",
       "| 933 | TNFRSF12A |\n",
       "| 934 | TNFRSF1B  |\n",
       "| 935 | TNFRSF6B  |\n",
       "| 936 | TNS4      |\n",
       "| 937 | TOE1      |\n",
       "| 938 | TONSL     |\n",
       "| 939 | TOP2A     |\n",
       "| 940 | TOPBP1    |\n",
       "| 941 | TP63      |\n",
       "| 942 | TP73      |\n",
       "| ⋮ | ⋮ |\n",
       "| 31563 | CDC25A    |\n",
       "| 31564 | CDC25C    |\n",
       "| 31565 | CDC42BPG  |\n",
       "| 31566 | CDC42EP4  |\n",
       "| 31567 | CDC42EP5  |\n",
       "| 31617 | ARHGAP11B |\n",
       "| 31618 | ARHGAP26  |\n",
       "| 31619 | ARHGAP33  |\n",
       "| 31620 | ARHGAP8   |\n",
       "| 31621 | ARHGDIB   |\n",
       "| 32002 | UGT8      |\n",
       "| 32003 | UHRF1     |\n",
       "| 32004 | UHRF2     |\n",
       "| 32005 | UNC93A    |\n",
       "| 32006 | UNKL      |\n",
       "| 32007 | USP15     |\n",
       "| 32008 | USP51     |\n",
       "| 32120 | CENPF     |\n",
       "| 32209 | NOX5      |\n",
       "| 32210 | NOX5      |\n",
       "| 32261 | SYTL5     |\n",
       "| 32265 | NTN4      |\n",
       "| 32266 | NTNG2     |\n",
       "| 32466 | PHLDA3    |\n",
       "| 32467 | PI16      |\n",
       "| 32478 | NALCN     |\n",
       "| 32539 | ORC5      |\n",
       "| 32540 | ORC6      |\n",
       "| 32541 | ORMDL2    |\n",
       "| 32542 | OTUB2     |\n",
       "\n"
      ],
      "text/plain": [
       "      overlapping_gene_names_osim_1_neg\n",
       "400   MAP7                             \n",
       "401   MAPK13                           \n",
       "402   MAPK8IP2                         \n",
       "403   MARCHF4                          \n",
       "404   MARVELD3                         \n",
       "405   MASTL                            \n",
       "406   MATK                             \n",
       "407   MBNL3                            \n",
       "408   MBOAT1                           \n",
       "409   MCIDAS                           \n",
       "410   MCM10                            \n",
       "411   MCM2                             \n",
       "412   MCM3                             \n",
       "656   IDH3A                            \n",
       "657   IFI44                            \n",
       "658   IFI44L                           \n",
       "659   IFIH1                            \n",
       "660   IFIT1                            \n",
       "661   IFIT2                            \n",
       "932   TNFAIP2                          \n",
       "933   TNFRSF12A                        \n",
       "934   TNFRSF1B                         \n",
       "935   TNFRSF6B                         \n",
       "936   TNS4                             \n",
       "937   TOE1                             \n",
       "938   TONSL                            \n",
       "939   TOP2A                            \n",
       "940   TOPBP1                           \n",
       "941   TP63                             \n",
       "942   TP73                             \n",
       "⋮     ⋮                                \n",
       "31563 CDC25A                           \n",
       "31564 CDC25C                           \n",
       "31565 CDC42BPG                         \n",
       "31566 CDC42EP4                         \n",
       "31567 CDC42EP5                         \n",
       "31617 ARHGAP11B                        \n",
       "31618 ARHGAP26                         \n",
       "31619 ARHGAP33                         \n",
       "31620 ARHGAP8                          \n",
       "31621 ARHGDIB                          \n",
       "32002 UGT8                             \n",
       "32003 UHRF1                            \n",
       "32004 UHRF2                            \n",
       "32005 UNC93A                           \n",
       "32006 UNKL                             \n",
       "32007 USP15                            \n",
       "32008 USP51                            \n",
       "32120 CENPF                            \n",
       "32209 NOX5                             \n",
       "32210 NOX5                             \n",
       "32261 SYTL5                            \n",
       "32265 NTN4                             \n",
       "32266 NTNG2                            \n",
       "32466 PHLDA3                           \n",
       "32467 PI16                             \n",
       "32478 NALCN                            \n",
       "32539 ORC5                             \n",
       "32540 ORC6                             \n",
       "32541 ORMDL2                           \n",
       "32542 OTUB2                            "
      ]
     },
     "metadata": {},
     "output_type": "display_data"
    }
   ],
   "source": [
    "overlapping_gene_names_osim_1_neg<- subset(overlapping_gene_names_osim_1_neg, overlapping_gene_names_osim_1_neg !=\"NA\")\n",
    "dim(overlapping_gene_names_osim_1_neg)\n",
    "overlapping_gene_names_osim_1_neg\n"
   ]
  },
  {
   "cell_type": "code",
   "execution_count": 45,
   "id": "a68a6ac8-7ee5-42c8-8e6a-98d87ebebf9e",
   "metadata": {
    "tags": []
   },
   "outputs": [],
   "source": [
    "#I obtained the overlappin with the downregulated genes\n",
    "\n",
    "#graphical rappresentation\n",
    "\n",
    "#Plot genes that overlap  \n",
    "# Example data\n",
    "overlap_positive_1= 1759 # Number of overlapping genes\n",
    "overlap_negative_1 = 710\n",
    "\n",
    "total_genes_DE = 2778"
   ]
  },
  {
   "cell_type": "code",
   "execution_count": 46,
   "id": "4f8a43cf-0322-4205-8da3-9dffe52aac0b",
   "metadata": {
    "tags": []
   },
   "outputs": [],
   "source": [
    "prop_overlap_pos_1 <- overlap_positive_1 / total_genes_DE\n",
    "prop_overlap_neg_1 <- overlap_negative_1 / total_genes_DE\n",
    "\n",
    "\n",
    "proportions_1 <- data.frame(\n",
    "  Category = c(\"Positive_DE_genes\", \"Negative_DE_genes\"),\n",
    "  Proportion = c(prop_overlap_pos_1, prop_overlap_neg_1)\n",
    ")"
   ]
  },
  {
   "cell_type": "code",
   "execution_count": 49,
   "id": "8dcae0d4-52a6-408e-8aed-20eb71784a4c",
   "metadata": {
    "tags": []
   },
   "outputs": [
    {
     "data": {
      "text/html": [
       "<strong>png:</strong> 2"
      ],
      "text/latex": [
       "\\textbf{png:} 2"
      ],
      "text/markdown": [
       "**png:** 2"
      ],
      "text/plain": [
       "png \n",
       "  2 "
      ]
     },
     "metadata": {},
     "output_type": "display_data"
    }
   ],
   "source": [
    "png(\"barplot1.png\", width = 2000, height = 3000, res = 400)\n",
    "barplot(proportions_1$Proportion, names.arg = proportions_1$Category, \n",
    "        xlab = \"Category\", ylab = \"Proportion\", main = \"Overlapping with ChIP peaks Osim 1\",\n",
    "        col = c(\"palevioletred\", \"olivedrab\"), ylim = c(0, max(proportions_1$Proportion) * 1.2))\n",
    "dev.off()"
   ]
  },
  {
   "cell_type": "code",
   "execution_count": 57,
   "id": "5c517e60-7e90-452a-a88a-00df2ba503f1",
   "metadata": {
    "tags": []
   },
   "outputs": [
    {
     "data": {
      "text/html": [
       "<table class=\"dataframe\">\n",
       "<caption>A data.frame: 6 × 10</caption>\n",
       "<thead>\n",
       "\t<tr><th></th><th scope=col>V1</th><th scope=col>V2</th><th scope=col>V3</th><th scope=col>V4</th><th scope=col>V5</th><th scope=col>V6</th><th scope=col>V7</th><th scope=col>V8</th><th scope=col>V9</th><th scope=col>V10</th></tr>\n",
       "\t<tr><th></th><th scope=col>&lt;chr&gt;</th><th scope=col>&lt;int&gt;</th><th scope=col>&lt;int&gt;</th><th scope=col>&lt;chr&gt;</th><th scope=col>&lt;int&gt;</th><th scope=col>&lt;chr&gt;</th><th scope=col>&lt;dbl&gt;</th><th scope=col>&lt;dbl&gt;</th><th scope=col>&lt;dbl&gt;</th><th scope=col>&lt;int&gt;</th></tr>\n",
       "</thead>\n",
       "<tbody>\n",
       "\t<tr><th scope=row>1</th><td>chr1</td><td>817110</td><td>817382</td><td>X14_07BT_00YDAZ_H1975-Osim-2_H3K27Ac_hs_i54_peak_1</td><td> 54</td><td>.</td><td> 4.91365</td><td> 7.34785</td><td> 5.48118</td><td>198</td></tr>\n",
       "\t<tr><th scope=row>2</th><td>chr1</td><td>904010</td><td>905478</td><td>X14_07BT_00YDAZ_H1975-Osim-2_H3K27Ac_hs_i54_peak_2</td><td>287</td><td>.</td><td>13.10310</td><td>30.93860</td><td>28.73920</td><td>460</td></tr>\n",
       "\t<tr><th scope=row>3</th><td>chr1</td><td>906392</td><td>907062</td><td>X14_07BT_00YDAZ_H1975-Osim-2_H3K27Ac_hs_i54_peak_3</td><td> 24</td><td>.</td><td> 2.91276</td><td> 4.16465</td><td> 2.40386</td><td>614</td></tr>\n",
       "\t<tr><th scope=row>4</th><td>chr1</td><td>920598</td><td>920881</td><td>X14_07BT_00YDAZ_H1975-Osim-2_H3K27Ac_hs_i54_peak_4</td><td> 63</td><td>.</td><td> 3.66916</td><td> 8.24548</td><td> 6.35513</td><td>123</td></tr>\n",
       "\t<tr><th scope=row>5</th><td>chr1</td><td>923479</td><td>923761</td><td>X14_07BT_00YDAZ_H1975-Osim-2_H3K27Ac_hs_i54_peak_5</td><td> 54</td><td>.</td><td> 4.54859</td><td> 7.33206</td><td> 5.46603</td><td>234</td></tr>\n",
       "\t<tr><th scope=row>6</th><td>chr1</td><td>924058</td><td>925634</td><td>X14_07BT_00YDAZ_H1975-Osim-2_H3K27Ac_hs_i54_peak_6</td><td>777</td><td>.</td><td>23.06780</td><td>80.26830</td><td>77.75610</td><td>744</td></tr>\n",
       "</tbody>\n",
       "</table>\n"
      ],
      "text/latex": [
       "A data.frame: 6 × 10\n",
       "\\begin{tabular}{r|llllllllll}\n",
       "  & V1 & V2 & V3 & V4 & V5 & V6 & V7 & V8 & V9 & V10\\\\\n",
       "  & <chr> & <int> & <int> & <chr> & <int> & <chr> & <dbl> & <dbl> & <dbl> & <int>\\\\\n",
       "\\hline\n",
       "\t1 & chr1 & 817110 & 817382 & X14\\_07BT\\_00YDAZ\\_H1975-Osim-2\\_H3K27Ac\\_hs\\_i54\\_peak\\_1 &  54 & . &  4.91365 &  7.34785 &  5.48118 & 198\\\\\n",
       "\t2 & chr1 & 904010 & 905478 & X14\\_07BT\\_00YDAZ\\_H1975-Osim-2\\_H3K27Ac\\_hs\\_i54\\_peak\\_2 & 287 & . & 13.10310 & 30.93860 & 28.73920 & 460\\\\\n",
       "\t3 & chr1 & 906392 & 907062 & X14\\_07BT\\_00YDAZ\\_H1975-Osim-2\\_H3K27Ac\\_hs\\_i54\\_peak\\_3 &  24 & . &  2.91276 &  4.16465 &  2.40386 & 614\\\\\n",
       "\t4 & chr1 & 920598 & 920881 & X14\\_07BT\\_00YDAZ\\_H1975-Osim-2\\_H3K27Ac\\_hs\\_i54\\_peak\\_4 &  63 & . &  3.66916 &  8.24548 &  6.35513 & 123\\\\\n",
       "\t5 & chr1 & 923479 & 923761 & X14\\_07BT\\_00YDAZ\\_H1975-Osim-2\\_H3K27Ac\\_hs\\_i54\\_peak\\_5 &  54 & . &  4.54859 &  7.33206 &  5.46603 & 234\\\\\n",
       "\t6 & chr1 & 924058 & 925634 & X14\\_07BT\\_00YDAZ\\_H1975-Osim-2\\_H3K27Ac\\_hs\\_i54\\_peak\\_6 & 777 & . & 23.06780 & 80.26830 & 77.75610 & 744\\\\\n",
       "\\end{tabular}\n"
      ],
      "text/markdown": [
       "\n",
       "A data.frame: 6 × 10\n",
       "\n",
       "| <!--/--> | V1 &lt;chr&gt; | V2 &lt;int&gt; | V3 &lt;int&gt; | V4 &lt;chr&gt; | V5 &lt;int&gt; | V6 &lt;chr&gt; | V7 &lt;dbl&gt; | V8 &lt;dbl&gt; | V9 &lt;dbl&gt; | V10 &lt;int&gt; |\n",
       "|---|---|---|---|---|---|---|---|---|---|---|\n",
       "| 1 | chr1 | 817110 | 817382 | X14_07BT_00YDAZ_H1975-Osim-2_H3K27Ac_hs_i54_peak_1 |  54 | . |  4.91365 |  7.34785 |  5.48118 | 198 |\n",
       "| 2 | chr1 | 904010 | 905478 | X14_07BT_00YDAZ_H1975-Osim-2_H3K27Ac_hs_i54_peak_2 | 287 | . | 13.10310 | 30.93860 | 28.73920 | 460 |\n",
       "| 3 | chr1 | 906392 | 907062 | X14_07BT_00YDAZ_H1975-Osim-2_H3K27Ac_hs_i54_peak_3 |  24 | . |  2.91276 |  4.16465 |  2.40386 | 614 |\n",
       "| 4 | chr1 | 920598 | 920881 | X14_07BT_00YDAZ_H1975-Osim-2_H3K27Ac_hs_i54_peak_4 |  63 | . |  3.66916 |  8.24548 |  6.35513 | 123 |\n",
       "| 5 | chr1 | 923479 | 923761 | X14_07BT_00YDAZ_H1975-Osim-2_H3K27Ac_hs_i54_peak_5 |  54 | . |  4.54859 |  7.33206 |  5.46603 | 234 |\n",
       "| 6 | chr1 | 924058 | 925634 | X14_07BT_00YDAZ_H1975-Osim-2_H3K27Ac_hs_i54_peak_6 | 777 | . | 23.06780 | 80.26830 | 77.75610 | 744 |\n",
       "\n"
      ],
      "text/plain": [
       "  V1   V2     V3     V4                                                 V5  V6\n",
       "1 chr1 817110 817382 X14_07BT_00YDAZ_H1975-Osim-2_H3K27Ac_hs_i54_peak_1  54 . \n",
       "2 chr1 904010 905478 X14_07BT_00YDAZ_H1975-Osim-2_H3K27Ac_hs_i54_peak_2 287 . \n",
       "3 chr1 906392 907062 X14_07BT_00YDAZ_H1975-Osim-2_H3K27Ac_hs_i54_peak_3  24 . \n",
       "4 chr1 920598 920881 X14_07BT_00YDAZ_H1975-Osim-2_H3K27Ac_hs_i54_peak_4  63 . \n",
       "5 chr1 923479 923761 X14_07BT_00YDAZ_H1975-Osim-2_H3K27Ac_hs_i54_peak_5  54 . \n",
       "6 chr1 924058 925634 X14_07BT_00YDAZ_H1975-Osim-2_H3K27Ac_hs_i54_peak_6 777 . \n",
       "  V7       V8       V9       V10\n",
       "1  4.91365  7.34785  5.48118 198\n",
       "2 13.10310 30.93860 28.73920 460\n",
       "3  2.91276  4.16465  2.40386 614\n",
       "4  3.66916  8.24548  6.35513 123\n",
       "5  4.54859  7.33206  5.46603 234\n",
       "6 23.06780 80.26830 77.75610 744"
      ]
     },
     "metadata": {},
     "output_type": "display_data"
    }
   ],
   "source": [
    "#SAMPLE2\n",
    "\n",
    "# Set the path to the file narrowpeaks file\n",
    "Narrow_file_Osim_2 <- \"/bin/Exam/Osim-2_H3K27Ac_hs_i54_peaks.narrowPeak\"\n",
    "\n",
    "peaks_osim_2 <- read.delim(Narrow_file_Osim_2, header = FALSE, stringsAsFactors = FALSE)\n",
    "head(peaks_osim_2)\n",
    "library(readxl)\n",
    "\n",
    "peaks_osim_2_regions=peaks_osim_2[,c(\"V1\", \"V2\", \"V3\", \"V4\")]\n",
    "colnames(peaks_osim_2_regions) <- c(\"seqname\", \"peakStart\", \"peakEnd\", \"peakID\")"
   ]
  },
  {
   "cell_type": "code",
   "execution_count": 58,
   "id": "c5fefb43-782f-4fc2-b984-130f0551fd34",
   "metadata": {
    "tags": []
   },
   "outputs": [],
   "source": [
    "gene_ranges_pos<- GRanges(\n",
    "  seqnames = rep(\"ArtificialChromosome\", length(location_pos_genes$start_position)),\n",
    "  ranges = IRanges(location_pos_genes$start_position, location_pos_genes$end_position)\n",
    ")\n",
    "\n",
    "\n",
    "peak_osim_2_ranges <- GRanges(\n",
    "  seqnames = rep(\"ArtificialChromosome\", length(peaks_osim_2_regions$peakStart)),\n",
    "  ranges = IRanges(peaks_osim_2_regions$peakStart, peaks_osim_2_regions$peakEnd)\n",
    ")\n",
    "\n",
    "overlapping_genes_2_pos <- findOverlaps(gene_ranges_pos, peak_osim_2_ranges)\n"
   ]
  },
  {
   "cell_type": "code",
   "execution_count": 62,
   "id": "ac298c68-3fcb-4d4c-8096-b164e805bd72",
   "metadata": {
    "tags": []
   },
   "outputs": [
    {
     "data": {
      "text/html": [
       "<style>\n",
       ".list-inline {list-style: none; margin:0; padding: 0}\n",
       ".list-inline>li {display: inline-block}\n",
       ".list-inline>li:not(:last-child)::after {content: \"\\00b7\"; padding: 0 .5ex}\n",
       "</style>\n",
       "<ol class=list-inline><li>47100</li><li>1</li></ol>\n"
      ],
      "text/latex": [
       "\\begin{enumerate*}\n",
       "\\item 47100\n",
       "\\item 1\n",
       "\\end{enumerate*}\n"
      ],
      "text/markdown": [
       "1. 47100\n",
       "2. 1\n",
       "\n",
       "\n"
      ],
      "text/plain": [
       "[1] 47100     1"
      ]
     },
     "metadata": {},
     "output_type": "display_data"
    }
   ],
   "source": [
    "overlapping_indexes_2_pos <- subjectHits(overlapping_genes_2_pos)\n",
    "overlapping_gene_names_osim_2_pos <- location_pos_genes$SYMBOL[overlapping_indexes_2_pos]\n",
    "overlapping_gene_names_osim_2_pos=as.data.frame(overlapping_gene_names_osim_2_pos)\n",
    "dim(overlapping_gene_names_osim_2_pos)\n"
   ]
  },
  {
   "cell_type": "code",
   "execution_count": 63,
   "id": "2fbec7cd-1c29-4313-b0fb-3b90dd31ae1d",
   "metadata": {
    "tags": []
   },
   "outputs": [
    {
     "data": {
      "text/html": [
       "<style>\n",
       ".list-inline {list-style: none; margin:0; padding: 0}\n",
       ".list-inline>li {display: inline-block}\n",
       ".list-inline>li:not(:last-child)::after {content: \"\\00b7\"; padding: 0 .5ex}\n",
       "</style>\n",
       "<ol class=list-inline><li>1735</li><li>1</li></ol>\n"
      ],
      "text/latex": [
       "\\begin{enumerate*}\n",
       "\\item 1735\n",
       "\\item 1\n",
       "\\end{enumerate*}\n"
      ],
      "text/markdown": [
       "1. 1735\n",
       "2. 1\n",
       "\n",
       "\n"
      ],
      "text/plain": [
       "[1] 1735    1"
      ]
     },
     "metadata": {},
     "output_type": "display_data"
    },
    {
     "data": {
      "text/html": [
       "<table class=\"dataframe\">\n",
       "<caption>A data.frame: 1735 × 1</caption>\n",
       "<thead>\n",
       "\t<tr><th></th><th scope=col>overlapping_gene_names_osim_2_pos</th></tr>\n",
       "\t<tr><th></th><th scope=col>&lt;chr&gt;</th></tr>\n",
       "</thead>\n",
       "<tbody>\n",
       "\t<tr><th scope=row>1</th><td>COL4A3   </td></tr>\n",
       "\t<tr><th scope=row>2</th><td>COL4A4   </td></tr>\n",
       "\t<tr><th scope=row>3</th><td>COL4A5   </td></tr>\n",
       "\t<tr><th scope=row>79</th><td>CNN1     </td></tr>\n",
       "\t<tr><th scope=row>177</th><td>LOXL2    </td></tr>\n",
       "\t<tr><th scope=row>178</th><td>LOXL4    </td></tr>\n",
       "\t<tr><th scope=row>179</th><td>LPAR1    </td></tr>\n",
       "\t<tr><th scope=row>180</th><td>LRAT     </td></tr>\n",
       "\t<tr><th scope=row>181</th><td>LRATD1   </td></tr>\n",
       "\t<tr><th scope=row>212</th><td>ATP13A4  </td></tr>\n",
       "\t<tr><th scope=row>213</th><td>ATP1A2   </td></tr>\n",
       "\t<tr><th scope=row>214</th><td>ATP1B2   </td></tr>\n",
       "\t<tr><th scope=row>249</th><td>GOLGA6L10</td></tr>\n",
       "\t<tr><th scope=row>250</th><td>GOLGA6L10</td></tr>\n",
       "\t<tr><th scope=row>251</th><td>GOLGA8A  </td></tr>\n",
       "\t<tr><th scope=row>252</th><td>GOLGA8A  </td></tr>\n",
       "\t<tr><th scope=row>253</th><td>GOLGA8B  </td></tr>\n",
       "\t<tr><th scope=row>254</th><td>GOLGA8R  </td></tr>\n",
       "\t<tr><th scope=row>255</th><td>GPC4     </td></tr>\n",
       "\t<tr><th scope=row>256</th><td>GPC5     </td></tr>\n",
       "\t<tr><th scope=row>257</th><td>GPC6     </td></tr>\n",
       "\t<tr><th scope=row>258</th><td>GPCPD1   </td></tr>\n",
       "\t<tr><th scope=row>259</th><td>GPIHBP1  </td></tr>\n",
       "\t<tr><th scope=row>260</th><td>GPNMB    </td></tr>\n",
       "\t<tr><th scope=row>261</th><td>GPR155   </td></tr>\n",
       "\t<tr><th scope=row>262</th><td>GPR156   </td></tr>\n",
       "\t<tr><th scope=row>444</th><td>HEG1     </td></tr>\n",
       "\t<tr><th scope=row>445</th><td>HEPH     </td></tr>\n",
       "\t<tr><th scope=row>446</th><td>HEPHL1   </td></tr>\n",
       "\t<tr><th scope=row>447</th><td>HERPUD1  </td></tr>\n",
       "\t<tr><th scope=row>⋮</th><td>⋮</td></tr>\n",
       "\t<tr><th scope=row>46466</th><td>MIEF2   </td></tr>\n",
       "\t<tr><th scope=row>46467</th><td>MIEF2   </td></tr>\n",
       "\t<tr><th scope=row>46468</th><td>MKX     </td></tr>\n",
       "\t<tr><th scope=row>46799</th><td>EDA2R   </td></tr>\n",
       "\t<tr><th scope=row>46800</th><td>EDEM2   </td></tr>\n",
       "\t<tr><th scope=row>46801</th><td>EDIL3   </td></tr>\n",
       "\t<tr><th scope=row>46821</th><td>DUSP15  </td></tr>\n",
       "\t<tr><th scope=row>46822</th><td>DUSP16  </td></tr>\n",
       "\t<tr><th scope=row>46823</th><td>DUSP16  </td></tr>\n",
       "\t<tr><th scope=row>46824</th><td>DUSP8   </td></tr>\n",
       "\t<tr><th scope=row>46840</th><td>ZNF843  </td></tr>\n",
       "\t<tr><th scope=row>46841</th><td>ZRANB1  </td></tr>\n",
       "\t<tr><th scope=row>46903</th><td>NDRG1   </td></tr>\n",
       "\t<tr><th scope=row>46969</th><td>EPAS1   </td></tr>\n",
       "\t<tr><th scope=row>46970</th><td>EPPK1   </td></tr>\n",
       "\t<tr><th scope=row>46971</th><td>EPX     </td></tr>\n",
       "\t<tr><th scope=row>46972</th><td>ERCC6   </td></tr>\n",
       "\t<tr><th scope=row>46973</th><td>ERICH3  </td></tr>\n",
       "\t<tr><th scope=row>46982</th><td>ECHDC2  </td></tr>\n",
       "\t<tr><th scope=row>47009</th><td>RGS6    </td></tr>\n",
       "\t<tr><th scope=row>47010</th><td>RGS7    </td></tr>\n",
       "\t<tr><th scope=row>47011</th><td>RHCE    </td></tr>\n",
       "\t<tr><th scope=row>47015</th><td>REEP2   </td></tr>\n",
       "\t<tr><th scope=row>47016</th><td>RERG    </td></tr>\n",
       "\t<tr><th scope=row>47017</th><td>RETREG1 </td></tr>\n",
       "\t<tr><th scope=row>47018</th><td>RFLNA   </td></tr>\n",
       "\t<tr><th scope=row>47019</th><td>RFPL4A  </td></tr>\n",
       "\t<tr><th scope=row>47020</th><td>RFPL4AL1</td></tr>\n",
       "\t<tr><th scope=row>47021</th><td>RFTN1   </td></tr>\n",
       "\t<tr><th scope=row>47022</th><td>RGL1    </td></tr>\n",
       "</tbody>\n",
       "</table>\n"
      ],
      "text/latex": [
       "A data.frame: 1735 × 1\n",
       "\\begin{tabular}{r|l}\n",
       "  & overlapping\\_gene\\_names\\_osim\\_2\\_pos\\\\\n",
       "  & <chr>\\\\\n",
       "\\hline\n",
       "\t1 & COL4A3   \\\\\n",
       "\t2 & COL4A4   \\\\\n",
       "\t3 & COL4A5   \\\\\n",
       "\t79 & CNN1     \\\\\n",
       "\t177 & LOXL2    \\\\\n",
       "\t178 & LOXL4    \\\\\n",
       "\t179 & LPAR1    \\\\\n",
       "\t180 & LRAT     \\\\\n",
       "\t181 & LRATD1   \\\\\n",
       "\t212 & ATP13A4  \\\\\n",
       "\t213 & ATP1A2   \\\\\n",
       "\t214 & ATP1B2   \\\\\n",
       "\t249 & GOLGA6L10\\\\\n",
       "\t250 & GOLGA6L10\\\\\n",
       "\t251 & GOLGA8A  \\\\\n",
       "\t252 & GOLGA8A  \\\\\n",
       "\t253 & GOLGA8B  \\\\\n",
       "\t254 & GOLGA8R  \\\\\n",
       "\t255 & GPC4     \\\\\n",
       "\t256 & GPC5     \\\\\n",
       "\t257 & GPC6     \\\\\n",
       "\t258 & GPCPD1   \\\\\n",
       "\t259 & GPIHBP1  \\\\\n",
       "\t260 & GPNMB    \\\\\n",
       "\t261 & GPR155   \\\\\n",
       "\t262 & GPR156   \\\\\n",
       "\t444 & HEG1     \\\\\n",
       "\t445 & HEPH     \\\\\n",
       "\t446 & HEPHL1   \\\\\n",
       "\t447 & HERPUD1  \\\\\n",
       "\t⋮ & ⋮\\\\\n",
       "\t46466 & MIEF2   \\\\\n",
       "\t46467 & MIEF2   \\\\\n",
       "\t46468 & MKX     \\\\\n",
       "\t46799 & EDA2R   \\\\\n",
       "\t46800 & EDEM2   \\\\\n",
       "\t46801 & EDIL3   \\\\\n",
       "\t46821 & DUSP15  \\\\\n",
       "\t46822 & DUSP16  \\\\\n",
       "\t46823 & DUSP16  \\\\\n",
       "\t46824 & DUSP8   \\\\\n",
       "\t46840 & ZNF843  \\\\\n",
       "\t46841 & ZRANB1  \\\\\n",
       "\t46903 & NDRG1   \\\\\n",
       "\t46969 & EPAS1   \\\\\n",
       "\t46970 & EPPK1   \\\\\n",
       "\t46971 & EPX     \\\\\n",
       "\t46972 & ERCC6   \\\\\n",
       "\t46973 & ERICH3  \\\\\n",
       "\t46982 & ECHDC2  \\\\\n",
       "\t47009 & RGS6    \\\\\n",
       "\t47010 & RGS7    \\\\\n",
       "\t47011 & RHCE    \\\\\n",
       "\t47015 & REEP2   \\\\\n",
       "\t47016 & RERG    \\\\\n",
       "\t47017 & RETREG1 \\\\\n",
       "\t47018 & RFLNA   \\\\\n",
       "\t47019 & RFPL4A  \\\\\n",
       "\t47020 & RFPL4AL1\\\\\n",
       "\t47021 & RFTN1   \\\\\n",
       "\t47022 & RGL1    \\\\\n",
       "\\end{tabular}\n"
      ],
      "text/markdown": [
       "\n",
       "A data.frame: 1735 × 1\n",
       "\n",
       "| <!--/--> | overlapping_gene_names_osim_2_pos &lt;chr&gt; |\n",
       "|---|---|\n",
       "| 1 | COL4A3    |\n",
       "| 2 | COL4A4    |\n",
       "| 3 | COL4A5    |\n",
       "| 79 | CNN1      |\n",
       "| 177 | LOXL2     |\n",
       "| 178 | LOXL4     |\n",
       "| 179 | LPAR1     |\n",
       "| 180 | LRAT      |\n",
       "| 181 | LRATD1    |\n",
       "| 212 | ATP13A4   |\n",
       "| 213 | ATP1A2    |\n",
       "| 214 | ATP1B2    |\n",
       "| 249 | GOLGA6L10 |\n",
       "| 250 | GOLGA6L10 |\n",
       "| 251 | GOLGA8A   |\n",
       "| 252 | GOLGA8A   |\n",
       "| 253 | GOLGA8B   |\n",
       "| 254 | GOLGA8R   |\n",
       "| 255 | GPC4      |\n",
       "| 256 | GPC5      |\n",
       "| 257 | GPC6      |\n",
       "| 258 | GPCPD1    |\n",
       "| 259 | GPIHBP1   |\n",
       "| 260 | GPNMB     |\n",
       "| 261 | GPR155    |\n",
       "| 262 | GPR156    |\n",
       "| 444 | HEG1      |\n",
       "| 445 | HEPH      |\n",
       "| 446 | HEPHL1    |\n",
       "| 447 | HERPUD1   |\n",
       "| ⋮ | ⋮ |\n",
       "| 46466 | MIEF2    |\n",
       "| 46467 | MIEF2    |\n",
       "| 46468 | MKX      |\n",
       "| 46799 | EDA2R    |\n",
       "| 46800 | EDEM2    |\n",
       "| 46801 | EDIL3    |\n",
       "| 46821 | DUSP15   |\n",
       "| 46822 | DUSP16   |\n",
       "| 46823 | DUSP16   |\n",
       "| 46824 | DUSP8    |\n",
       "| 46840 | ZNF843   |\n",
       "| 46841 | ZRANB1   |\n",
       "| 46903 | NDRG1    |\n",
       "| 46969 | EPAS1    |\n",
       "| 46970 | EPPK1    |\n",
       "| 46971 | EPX      |\n",
       "| 46972 | ERCC6    |\n",
       "| 46973 | ERICH3   |\n",
       "| 46982 | ECHDC2   |\n",
       "| 47009 | RGS6     |\n",
       "| 47010 | RGS7     |\n",
       "| 47011 | RHCE     |\n",
       "| 47015 | REEP2    |\n",
       "| 47016 | RERG     |\n",
       "| 47017 | RETREG1  |\n",
       "| 47018 | RFLNA    |\n",
       "| 47019 | RFPL4A   |\n",
       "| 47020 | RFPL4AL1 |\n",
       "| 47021 | RFTN1    |\n",
       "| 47022 | RGL1     |\n",
       "\n"
      ],
      "text/plain": [
       "      overlapping_gene_names_osim_2_pos\n",
       "1     COL4A3                           \n",
       "2     COL4A4                           \n",
       "3     COL4A5                           \n",
       "79    CNN1                             \n",
       "177   LOXL2                            \n",
       "178   LOXL4                            \n",
       "179   LPAR1                            \n",
       "180   LRAT                             \n",
       "181   LRATD1                           \n",
       "212   ATP13A4                          \n",
       "213   ATP1A2                           \n",
       "214   ATP1B2                           \n",
       "249   GOLGA6L10                        \n",
       "250   GOLGA6L10                        \n",
       "251   GOLGA8A                          \n",
       "252   GOLGA8A                          \n",
       "253   GOLGA8B                          \n",
       "254   GOLGA8R                          \n",
       "255   GPC4                             \n",
       "256   GPC5                             \n",
       "257   GPC6                             \n",
       "258   GPCPD1                           \n",
       "259   GPIHBP1                          \n",
       "260   GPNMB                            \n",
       "261   GPR155                           \n",
       "262   GPR156                           \n",
       "444   HEG1                             \n",
       "445   HEPH                             \n",
       "446   HEPHL1                           \n",
       "447   HERPUD1                          \n",
       "⋮     ⋮                                \n",
       "46466 MIEF2                            \n",
       "46467 MIEF2                            \n",
       "46468 MKX                              \n",
       "46799 EDA2R                            \n",
       "46800 EDEM2                            \n",
       "46801 EDIL3                            \n",
       "46821 DUSP15                           \n",
       "46822 DUSP16                           \n",
       "46823 DUSP16                           \n",
       "46824 DUSP8                            \n",
       "46840 ZNF843                           \n",
       "46841 ZRANB1                           \n",
       "46903 NDRG1                            \n",
       "46969 EPAS1                            \n",
       "46970 EPPK1                            \n",
       "46971 EPX                              \n",
       "46972 ERCC6                            \n",
       "46973 ERICH3                           \n",
       "46982 ECHDC2                           \n",
       "47009 RGS6                             \n",
       "47010 RGS7                             \n",
       "47011 RHCE                             \n",
       "47015 REEP2                            \n",
       "47016 RERG                             \n",
       "47017 RETREG1                          \n",
       "47018 RFLNA                            \n",
       "47019 RFPL4A                           \n",
       "47020 RFPL4AL1                         \n",
       "47021 RFTN1                            \n",
       "47022 RGL1                             "
      ]
     },
     "metadata": {},
     "output_type": "display_data"
    }
   ],
   "source": [
    "overlapping_gene_names_osim_2_pos<- subset(overlapping_gene_names_osim_2_pos, overlapping_gene_names_osim_2_pos !=\"NA\")\n",
    "dim(overlapping_gene_names_osim_2_pos)\n",
    "overlapping_gene_names_osim_2_pos"
   ]
  },
  {
   "cell_type": "code",
   "execution_count": 64,
   "id": "6862fd24-09bd-4491-b8f1-bf65979531ed",
   "metadata": {
    "tags": []
   },
   "outputs": [],
   "source": [
    "gene_ranges_neg<- GRanges(\n",
    "  seqnames = rep(\"ArtificialChromosome\", length(location_neg_genes$start_position)),\n",
    "  ranges = IRanges(location_neg_genes$start_position, location_neg_genes$end_position)\n",
    ")\n",
    "peak_osim_2_ranges <- GRanges(\n",
    "  seqnames = rep(\"ArtificialChromosome\", length(peaks_osim_2_regions$peakStart)),\n",
    "  ranges = IRanges(peaks_osim_2_regions$peakStart, peaks_osim_2_regions$peakEnd)\n",
    ")\n",
    "\n",
    "overlapping_genes_2_neg <- findOverlaps(gene_ranges_neg, peak_osim_2_ranges)"
   ]
  },
  {
   "cell_type": "code",
   "execution_count": 65,
   "id": "c03f72c5-a2f4-4ea2-8cbc-13db6bcdff39",
   "metadata": {
    "tags": []
   },
   "outputs": [
    {
     "data": {
      "text/html": [
       "<style>\n",
       ".list-inline {list-style: none; margin:0; padding: 0}\n",
       ".list-inline>li {display: inline-block}\n",
       ".list-inline>li:not(:last-child)::after {content: \"\\00b7\"; padding: 0 .5ex}\n",
       "</style>\n",
       "<ol class=list-inline><li>28029</li><li>1</li></ol>\n"
      ],
      "text/latex": [
       "\\begin{enumerate*}\n",
       "\\item 28029\n",
       "\\item 1\n",
       "\\end{enumerate*}\n"
      ],
      "text/markdown": [
       "1. 28029\n",
       "2. 1\n",
       "\n",
       "\n"
      ],
      "text/plain": [
       "[1] 28029     1"
      ]
     },
     "metadata": {},
     "output_type": "display_data"
    }
   ],
   "source": [
    "overlapping_indexes_2_neg <- subjectHits(overlapping_genes_2_neg)\n",
    "overlapping_gene_names_osim_2_neg <- location_neg_genes$SYMBOL[overlapping_indexes_2_neg]\n",
    "overlapping_gene_names_osim_2_neg=as.data.frame(overlapping_gene_names_osim_2_neg)\n",
    "dim(overlapping_gene_names_osim_2_neg)\n"
   ]
  },
  {
   "cell_type": "code",
   "execution_count": 66,
   "id": "bf5608e0-9445-47ef-92b1-914323730c9b",
   "metadata": {
    "tags": []
   },
   "outputs": [
    {
     "data": {
      "text/html": [
       "<style>\n",
       ".list-inline {list-style: none; margin:0; padding: 0}\n",
       ".list-inline>li {display: inline-block}\n",
       ".list-inline>li:not(:last-child)::after {content: \"\\00b7\"; padding: 0 .5ex}\n",
       "</style>\n",
       "<ol class=list-inline><li>763</li><li>1</li></ol>\n"
      ],
      "text/latex": [
       "\\begin{enumerate*}\n",
       "\\item 763\n",
       "\\item 1\n",
       "\\end{enumerate*}\n"
      ],
      "text/markdown": [
       "1. 763\n",
       "2. 1\n",
       "\n",
       "\n"
      ],
      "text/plain": [
       "[1] 763   1"
      ]
     },
     "metadata": {},
     "output_type": "display_data"
    },
    {
     "data": {
      "text/html": [
       "<table class=\"dataframe\">\n",
       "<caption>A data.frame: 763 × 1</caption>\n",
       "<thead>\n",
       "\t<tr><th></th><th scope=col>overlapping_gene_names_osim_2_neg</th></tr>\n",
       "\t<tr><th></th><th scope=col>&lt;chr&gt;</th></tr>\n",
       "</thead>\n",
       "<tbody>\n",
       "\t<tr><th scope=row>359</th><td>LYAR    </td></tr>\n",
       "\t<tr><th scope=row>360</th><td>LYPD3   </td></tr>\n",
       "\t<tr><th scope=row>361</th><td>LYPD5   </td></tr>\n",
       "\t<tr><th scope=row>362</th><td>MAB21L4 </td></tr>\n",
       "\t<tr><th scope=row>363</th><td>MACC1   </td></tr>\n",
       "\t<tr><th scope=row>364</th><td>MAD2L1  </td></tr>\n",
       "\t<tr><th scope=row>579</th><td>IFI44   </td></tr>\n",
       "\t<tr><th scope=row>580</th><td>IFI44L  </td></tr>\n",
       "\t<tr><th scope=row>581</th><td>IFIH1   </td></tr>\n",
       "\t<tr><th scope=row>582</th><td>IFIT1   </td></tr>\n",
       "\t<tr><th scope=row>583</th><td>IFIT2   </td></tr>\n",
       "\t<tr><th scope=row>824</th><td>STAMBPL1</td></tr>\n",
       "\t<tr><th scope=row>825</th><td>STEAP1  </td></tr>\n",
       "\t<tr><th scope=row>826</th><td>STEAP1B </td></tr>\n",
       "\t<tr><th scope=row>827</th><td>STIL    </td></tr>\n",
       "\t<tr><th scope=row>828</th><td>STK39   </td></tr>\n",
       "\t<tr><th scope=row>829</th><td>STPG3   </td></tr>\n",
       "\t<tr><th scope=row>830</th><td>STPG4   </td></tr>\n",
       "\t<tr><th scope=row>831</th><td>STRA6   </td></tr>\n",
       "\t<tr><th scope=row>832</th><td>STRA6   </td></tr>\n",
       "\t<tr><th scope=row>833</th><td>STRIP2  </td></tr>\n",
       "\t<tr><th scope=row>834</th><td>STX1A   </td></tr>\n",
       "\t<tr><th scope=row>835</th><td>STYK1   </td></tr>\n",
       "\t<tr><th scope=row>836</th><td>SUGT1   </td></tr>\n",
       "\t<tr><th scope=row>837</th><td>SULT1A4 </td></tr>\n",
       "\t<tr><th scope=row>1076</th><td>COL20A1 </td></tr>\n",
       "\t<tr><th scope=row>1077</th><td>COL4A2  </td></tr>\n",
       "\t<tr><th scope=row>1128</th><td>CREB3L3 </td></tr>\n",
       "\t<tr><th scope=row>1706</th><td>CALM1   </td></tr>\n",
       "\t<tr><th scope=row>1738</th><td>BARD1   </td></tr>\n",
       "\t<tr><th scope=row>⋮</th><td>⋮</td></tr>\n",
       "\t<tr><th scope=row>26966</th><td>CEACAM1 </td></tr>\n",
       "\t<tr><th scope=row>26967</th><td>CELSR1  </td></tr>\n",
       "\t<tr><th scope=row>26968</th><td>CENPA   </td></tr>\n",
       "\t<tr><th scope=row>26969</th><td>CENPE   </td></tr>\n",
       "\t<tr><th scope=row>26970</th><td>CENPF   </td></tr>\n",
       "\t<tr><th scope=row>26971</th><td>CENPH   </td></tr>\n",
       "\t<tr><th scope=row>26972</th><td>CENPI   </td></tr>\n",
       "\t<tr><th scope=row>26973</th><td>CENPJ   </td></tr>\n",
       "\t<tr><th scope=row>27008</th><td>ARHGEF39</td></tr>\n",
       "\t<tr><th scope=row>27009</th><td>ARHGEF4 </td></tr>\n",
       "\t<tr><th scope=row>27010</th><td>ARID3A  </td></tr>\n",
       "\t<tr><th scope=row>27011</th><td>ARID3B  </td></tr>\n",
       "\t<tr><th scope=row>27012</th><td>ARL14   </td></tr>\n",
       "\t<tr><th scope=row>27013</th><td>ARL14EPL</td></tr>\n",
       "\t<tr><th scope=row>27386</th><td>TM4SF19 </td></tr>\n",
       "\t<tr><th scope=row>27387</th><td>TMC4    </td></tr>\n",
       "\t<tr><th scope=row>27388</th><td>TMC4    </td></tr>\n",
       "\t<tr><th scope=row>27389</th><td>TMC4    </td></tr>\n",
       "\t<tr><th scope=row>27485</th><td>CHAF1B  </td></tr>\n",
       "\t<tr><th scope=row>27573</th><td>NBN     </td></tr>\n",
       "\t<tr><th scope=row>27574</th><td>NCAPD2  </td></tr>\n",
       "\t<tr><th scope=row>27622</th><td>SLC25A34</td></tr>\n",
       "\t<tr><th scope=row>27623</th><td>SLC30A1 </td></tr>\n",
       "\t<tr><th scope=row>27627</th><td>NIF3L1  </td></tr>\n",
       "\t<tr><th scope=row>27628</th><td>NKAIN4  </td></tr>\n",
       "\t<tr><th scope=row>27839</th><td>PAK6    </td></tr>\n",
       "\t<tr><th scope=row>27849</th><td>MPP2    </td></tr>\n",
       "\t<tr><th scope=row>27908</th><td>NTRK2   </td></tr>\n",
       "\t<tr><th scope=row>27909</th><td>NUDT1   </td></tr>\n",
       "\t<tr><th scope=row>27910</th><td>NUDT15  </td></tr>\n",
       "</tbody>\n",
       "</table>\n"
      ],
      "text/latex": [
       "A data.frame: 763 × 1\n",
       "\\begin{tabular}{r|l}\n",
       "  & overlapping\\_gene\\_names\\_osim\\_2\\_neg\\\\\n",
       "  & <chr>\\\\\n",
       "\\hline\n",
       "\t359 & LYAR    \\\\\n",
       "\t360 & LYPD3   \\\\\n",
       "\t361 & LYPD5   \\\\\n",
       "\t362 & MAB21L4 \\\\\n",
       "\t363 & MACC1   \\\\\n",
       "\t364 & MAD2L1  \\\\\n",
       "\t579 & IFI44   \\\\\n",
       "\t580 & IFI44L  \\\\\n",
       "\t581 & IFIH1   \\\\\n",
       "\t582 & IFIT1   \\\\\n",
       "\t583 & IFIT2   \\\\\n",
       "\t824 & STAMBPL1\\\\\n",
       "\t825 & STEAP1  \\\\\n",
       "\t826 & STEAP1B \\\\\n",
       "\t827 & STIL    \\\\\n",
       "\t828 & STK39   \\\\\n",
       "\t829 & STPG3   \\\\\n",
       "\t830 & STPG4   \\\\\n",
       "\t831 & STRA6   \\\\\n",
       "\t832 & STRA6   \\\\\n",
       "\t833 & STRIP2  \\\\\n",
       "\t834 & STX1A   \\\\\n",
       "\t835 & STYK1   \\\\\n",
       "\t836 & SUGT1   \\\\\n",
       "\t837 & SULT1A4 \\\\\n",
       "\t1076 & COL20A1 \\\\\n",
       "\t1077 & COL4A2  \\\\\n",
       "\t1128 & CREB3L3 \\\\\n",
       "\t1706 & CALM1   \\\\\n",
       "\t1738 & BARD1   \\\\\n",
       "\t⋮ & ⋮\\\\\n",
       "\t26966 & CEACAM1 \\\\\n",
       "\t26967 & CELSR1  \\\\\n",
       "\t26968 & CENPA   \\\\\n",
       "\t26969 & CENPE   \\\\\n",
       "\t26970 & CENPF   \\\\\n",
       "\t26971 & CENPH   \\\\\n",
       "\t26972 & CENPI   \\\\\n",
       "\t26973 & CENPJ   \\\\\n",
       "\t27008 & ARHGEF39\\\\\n",
       "\t27009 & ARHGEF4 \\\\\n",
       "\t27010 & ARID3A  \\\\\n",
       "\t27011 & ARID3B  \\\\\n",
       "\t27012 & ARL14   \\\\\n",
       "\t27013 & ARL14EPL\\\\\n",
       "\t27386 & TM4SF19 \\\\\n",
       "\t27387 & TMC4    \\\\\n",
       "\t27388 & TMC4    \\\\\n",
       "\t27389 & TMC4    \\\\\n",
       "\t27485 & CHAF1B  \\\\\n",
       "\t27573 & NBN     \\\\\n",
       "\t27574 & NCAPD2  \\\\\n",
       "\t27622 & SLC25A34\\\\\n",
       "\t27623 & SLC30A1 \\\\\n",
       "\t27627 & NIF3L1  \\\\\n",
       "\t27628 & NKAIN4  \\\\\n",
       "\t27839 & PAK6    \\\\\n",
       "\t27849 & MPP2    \\\\\n",
       "\t27908 & NTRK2   \\\\\n",
       "\t27909 & NUDT1   \\\\\n",
       "\t27910 & NUDT15  \\\\\n",
       "\\end{tabular}\n"
      ],
      "text/markdown": [
       "\n",
       "A data.frame: 763 × 1\n",
       "\n",
       "| <!--/--> | overlapping_gene_names_osim_2_neg &lt;chr&gt; |\n",
       "|---|---|\n",
       "| 359 | LYAR     |\n",
       "| 360 | LYPD3    |\n",
       "| 361 | LYPD5    |\n",
       "| 362 | MAB21L4  |\n",
       "| 363 | MACC1    |\n",
       "| 364 | MAD2L1   |\n",
       "| 579 | IFI44    |\n",
       "| 580 | IFI44L   |\n",
       "| 581 | IFIH1    |\n",
       "| 582 | IFIT1    |\n",
       "| 583 | IFIT2    |\n",
       "| 824 | STAMBPL1 |\n",
       "| 825 | STEAP1   |\n",
       "| 826 | STEAP1B  |\n",
       "| 827 | STIL     |\n",
       "| 828 | STK39    |\n",
       "| 829 | STPG3    |\n",
       "| 830 | STPG4    |\n",
       "| 831 | STRA6    |\n",
       "| 832 | STRA6    |\n",
       "| 833 | STRIP2   |\n",
       "| 834 | STX1A    |\n",
       "| 835 | STYK1    |\n",
       "| 836 | SUGT1    |\n",
       "| 837 | SULT1A4  |\n",
       "| 1076 | COL20A1  |\n",
       "| 1077 | COL4A2   |\n",
       "| 1128 | CREB3L3  |\n",
       "| 1706 | CALM1    |\n",
       "| 1738 | BARD1    |\n",
       "| ⋮ | ⋮ |\n",
       "| 26966 | CEACAM1  |\n",
       "| 26967 | CELSR1   |\n",
       "| 26968 | CENPA    |\n",
       "| 26969 | CENPE    |\n",
       "| 26970 | CENPF    |\n",
       "| 26971 | CENPH    |\n",
       "| 26972 | CENPI    |\n",
       "| 26973 | CENPJ    |\n",
       "| 27008 | ARHGEF39 |\n",
       "| 27009 | ARHGEF4  |\n",
       "| 27010 | ARID3A   |\n",
       "| 27011 | ARID3B   |\n",
       "| 27012 | ARL14    |\n",
       "| 27013 | ARL14EPL |\n",
       "| 27386 | TM4SF19  |\n",
       "| 27387 | TMC4     |\n",
       "| 27388 | TMC4     |\n",
       "| 27389 | TMC4     |\n",
       "| 27485 | CHAF1B   |\n",
       "| 27573 | NBN      |\n",
       "| 27574 | NCAPD2   |\n",
       "| 27622 | SLC25A34 |\n",
       "| 27623 | SLC30A1  |\n",
       "| 27627 | NIF3L1   |\n",
       "| 27628 | NKAIN4   |\n",
       "| 27839 | PAK6     |\n",
       "| 27849 | MPP2     |\n",
       "| 27908 | NTRK2    |\n",
       "| 27909 | NUDT1    |\n",
       "| 27910 | NUDT15   |\n",
       "\n"
      ],
      "text/plain": [
       "      overlapping_gene_names_osim_2_neg\n",
       "359   LYAR                             \n",
       "360   LYPD3                            \n",
       "361   LYPD5                            \n",
       "362   MAB21L4                          \n",
       "363   MACC1                            \n",
       "364   MAD2L1                           \n",
       "579   IFI44                            \n",
       "580   IFI44L                           \n",
       "581   IFIH1                            \n",
       "582   IFIT1                            \n",
       "583   IFIT2                            \n",
       "824   STAMBPL1                         \n",
       "825   STEAP1                           \n",
       "826   STEAP1B                          \n",
       "827   STIL                             \n",
       "828   STK39                            \n",
       "829   STPG3                            \n",
       "830   STPG4                            \n",
       "831   STRA6                            \n",
       "832   STRA6                            \n",
       "833   STRIP2                           \n",
       "834   STX1A                            \n",
       "835   STYK1                            \n",
       "836   SUGT1                            \n",
       "837   SULT1A4                          \n",
       "1076  COL20A1                          \n",
       "1077  COL4A2                           \n",
       "1128  CREB3L3                          \n",
       "1706  CALM1                            \n",
       "1738  BARD1                            \n",
       "⋮     ⋮                                \n",
       "26966 CEACAM1                          \n",
       "26967 CELSR1                           \n",
       "26968 CENPA                            \n",
       "26969 CENPE                            \n",
       "26970 CENPF                            \n",
       "26971 CENPH                            \n",
       "26972 CENPI                            \n",
       "26973 CENPJ                            \n",
       "27008 ARHGEF39                         \n",
       "27009 ARHGEF4                          \n",
       "27010 ARID3A                           \n",
       "27011 ARID3B                           \n",
       "27012 ARL14                            \n",
       "27013 ARL14EPL                         \n",
       "27386 TM4SF19                          \n",
       "27387 TMC4                             \n",
       "27388 TMC4                             \n",
       "27389 TMC4                             \n",
       "27485 CHAF1B                           \n",
       "27573 NBN                              \n",
       "27574 NCAPD2                           \n",
       "27622 SLC25A34                         \n",
       "27623 SLC30A1                          \n",
       "27627 NIF3L1                           \n",
       "27628 NKAIN4                           \n",
       "27839 PAK6                             \n",
       "27849 MPP2                             \n",
       "27908 NTRK2                            \n",
       "27909 NUDT1                            \n",
       "27910 NUDT15                           "
      ]
     },
     "metadata": {},
     "output_type": "display_data"
    }
   ],
   "source": [
    "overlapping_gene_names_osim_2_neg<- subset(overlapping_gene_names_osim_2_neg, overlapping_gene_names_osim_2_neg !=\"NA\")\n",
    "dim(overlapping_gene_names_osim_2_neg)\n",
    "overlapping_gene_names_osim_2_neg"
   ]
  },
  {
   "cell_type": "code",
   "execution_count": 67,
   "id": "47ea4427-a351-457d-8fb7-1fb1dc15d949",
   "metadata": {
    "tags": []
   },
   "outputs": [],
   "source": [
    "overlap_positive_2= 1740 # Number of overlapping genes\n",
    "overlap_negative_2 = 742\n",
    "\n",
    "total_genes_DE = 2778\n",
    "\n",
    "\n",
    "prop_overlap_pos_2 <- overlap_positive_2 / total_genes_DE\n",
    "prop_overlap_neg_2 <- overlap_negative_2 / total_genes_DE"
   ]
  },
  {
   "cell_type": "code",
   "execution_count": 68,
   "id": "4914ef67-5620-4101-8591-c014bb8d3b73",
   "metadata": {
    "tags": []
   },
   "outputs": [],
   "source": [
    "proportions_2 <- data.frame(\n",
    "  Category = c(\"Positive_DE_genes\", \"Negative_DE_genes\"),\n",
    "  Proportion = c(prop_overlap_pos_2, prop_overlap_neg_2)\n",
    ")"
   ]
  },
  {
   "cell_type": "code",
   "execution_count": 69,
   "id": "603ffefa-9173-426d-a810-99037f5cf095",
   "metadata": {
    "tags": []
   },
   "outputs": [
    {
     "data": {
      "text/html": [
       "<strong>png:</strong> 2"
      ],
      "text/latex": [
       "\\textbf{png:} 2"
      ],
      "text/markdown": [
       "**png:** 2"
      ],
      "text/plain": [
       "png \n",
       "  2 "
      ]
     },
     "metadata": {},
     "output_type": "display_data"
    }
   ],
   "source": [
    "png(\"barplot2.png\", width = 2000, height = 3000, res = 400)\n",
    "barplot(proportions_2$Proportion, names.arg = proportions_2$Category, \n",
    "        xlab = \"Category\", ylab = \"Proportion\", main = \"Overlapping with ChIP peaks Osim 2\",\n",
    "        col = c(\"orange\", \"skyblue\"), ylim = c(0, max(proportions_2$Proportion) * 1.2))\n",
    "dev.off()"
   ]
  },
  {
   "cell_type": "code",
   "execution_count": 75,
   "id": "f541deb7-9f61-46c0-88cf-eedd9bb49579",
   "metadata": {
    "tags": []
   },
   "outputs": [
    {
     "data": {
      "text/html": [
       "<table class=\"dataframe\">\n",
       "<caption>A data.frame: 6 × 10</caption>\n",
       "<thead>\n",
       "\t<tr><th></th><th scope=col>V1</th><th scope=col>V2</th><th scope=col>V3</th><th scope=col>V4</th><th scope=col>V5</th><th scope=col>V6</th><th scope=col>V7</th><th scope=col>V8</th><th scope=col>V9</th><th scope=col>V10</th></tr>\n",
       "\t<tr><th></th><th scope=col>&lt;chr&gt;</th><th scope=col>&lt;int&gt;</th><th scope=col>&lt;int&gt;</th><th scope=col>&lt;chr&gt;</th><th scope=col>&lt;int&gt;</th><th scope=col>&lt;chr&gt;</th><th scope=col>&lt;dbl&gt;</th><th scope=col>&lt;dbl&gt;</th><th scope=col>&lt;dbl&gt;</th><th scope=col>&lt;int&gt;</th></tr>\n",
       "</thead>\n",
       "<tbody>\n",
       "\t<tr><th scope=row>1</th><td>chr1</td><td>817183</td><td>817389</td><td>X15_07C0_00YDAZ_H1875-Osim-3_H3K27Ac_hs_i60_peak_1</td><td>67</td><td>.</td><td>5.46027</td><td>8.68664</td><td>6.76320</td><td>130</td></tr>\n",
       "\t<tr><th scope=row>2</th><td>chr1</td><td>905119</td><td>905791</td><td>X15_07C0_00YDAZ_H1875-Osim-3_H3K27Ac_hs_i60_peak_2</td><td>58</td><td>.</td><td>5.09759</td><td>7.74435</td><td>5.85295</td><td>186</td></tr>\n",
       "\t<tr><th scope=row>3</th><td>chr1</td><td>920699</td><td>920905</td><td>X15_07C0_00YDAZ_H1875-Osim-3_H3K27Ac_hs_i60_peak_3</td><td>25</td><td>.</td><td>2.57930</td><td>4.24476</td><td>2.51557</td><td> 96</td></tr>\n",
       "\t<tr><th scope=row>4</th><td>chr1</td><td>923412</td><td>923766</td><td>X15_07C0_00YDAZ_H1875-Osim-3_H3K27Ac_hs_i60_peak_4</td><td>18</td><td>.</td><td>2.85564</td><td>3.53412</td><td>1.85207</td><td> 59</td></tr>\n",
       "\t<tr><th scope=row>5</th><td>chr1</td><td>924684</td><td>924987</td><td>X15_07C0_00YDAZ_H1875-Osim-3_H3K27Ac_hs_i60_peak_5</td><td>73</td><td>.</td><td>4.75065</td><td>9.25272</td><td>7.30868</td><td>146</td></tr>\n",
       "\t<tr><th scope=row>6</th><td>chr1</td><td>932456</td><td>932670</td><td>X15_07C0_00YDAZ_H1875-Osim-3_H3K27Ac_hs_i60_peak_6</td><td>31</td><td>.</td><td>3.73286</td><td>4.96282</td><td>3.19532</td><td>192</td></tr>\n",
       "</tbody>\n",
       "</table>\n"
      ],
      "text/latex": [
       "A data.frame: 6 × 10\n",
       "\\begin{tabular}{r|llllllllll}\n",
       "  & V1 & V2 & V3 & V4 & V5 & V6 & V7 & V8 & V9 & V10\\\\\n",
       "  & <chr> & <int> & <int> & <chr> & <int> & <chr> & <dbl> & <dbl> & <dbl> & <int>\\\\\n",
       "\\hline\n",
       "\t1 & chr1 & 817183 & 817389 & X15\\_07C0\\_00YDAZ\\_H1875-Osim-3\\_H3K27Ac\\_hs\\_i60\\_peak\\_1 & 67 & . & 5.46027 & 8.68664 & 6.76320 & 130\\\\\n",
       "\t2 & chr1 & 905119 & 905791 & X15\\_07C0\\_00YDAZ\\_H1875-Osim-3\\_H3K27Ac\\_hs\\_i60\\_peak\\_2 & 58 & . & 5.09759 & 7.74435 & 5.85295 & 186\\\\\n",
       "\t3 & chr1 & 920699 & 920905 & X15\\_07C0\\_00YDAZ\\_H1875-Osim-3\\_H3K27Ac\\_hs\\_i60\\_peak\\_3 & 25 & . & 2.57930 & 4.24476 & 2.51557 &  96\\\\\n",
       "\t4 & chr1 & 923412 & 923766 & X15\\_07C0\\_00YDAZ\\_H1875-Osim-3\\_H3K27Ac\\_hs\\_i60\\_peak\\_4 & 18 & . & 2.85564 & 3.53412 & 1.85207 &  59\\\\\n",
       "\t5 & chr1 & 924684 & 924987 & X15\\_07C0\\_00YDAZ\\_H1875-Osim-3\\_H3K27Ac\\_hs\\_i60\\_peak\\_5 & 73 & . & 4.75065 & 9.25272 & 7.30868 & 146\\\\\n",
       "\t6 & chr1 & 932456 & 932670 & X15\\_07C0\\_00YDAZ\\_H1875-Osim-3\\_H3K27Ac\\_hs\\_i60\\_peak\\_6 & 31 & . & 3.73286 & 4.96282 & 3.19532 & 192\\\\\n",
       "\\end{tabular}\n"
      ],
      "text/markdown": [
       "\n",
       "A data.frame: 6 × 10\n",
       "\n",
       "| <!--/--> | V1 &lt;chr&gt; | V2 &lt;int&gt; | V3 &lt;int&gt; | V4 &lt;chr&gt; | V5 &lt;int&gt; | V6 &lt;chr&gt; | V7 &lt;dbl&gt; | V8 &lt;dbl&gt; | V9 &lt;dbl&gt; | V10 &lt;int&gt; |\n",
       "|---|---|---|---|---|---|---|---|---|---|---|\n",
       "| 1 | chr1 | 817183 | 817389 | X15_07C0_00YDAZ_H1875-Osim-3_H3K27Ac_hs_i60_peak_1 | 67 | . | 5.46027 | 8.68664 | 6.76320 | 130 |\n",
       "| 2 | chr1 | 905119 | 905791 | X15_07C0_00YDAZ_H1875-Osim-3_H3K27Ac_hs_i60_peak_2 | 58 | . | 5.09759 | 7.74435 | 5.85295 | 186 |\n",
       "| 3 | chr1 | 920699 | 920905 | X15_07C0_00YDAZ_H1875-Osim-3_H3K27Ac_hs_i60_peak_3 | 25 | . | 2.57930 | 4.24476 | 2.51557 |  96 |\n",
       "| 4 | chr1 | 923412 | 923766 | X15_07C0_00YDAZ_H1875-Osim-3_H3K27Ac_hs_i60_peak_4 | 18 | . | 2.85564 | 3.53412 | 1.85207 |  59 |\n",
       "| 5 | chr1 | 924684 | 924987 | X15_07C0_00YDAZ_H1875-Osim-3_H3K27Ac_hs_i60_peak_5 | 73 | . | 4.75065 | 9.25272 | 7.30868 | 146 |\n",
       "| 6 | chr1 | 932456 | 932670 | X15_07C0_00YDAZ_H1875-Osim-3_H3K27Ac_hs_i60_peak_6 | 31 | . | 3.73286 | 4.96282 | 3.19532 | 192 |\n",
       "\n"
      ],
      "text/plain": [
       "  V1   V2     V3     V4                                                 V5 V6\n",
       "1 chr1 817183 817389 X15_07C0_00YDAZ_H1875-Osim-3_H3K27Ac_hs_i60_peak_1 67 . \n",
       "2 chr1 905119 905791 X15_07C0_00YDAZ_H1875-Osim-3_H3K27Ac_hs_i60_peak_2 58 . \n",
       "3 chr1 920699 920905 X15_07C0_00YDAZ_H1875-Osim-3_H3K27Ac_hs_i60_peak_3 25 . \n",
       "4 chr1 923412 923766 X15_07C0_00YDAZ_H1875-Osim-3_H3K27Ac_hs_i60_peak_4 18 . \n",
       "5 chr1 924684 924987 X15_07C0_00YDAZ_H1875-Osim-3_H3K27Ac_hs_i60_peak_5 73 . \n",
       "6 chr1 932456 932670 X15_07C0_00YDAZ_H1875-Osim-3_H3K27Ac_hs_i60_peak_6 31 . \n",
       "  V7      V8      V9      V10\n",
       "1 5.46027 8.68664 6.76320 130\n",
       "2 5.09759 7.74435 5.85295 186\n",
       "3 2.57930 4.24476 2.51557  96\n",
       "4 2.85564 3.53412 1.85207  59\n",
       "5 4.75065 9.25272 7.30868 146\n",
       "6 3.73286 4.96282 3.19532 192"
      ]
     },
     "metadata": {},
     "output_type": "display_data"
    }
   ],
   "source": [
    "#SAMPLE3\n",
    "\n",
    "# Set the path to the file narrowpeaks file\n",
    "Narrow_file_Osim_3 <- \"/bin/Exam/Osim-3_H3K27Ac_hs_i60_peaks.narrowPeak\"\n",
    "\n",
    "# Read the file into a data frame\n",
    "peaks_osim_3 <- read.delim(Narrow_file_Osim_3, header = FALSE, stringsAsFactors = FALSE)\n",
    "head(peaks_osim_3)\n",
    "library(readxl)"
   ]
  },
  {
   "cell_type": "code",
   "execution_count": 76,
   "id": "7a767759-34f2-4aaa-9c1b-2d35d453c197",
   "metadata": {
    "tags": []
   },
   "outputs": [],
   "source": [
    "peaks_osim_3_regions=peaks_osim_3[,c(\"V1\", \"V2\", \"V3\", \"V4\")]\n",
    "colnames(peaks_osim_3_regions) <- c(\"seqname\", \"peakStart\", \"peakEnd\", \"peakID\")\n"
   ]
  },
  {
   "cell_type": "code",
   "execution_count": 77,
   "id": "ec7005f8-3509-403b-870f-81f491bd7a37",
   "metadata": {
    "tags": []
   },
   "outputs": [],
   "source": [
    "gene_ranges_pos<- GRanges(\n",
    "  seqnames = rep(\"ArtificialChromosome\", length(location_pos_genes$start_position)),\n",
    "  ranges = IRanges(location_pos_genes$start_position, location_pos_genes$end_position)\n",
    ")\n",
    "\n",
    "peak_osim_3_ranges <- GRanges(\n",
    "  seqnames = rep(\"ArtificialChromosome\", length(peaks_osim_3_regions$peakStart)),\n",
    "  ranges = IRanges(peaks_osim_3_regions$peakStart, peaks_osim_3_regions$peakEnd)\n",
    ")\n",
    "\n",
    "overlapping_genes_3_pos <- findOverlaps(gene_ranges_pos, peak_osim_3_ranges)"
   ]
  },
  {
   "cell_type": "code",
   "execution_count": 78,
   "id": "4f8b7e1e-f411-47cf-9581-711923d37d20",
   "metadata": {
    "tags": []
   },
   "outputs": [
    {
     "data": {
      "text/html": [
       "<style>\n",
       ".list-inline {list-style: none; margin:0; padding: 0}\n",
       ".list-inline>li {display: inline-block}\n",
       ".list-inline>li:not(:last-child)::after {content: \"\\00b7\"; padding: 0 .5ex}\n",
       "</style>\n",
       "<ol class=list-inline><li>60324</li><li>1</li></ol>\n"
      ],
      "text/latex": [
       "\\begin{enumerate*}\n",
       "\\item 60324\n",
       "\\item 1\n",
       "\\end{enumerate*}\n"
      ],
      "text/markdown": [
       "1. 60324\n",
       "2. 1\n",
       "\n",
       "\n"
      ],
      "text/plain": [
       "[1] 60324     1"
      ]
     },
     "metadata": {},
     "output_type": "display_data"
    }
   ],
   "source": [
    "overlapping_indexes_3_pos <- subjectHits(overlapping_genes_3_pos)\n",
    "overlapping_gene_names_osim_3_pos <- location_pos_genes$SYMBOL[overlapping_indexes_3_pos]\n",
    "overlapping_gene_names_osim_3_pos=as.data.frame(overlapping_gene_names_osim_3_pos)\n",
    "dim(overlapping_gene_names_osim_3_pos)\n"
   ]
  },
  {
   "cell_type": "code",
   "execution_count": 79,
   "id": "bd989629-dcae-4154-b223-b131625fcf0e",
   "metadata": {
    "tags": []
   },
   "outputs": [
    {
     "data": {
      "text/html": [
       "<style>\n",
       ".list-inline {list-style: none; margin:0; padding: 0}\n",
       ".list-inline>li {display: inline-block}\n",
       ".list-inline>li:not(:last-child)::after {content: \"\\00b7\"; padding: 0 .5ex}\n",
       "</style>\n",
       "<ol class=list-inline><li>1716</li><li>1</li></ol>\n"
      ],
      "text/latex": [
       "\\begin{enumerate*}\n",
       "\\item 1716\n",
       "\\item 1\n",
       "\\end{enumerate*}\n"
      ],
      "text/markdown": [
       "1. 1716\n",
       "2. 1\n",
       "\n",
       "\n"
      ],
      "text/plain": [
       "[1] 1716    1"
      ]
     },
     "metadata": {},
     "output_type": "display_data"
    },
    {
     "data": {
      "text/html": [
       "<table class=\"dataframe\">\n",
       "<caption>A data.frame: 1716 × 1</caption>\n",
       "<thead>\n",
       "\t<tr><th></th><th scope=col>overlapping_gene_names_osim_3_pos</th></tr>\n",
       "\t<tr><th></th><th scope=col>&lt;chr&gt;</th></tr>\n",
       "</thead>\n",
       "<tbody>\n",
       "\t<tr><th scope=row>1</th><td>CPQ    </td></tr>\n",
       "\t<tr><th scope=row>2</th><td>CPS1   </td></tr>\n",
       "\t<tr><th scope=row>3</th><td>CPZ    </td></tr>\n",
       "\t<tr><th scope=row>4</th><td>CRACR2A</td></tr>\n",
       "\t<tr><th scope=row>5</th><td>CREB5  </td></tr>\n",
       "\t<tr><th scope=row>6</th><td>CREBRF </td></tr>\n",
       "\t<tr><th scope=row>7</th><td>CRIM1  </td></tr>\n",
       "\t<tr><th scope=row>8</th><td>CRIM1  </td></tr>\n",
       "\t<tr><th scope=row>9</th><td>CRIP3  </td></tr>\n",
       "\t<tr><th scope=row>121</th><td>COCH   </td></tr>\n",
       "\t<tr><th scope=row>122</th><td>COL11A2</td></tr>\n",
       "\t<tr><th scope=row>123</th><td>COL11A2</td></tr>\n",
       "\t<tr><th scope=row>239</th><td>MMP19  </td></tr>\n",
       "\t<tr><th scope=row>240</th><td>MMP23B </td></tr>\n",
       "\t<tr><th scope=row>241</th><td>MMP24  </td></tr>\n",
       "\t<tr><th scope=row>242</th><td>MMP24OS</td></tr>\n",
       "\t<tr><th scope=row>243</th><td>MN1    </td></tr>\n",
       "\t<tr><th scope=row>244</th><td>MOBP   </td></tr>\n",
       "\t<tr><th scope=row>245</th><td>MOSPD1 </td></tr>\n",
       "\t<tr><th scope=row>246</th><td>MOV10L1</td></tr>\n",
       "\t<tr><th scope=row>247</th><td>MRAS   </td></tr>\n",
       "\t<tr><th scope=row>286</th><td>ASNS   </td></tr>\n",
       "\t<tr><th scope=row>287</th><td>ASPHD1 </td></tr>\n",
       "\t<tr><th scope=row>288</th><td>ASPHD2 </td></tr>\n",
       "\t<tr><th scope=row>331</th><td>GYG2   </td></tr>\n",
       "\t<tr><th scope=row>332</th><td>H2AC13 </td></tr>\n",
       "\t<tr><th scope=row>333</th><td>H2AC6  </td></tr>\n",
       "\t<tr><th scope=row>334</th><td>H2AC8  </td></tr>\n",
       "\t<tr><th scope=row>335</th><td>H2BC15 </td></tr>\n",
       "\t<tr><th scope=row>336</th><td>H2BC8  </td></tr>\n",
       "\t<tr><th scope=row>⋮</th><td>⋮</td></tr>\n",
       "\t<tr><th scope=row>59529</th><td>NLRP1  </td></tr>\n",
       "\t<tr><th scope=row>59530</th><td>NLRP10 </td></tr>\n",
       "\t<tr><th scope=row>59531</th><td>NLRP10 </td></tr>\n",
       "\t<tr><th scope=row>59941</th><td>FADS3  </td></tr>\n",
       "\t<tr><th scope=row>59962</th><td>EDN1   </td></tr>\n",
       "\t<tr><th scope=row>59963</th><td>EDN2   </td></tr>\n",
       "\t<tr><th scope=row>59964</th><td>EFNB3  </td></tr>\n",
       "\t<tr><th scope=row>60075</th><td>PCDHB9 </td></tr>\n",
       "\t<tr><th scope=row>60076</th><td>PCDHGA3</td></tr>\n",
       "\t<tr><th scope=row>60153</th><td>FCGBP  </td></tr>\n",
       "\t<tr><th scope=row>60154</th><td>FCGBP  </td></tr>\n",
       "\t<tr><th scope=row>60155</th><td>FCGR2A </td></tr>\n",
       "\t<tr><th scope=row>60156</th><td>FCGRT  </td></tr>\n",
       "\t<tr><th scope=row>60157</th><td>FGF11  </td></tr>\n",
       "\t<tr><th scope=row>60158</th><td>FGF11  </td></tr>\n",
       "\t<tr><th scope=row>60159</th><td>FGF12  </td></tr>\n",
       "\t<tr><th scope=row>60177</th><td>ERICH3 </td></tr>\n",
       "\t<tr><th scope=row>60178</th><td>ERO1B  </td></tr>\n",
       "\t<tr><th scope=row>60214</th><td>SPTSSB </td></tr>\n",
       "\t<tr><th scope=row>60215</th><td>SRSF12 </td></tr>\n",
       "\t<tr><th scope=row>60218</th><td>SNX33  </td></tr>\n",
       "\t<tr><th scope=row>60219</th><td>SOCS2  </td></tr>\n",
       "\t<tr><th scope=row>60220</th><td>SOD3   </td></tr>\n",
       "\t<tr><th scope=row>60221</th><td>SOGA3  </td></tr>\n",
       "\t<tr><th scope=row>60222</th><td>SORT1  </td></tr>\n",
       "\t<tr><th scope=row>60223</th><td>SOWAHD </td></tr>\n",
       "\t<tr><th scope=row>60224</th><td>SOX12  </td></tr>\n",
       "\t<tr><th scope=row>60225</th><td>SOX4   </td></tr>\n",
       "\t<tr><th scope=row>60226</th><td>SP5    </td></tr>\n",
       "\t<tr><th scope=row>60227</th><td>SPAG17 </td></tr>\n",
       "</tbody>\n",
       "</table>\n"
      ],
      "text/latex": [
       "A data.frame: 1716 × 1\n",
       "\\begin{tabular}{r|l}\n",
       "  & overlapping\\_gene\\_names\\_osim\\_3\\_pos\\\\\n",
       "  & <chr>\\\\\n",
       "\\hline\n",
       "\t1 & CPQ    \\\\\n",
       "\t2 & CPS1   \\\\\n",
       "\t3 & CPZ    \\\\\n",
       "\t4 & CRACR2A\\\\\n",
       "\t5 & CREB5  \\\\\n",
       "\t6 & CREBRF \\\\\n",
       "\t7 & CRIM1  \\\\\n",
       "\t8 & CRIM1  \\\\\n",
       "\t9 & CRIP3  \\\\\n",
       "\t121 & COCH   \\\\\n",
       "\t122 & COL11A2\\\\\n",
       "\t123 & COL11A2\\\\\n",
       "\t239 & MMP19  \\\\\n",
       "\t240 & MMP23B \\\\\n",
       "\t241 & MMP24  \\\\\n",
       "\t242 & MMP24OS\\\\\n",
       "\t243 & MN1    \\\\\n",
       "\t244 & MOBP   \\\\\n",
       "\t245 & MOSPD1 \\\\\n",
       "\t246 & MOV10L1\\\\\n",
       "\t247 & MRAS   \\\\\n",
       "\t286 & ASNS   \\\\\n",
       "\t287 & ASPHD1 \\\\\n",
       "\t288 & ASPHD2 \\\\\n",
       "\t331 & GYG2   \\\\\n",
       "\t332 & H2AC13 \\\\\n",
       "\t333 & H2AC6  \\\\\n",
       "\t334 & H2AC8  \\\\\n",
       "\t335 & H2BC15 \\\\\n",
       "\t336 & H2BC8  \\\\\n",
       "\t⋮ & ⋮\\\\\n",
       "\t59529 & NLRP1  \\\\\n",
       "\t59530 & NLRP10 \\\\\n",
       "\t59531 & NLRP10 \\\\\n",
       "\t59941 & FADS3  \\\\\n",
       "\t59962 & EDN1   \\\\\n",
       "\t59963 & EDN2   \\\\\n",
       "\t59964 & EFNB3  \\\\\n",
       "\t60075 & PCDHB9 \\\\\n",
       "\t60076 & PCDHGA3\\\\\n",
       "\t60153 & FCGBP  \\\\\n",
       "\t60154 & FCGBP  \\\\\n",
       "\t60155 & FCGR2A \\\\\n",
       "\t60156 & FCGRT  \\\\\n",
       "\t60157 & FGF11  \\\\\n",
       "\t60158 & FGF11  \\\\\n",
       "\t60159 & FGF12  \\\\\n",
       "\t60177 & ERICH3 \\\\\n",
       "\t60178 & ERO1B  \\\\\n",
       "\t60214 & SPTSSB \\\\\n",
       "\t60215 & SRSF12 \\\\\n",
       "\t60218 & SNX33  \\\\\n",
       "\t60219 & SOCS2  \\\\\n",
       "\t60220 & SOD3   \\\\\n",
       "\t60221 & SOGA3  \\\\\n",
       "\t60222 & SORT1  \\\\\n",
       "\t60223 & SOWAHD \\\\\n",
       "\t60224 & SOX12  \\\\\n",
       "\t60225 & SOX4   \\\\\n",
       "\t60226 & SP5    \\\\\n",
       "\t60227 & SPAG17 \\\\\n",
       "\\end{tabular}\n"
      ],
      "text/markdown": [
       "\n",
       "A data.frame: 1716 × 1\n",
       "\n",
       "| <!--/--> | overlapping_gene_names_osim_3_pos &lt;chr&gt; |\n",
       "|---|---|\n",
       "| 1 | CPQ     |\n",
       "| 2 | CPS1    |\n",
       "| 3 | CPZ     |\n",
       "| 4 | CRACR2A |\n",
       "| 5 | CREB5   |\n",
       "| 6 | CREBRF  |\n",
       "| 7 | CRIM1   |\n",
       "| 8 | CRIM1   |\n",
       "| 9 | CRIP3   |\n",
       "| 121 | COCH    |\n",
       "| 122 | COL11A2 |\n",
       "| 123 | COL11A2 |\n",
       "| 239 | MMP19   |\n",
       "| 240 | MMP23B  |\n",
       "| 241 | MMP24   |\n",
       "| 242 | MMP24OS |\n",
       "| 243 | MN1     |\n",
       "| 244 | MOBP    |\n",
       "| 245 | MOSPD1  |\n",
       "| 246 | MOV10L1 |\n",
       "| 247 | MRAS    |\n",
       "| 286 | ASNS    |\n",
       "| 287 | ASPHD1  |\n",
       "| 288 | ASPHD2  |\n",
       "| 331 | GYG2    |\n",
       "| 332 | H2AC13  |\n",
       "| 333 | H2AC6   |\n",
       "| 334 | H2AC8   |\n",
       "| 335 | H2BC15  |\n",
       "| 336 | H2BC8   |\n",
       "| ⋮ | ⋮ |\n",
       "| 59529 | NLRP1   |\n",
       "| 59530 | NLRP10  |\n",
       "| 59531 | NLRP10  |\n",
       "| 59941 | FADS3   |\n",
       "| 59962 | EDN1    |\n",
       "| 59963 | EDN2    |\n",
       "| 59964 | EFNB3   |\n",
       "| 60075 | PCDHB9  |\n",
       "| 60076 | PCDHGA3 |\n",
       "| 60153 | FCGBP   |\n",
       "| 60154 | FCGBP   |\n",
       "| 60155 | FCGR2A  |\n",
       "| 60156 | FCGRT   |\n",
       "| 60157 | FGF11   |\n",
       "| 60158 | FGF11   |\n",
       "| 60159 | FGF12   |\n",
       "| 60177 | ERICH3  |\n",
       "| 60178 | ERO1B   |\n",
       "| 60214 | SPTSSB  |\n",
       "| 60215 | SRSF12  |\n",
       "| 60218 | SNX33   |\n",
       "| 60219 | SOCS2   |\n",
       "| 60220 | SOD3    |\n",
       "| 60221 | SOGA3   |\n",
       "| 60222 | SORT1   |\n",
       "| 60223 | SOWAHD  |\n",
       "| 60224 | SOX12   |\n",
       "| 60225 | SOX4    |\n",
       "| 60226 | SP5     |\n",
       "| 60227 | SPAG17  |\n",
       "\n"
      ],
      "text/plain": [
       "      overlapping_gene_names_osim_3_pos\n",
       "1     CPQ                              \n",
       "2     CPS1                             \n",
       "3     CPZ                              \n",
       "4     CRACR2A                          \n",
       "5     CREB5                            \n",
       "6     CREBRF                           \n",
       "7     CRIM1                            \n",
       "8     CRIM1                            \n",
       "9     CRIP3                            \n",
       "121   COCH                             \n",
       "122   COL11A2                          \n",
       "123   COL11A2                          \n",
       "239   MMP19                            \n",
       "240   MMP23B                           \n",
       "241   MMP24                            \n",
       "242   MMP24OS                          \n",
       "243   MN1                              \n",
       "244   MOBP                             \n",
       "245   MOSPD1                           \n",
       "246   MOV10L1                          \n",
       "247   MRAS                             \n",
       "286   ASNS                             \n",
       "287   ASPHD1                           \n",
       "288   ASPHD2                           \n",
       "331   GYG2                             \n",
       "332   H2AC13                           \n",
       "333   H2AC6                            \n",
       "334   H2AC8                            \n",
       "335   H2BC15                           \n",
       "336   H2BC8                            \n",
       "⋮     ⋮                                \n",
       "59529 NLRP1                            \n",
       "59530 NLRP10                           \n",
       "59531 NLRP10                           \n",
       "59941 FADS3                            \n",
       "59962 EDN1                             \n",
       "59963 EDN2                             \n",
       "59964 EFNB3                            \n",
       "60075 PCDHB9                           \n",
       "60076 PCDHGA3                          \n",
       "60153 FCGBP                            \n",
       "60154 FCGBP                            \n",
       "60155 FCGR2A                           \n",
       "60156 FCGRT                            \n",
       "60157 FGF11                            \n",
       "60158 FGF11                            \n",
       "60159 FGF12                            \n",
       "60177 ERICH3                           \n",
       "60178 ERO1B                            \n",
       "60214 SPTSSB                           \n",
       "60215 SRSF12                           \n",
       "60218 SNX33                            \n",
       "60219 SOCS2                            \n",
       "60220 SOD3                             \n",
       "60221 SOGA3                            \n",
       "60222 SORT1                            \n",
       "60223 SOWAHD                           \n",
       "60224 SOX12                            \n",
       "60225 SOX4                             \n",
       "60226 SP5                              \n",
       "60227 SPAG17                           "
      ]
     },
     "metadata": {},
     "output_type": "display_data"
    }
   ],
   "source": [
    "overlapping_gene_names_osim_3_pos<- subset(overlapping_gene_names_osim_3_pos, overlapping_gene_names_osim_3_pos !=\"NA\")\n",
    "dim(overlapping_gene_names_osim_3_pos)\n",
    "overlapping_gene_names_osim_3_pos"
   ]
  },
  {
   "cell_type": "code",
   "execution_count": 80,
   "id": "802a9af6-a28d-4d65-a487-f740a5df15de",
   "metadata": {
    "tags": []
   },
   "outputs": [],
   "source": [
    "gene_ranges_neg<- GRanges(\n",
    "  seqnames = rep(\"ArtificialChromosome\", length(location_neg_genes$start_position)),\n",
    "  ranges = IRanges(location_neg_genes$start_position, location_neg_genes$end_position)\n",
    ")\n",
    "\n",
    "\n",
    "peak_osim_3_ranges <- GRanges(\n",
    "  seqnames = rep(\"ArtificialChromosome\", length(peaks_osim_3_regions$peakStart)),\n",
    "  ranges = IRanges(peaks_osim_3_regions$peakStart, peaks_osim_3_regions$peakEnd)\n",
    ")\n",
    "\n",
    "overlapping_genes_3_neg <- findOverlaps(gene_ranges_neg, peak_osim_3_ranges)"
   ]
  },
  {
   "cell_type": "code",
   "execution_count": 81,
   "id": "fa0136c0-9be2-438d-85c8-3549baf4c302",
   "metadata": {
    "tags": []
   },
   "outputs": [
    {
     "data": {
      "text/html": [
       "<style>\n",
       ".list-inline {list-style: none; margin:0; padding: 0}\n",
       ".list-inline>li {display: inline-block}\n",
       ".list-inline>li:not(:last-child)::after {content: \"\\00b7\"; padding: 0 .5ex}\n",
       "</style>\n",
       "<ol class=list-inline><li>35586</li><li>1</li></ol>\n"
      ],
      "text/latex": [
       "\\begin{enumerate*}\n",
       "\\item 35586\n",
       "\\item 1\n",
       "\\end{enumerate*}\n"
      ],
      "text/markdown": [
       "1. 35586\n",
       "2. 1\n",
       "\n",
       "\n"
      ],
      "text/plain": [
       "[1] 35586     1"
      ]
     },
     "metadata": {},
     "output_type": "display_data"
    }
   ],
   "source": [
    "overlapping_indexes_3_neg <- subjectHits(overlapping_genes_3_neg)\n",
    "overlapping_gene_names_osim_3_neg <- location_neg_genes$SYMBOL[overlapping_indexes_3_neg]\n",
    "overlapping_gene_names_osim_3_neg=as.data.frame(overlapping_gene_names_osim_3_neg)\n",
    "dim(overlapping_gene_names_osim_3_neg)"
   ]
  },
  {
   "cell_type": "code",
   "execution_count": 82,
   "id": "c8359123-2f8c-4a68-91f9-f0c3531a4d71",
   "metadata": {
    "tags": []
   },
   "outputs": [
    {
     "data": {
      "text/html": [
       "<style>\n",
       ".list-inline {list-style: none; margin:0; padding: 0}\n",
       ".list-inline>li {display: inline-block}\n",
       ".list-inline>li:not(:last-child)::after {content: \"\\00b7\"; padding: 0 .5ex}\n",
       "</style>\n",
       "<ol class=list-inline><li>715</li><li>1</li></ol>\n"
      ],
      "text/latex": [
       "\\begin{enumerate*}\n",
       "\\item 715\n",
       "\\item 1\n",
       "\\end{enumerate*}\n"
      ],
      "text/markdown": [
       "1. 715\n",
       "2. 1\n",
       "\n",
       "\n"
      ],
      "text/plain": [
       "[1] 715   1"
      ]
     },
     "metadata": {},
     "output_type": "display_data"
    },
    {
     "data": {
      "text/html": [
       "<table class=\"dataframe\">\n",
       "<caption>A data.frame: 715 × 1</caption>\n",
       "<thead>\n",
       "\t<tr><th></th><th scope=col>overlapping_gene_names_osim_3_neg</th></tr>\n",
       "\t<tr><th></th><th scope=col>&lt;chr&gt;</th></tr>\n",
       "</thead>\n",
       "<tbody>\n",
       "\t<tr><th scope=row>459</th><td>MMD   </td></tr>\n",
       "\t<tr><th scope=row>460</th><td>MMP1  </td></tr>\n",
       "\t<tr><th scope=row>461</th><td>MMP13 </td></tr>\n",
       "\t<tr><th scope=row>462</th><td>MMP9  </td></tr>\n",
       "\t<tr><th scope=row>463</th><td>MMS22L</td></tr>\n",
       "\t<tr><th scope=row>464</th><td>MND1  </td></tr>\n",
       "\t<tr><th scope=row>465</th><td>MOK   </td></tr>\n",
       "\t<tr><th scope=row>466</th><td>MPP1  </td></tr>\n",
       "\t<tr><th scope=row>467</th><td>MPP2  </td></tr>\n",
       "\t<tr><th scope=row>468</th><td>MPPE1 </td></tr>\n",
       "\t<tr><th scope=row>469</th><td>MPPED2</td></tr>\n",
       "\t<tr><th scope=row>762</th><td>ITGB2 </td></tr>\n",
       "\t<tr><th scope=row>763</th><td>ITGB6 </td></tr>\n",
       "\t<tr><th scope=row>764</th><td>ITGB7 </td></tr>\n",
       "\t<tr><th scope=row>765</th><td>ITGBL1</td></tr>\n",
       "\t<tr><th scope=row>1077</th><td>ZNF469</td></tr>\n",
       "\t<tr><th scope=row>1078</th><td>ZNF488</td></tr>\n",
       "\t<tr><th scope=row>1079</th><td>ZNF525</td></tr>\n",
       "\t<tr><th scope=row>1080</th><td>ZNF530</td></tr>\n",
       "\t<tr><th scope=row>1081</th><td>ZNF681</td></tr>\n",
       "\t<tr><th scope=row>1082</th><td>ZNF714</td></tr>\n",
       "\t<tr><th scope=row>1083</th><td>ZNF724</td></tr>\n",
       "\t<tr><th scope=row>1084</th><td>ZNF726</td></tr>\n",
       "\t<tr><th scope=row>1085</th><td>ZNF730</td></tr>\n",
       "\t<tr><th scope=row>1086</th><td>ZNF732</td></tr>\n",
       "\t<tr><th scope=row>1087</th><td>ZNF841</td></tr>\n",
       "\t<tr><th scope=row>1088</th><td>ZNF860</td></tr>\n",
       "\t<tr><th scope=row>1089</th><td>ZNF878</td></tr>\n",
       "\t<tr><th scope=row>1090</th><td>ZNF92 </td></tr>\n",
       "\t<tr><th scope=row>1091</th><td>ZWILCH</td></tr>\n",
       "\t<tr><th scope=row>⋮</th><td>⋮</td></tr>\n",
       "\t<tr><th scope=row>34342</th><td>CDC6     </td></tr>\n",
       "\t<tr><th scope=row>34343</th><td>CDCA2    </td></tr>\n",
       "\t<tr><th scope=row>34344</th><td>CDCA3    </td></tr>\n",
       "\t<tr><th scope=row>34392</th><td>ARHGAP11B</td></tr>\n",
       "\t<tr><th scope=row>34393</th><td>ARHGAP11B</td></tr>\n",
       "\t<tr><th scope=row>34394</th><td>ARHGAP26 </td></tr>\n",
       "\t<tr><th scope=row>34395</th><td>ARHGAP33 </td></tr>\n",
       "\t<tr><th scope=row>34396</th><td>ARHGAP8  </td></tr>\n",
       "\t<tr><th scope=row>34397</th><td>ARHGDIB  </td></tr>\n",
       "\t<tr><th scope=row>34398</th><td>ARHGEF16 </td></tr>\n",
       "\t<tr><th scope=row>34399</th><td>ARHGEF26 </td></tr>\n",
       "\t<tr><th scope=row>35047</th><td>PAQR4    </td></tr>\n",
       "\t<tr><th scope=row>35048</th><td>PAQR5    </td></tr>\n",
       "\t<tr><th scope=row>35113</th><td>TRPS1    </td></tr>\n",
       "\t<tr><th scope=row>35118</th><td>PDSS1    </td></tr>\n",
       "\t<tr><th scope=row>35119</th><td>PEAR1    </td></tr>\n",
       "\t<tr><th scope=row>35120</th><td>PFKFB4   </td></tr>\n",
       "\t<tr><th scope=row>35121</th><td>PGF      </td></tr>\n",
       "\t<tr><th scope=row>35354</th><td>PTGS1    </td></tr>\n",
       "\t<tr><th scope=row>35355</th><td>PTHLH    </td></tr>\n",
       "\t<tr><th scope=row>35370</th><td>NUP35    </td></tr>\n",
       "\t<tr><th scope=row>35371</th><td>NUP37    </td></tr>\n",
       "\t<tr><th scope=row>35448</th><td>PLCXD1   </td></tr>\n",
       "\t<tr><th scope=row>35449</th><td>PLEK2    </td></tr>\n",
       "\t<tr><th scope=row>35450</th><td>PLEKHA6  </td></tr>\n",
       "\t<tr><th scope=row>35451</th><td>PLEKHA7  </td></tr>\n",
       "\t<tr><th scope=row>35452</th><td>PLEKHG1  </td></tr>\n",
       "\t<tr><th scope=row>35453</th><td>PLEKHG6  </td></tr>\n",
       "\t<tr><th scope=row>35454</th><td>PLK1     </td></tr>\n",
       "\t<tr><th scope=row>35455</th><td>PLK3     </td></tr>\n",
       "</tbody>\n",
       "</table>\n"
      ],
      "text/latex": [
       "A data.frame: 715 × 1\n",
       "\\begin{tabular}{r|l}\n",
       "  & overlapping\\_gene\\_names\\_osim\\_3\\_neg\\\\\n",
       "  & <chr>\\\\\n",
       "\\hline\n",
       "\t459 & MMD   \\\\\n",
       "\t460 & MMP1  \\\\\n",
       "\t461 & MMP13 \\\\\n",
       "\t462 & MMP9  \\\\\n",
       "\t463 & MMS22L\\\\\n",
       "\t464 & MND1  \\\\\n",
       "\t465 & MOK   \\\\\n",
       "\t466 & MPP1  \\\\\n",
       "\t467 & MPP2  \\\\\n",
       "\t468 & MPPE1 \\\\\n",
       "\t469 & MPPED2\\\\\n",
       "\t762 & ITGB2 \\\\\n",
       "\t763 & ITGB6 \\\\\n",
       "\t764 & ITGB7 \\\\\n",
       "\t765 & ITGBL1\\\\\n",
       "\t1077 & ZNF469\\\\\n",
       "\t1078 & ZNF488\\\\\n",
       "\t1079 & ZNF525\\\\\n",
       "\t1080 & ZNF530\\\\\n",
       "\t1081 & ZNF681\\\\\n",
       "\t1082 & ZNF714\\\\\n",
       "\t1083 & ZNF724\\\\\n",
       "\t1084 & ZNF726\\\\\n",
       "\t1085 & ZNF730\\\\\n",
       "\t1086 & ZNF732\\\\\n",
       "\t1087 & ZNF841\\\\\n",
       "\t1088 & ZNF860\\\\\n",
       "\t1089 & ZNF878\\\\\n",
       "\t1090 & ZNF92 \\\\\n",
       "\t1091 & ZWILCH\\\\\n",
       "\t⋮ & ⋮\\\\\n",
       "\t34342 & CDC6     \\\\\n",
       "\t34343 & CDCA2    \\\\\n",
       "\t34344 & CDCA3    \\\\\n",
       "\t34392 & ARHGAP11B\\\\\n",
       "\t34393 & ARHGAP11B\\\\\n",
       "\t34394 & ARHGAP26 \\\\\n",
       "\t34395 & ARHGAP33 \\\\\n",
       "\t34396 & ARHGAP8  \\\\\n",
       "\t34397 & ARHGDIB  \\\\\n",
       "\t34398 & ARHGEF16 \\\\\n",
       "\t34399 & ARHGEF26 \\\\\n",
       "\t35047 & PAQR4    \\\\\n",
       "\t35048 & PAQR5    \\\\\n",
       "\t35113 & TRPS1    \\\\\n",
       "\t35118 & PDSS1    \\\\\n",
       "\t35119 & PEAR1    \\\\\n",
       "\t35120 & PFKFB4   \\\\\n",
       "\t35121 & PGF      \\\\\n",
       "\t35354 & PTGS1    \\\\\n",
       "\t35355 & PTHLH    \\\\\n",
       "\t35370 & NUP35    \\\\\n",
       "\t35371 & NUP37    \\\\\n",
       "\t35448 & PLCXD1   \\\\\n",
       "\t35449 & PLEK2    \\\\\n",
       "\t35450 & PLEKHA6  \\\\\n",
       "\t35451 & PLEKHA7  \\\\\n",
       "\t35452 & PLEKHG1  \\\\\n",
       "\t35453 & PLEKHG6  \\\\\n",
       "\t35454 & PLK1     \\\\\n",
       "\t35455 & PLK3     \\\\\n",
       "\\end{tabular}\n"
      ],
      "text/markdown": [
       "\n",
       "A data.frame: 715 × 1\n",
       "\n",
       "| <!--/--> | overlapping_gene_names_osim_3_neg &lt;chr&gt; |\n",
       "|---|---|\n",
       "| 459 | MMD    |\n",
       "| 460 | MMP1   |\n",
       "| 461 | MMP13  |\n",
       "| 462 | MMP9   |\n",
       "| 463 | MMS22L |\n",
       "| 464 | MND1   |\n",
       "| 465 | MOK    |\n",
       "| 466 | MPP1   |\n",
       "| 467 | MPP2   |\n",
       "| 468 | MPPE1  |\n",
       "| 469 | MPPED2 |\n",
       "| 762 | ITGB2  |\n",
       "| 763 | ITGB6  |\n",
       "| 764 | ITGB7  |\n",
       "| 765 | ITGBL1 |\n",
       "| 1077 | ZNF469 |\n",
       "| 1078 | ZNF488 |\n",
       "| 1079 | ZNF525 |\n",
       "| 1080 | ZNF530 |\n",
       "| 1081 | ZNF681 |\n",
       "| 1082 | ZNF714 |\n",
       "| 1083 | ZNF724 |\n",
       "| 1084 | ZNF726 |\n",
       "| 1085 | ZNF730 |\n",
       "| 1086 | ZNF732 |\n",
       "| 1087 | ZNF841 |\n",
       "| 1088 | ZNF860 |\n",
       "| 1089 | ZNF878 |\n",
       "| 1090 | ZNF92  |\n",
       "| 1091 | ZWILCH |\n",
       "| ⋮ | ⋮ |\n",
       "| 34342 | CDC6      |\n",
       "| 34343 | CDCA2     |\n",
       "| 34344 | CDCA3     |\n",
       "| 34392 | ARHGAP11B |\n",
       "| 34393 | ARHGAP11B |\n",
       "| 34394 | ARHGAP26  |\n",
       "| 34395 | ARHGAP33  |\n",
       "| 34396 | ARHGAP8   |\n",
       "| 34397 | ARHGDIB   |\n",
       "| 34398 | ARHGEF16  |\n",
       "| 34399 | ARHGEF26  |\n",
       "| 35047 | PAQR4     |\n",
       "| 35048 | PAQR5     |\n",
       "| 35113 | TRPS1     |\n",
       "| 35118 | PDSS1     |\n",
       "| 35119 | PEAR1     |\n",
       "| 35120 | PFKFB4    |\n",
       "| 35121 | PGF       |\n",
       "| 35354 | PTGS1     |\n",
       "| 35355 | PTHLH     |\n",
       "| 35370 | NUP35     |\n",
       "| 35371 | NUP37     |\n",
       "| 35448 | PLCXD1    |\n",
       "| 35449 | PLEK2     |\n",
       "| 35450 | PLEKHA6   |\n",
       "| 35451 | PLEKHA7   |\n",
       "| 35452 | PLEKHG1   |\n",
       "| 35453 | PLEKHG6   |\n",
       "| 35454 | PLK1      |\n",
       "| 35455 | PLK3      |\n",
       "\n"
      ],
      "text/plain": [
       "      overlapping_gene_names_osim_3_neg\n",
       "459   MMD                              \n",
       "460   MMP1                             \n",
       "461   MMP13                            \n",
       "462   MMP9                             \n",
       "463   MMS22L                           \n",
       "464   MND1                             \n",
       "465   MOK                              \n",
       "466   MPP1                             \n",
       "467   MPP2                             \n",
       "468   MPPE1                            \n",
       "469   MPPED2                           \n",
       "762   ITGB2                            \n",
       "763   ITGB6                            \n",
       "764   ITGB7                            \n",
       "765   ITGBL1                           \n",
       "1077  ZNF469                           \n",
       "1078  ZNF488                           \n",
       "1079  ZNF525                           \n",
       "1080  ZNF530                           \n",
       "1081  ZNF681                           \n",
       "1082  ZNF714                           \n",
       "1083  ZNF724                           \n",
       "1084  ZNF726                           \n",
       "1085  ZNF730                           \n",
       "1086  ZNF732                           \n",
       "1087  ZNF841                           \n",
       "1088  ZNF860                           \n",
       "1089  ZNF878                           \n",
       "1090  ZNF92                            \n",
       "1091  ZWILCH                           \n",
       "⋮     ⋮                                \n",
       "34342 CDC6                             \n",
       "34343 CDCA2                            \n",
       "34344 CDCA3                            \n",
       "34392 ARHGAP11B                        \n",
       "34393 ARHGAP11B                        \n",
       "34394 ARHGAP26                         \n",
       "34395 ARHGAP33                         \n",
       "34396 ARHGAP8                          \n",
       "34397 ARHGDIB                          \n",
       "34398 ARHGEF16                         \n",
       "34399 ARHGEF26                         \n",
       "35047 PAQR4                            \n",
       "35048 PAQR5                            \n",
       "35113 TRPS1                            \n",
       "35118 PDSS1                            \n",
       "35119 PEAR1                            \n",
       "35120 PFKFB4                           \n",
       "35121 PGF                              \n",
       "35354 PTGS1                            \n",
       "35355 PTHLH                            \n",
       "35370 NUP35                            \n",
       "35371 NUP37                            \n",
       "35448 PLCXD1                           \n",
       "35449 PLEK2                            \n",
       "35450 PLEKHA6                          \n",
       "35451 PLEKHA7                          \n",
       "35452 PLEKHG1                          \n",
       "35453 PLEKHG6                          \n",
       "35454 PLK1                             \n",
       "35455 PLK3                             "
      ]
     },
     "metadata": {},
     "output_type": "display_data"
    }
   ],
   "source": [
    "overlapping_gene_names_osim_3_neg<- subset(overlapping_gene_names_osim_3_neg, overlapping_gene_names_osim_3_neg !=\"NA\")\n",
    "dim(overlapping_gene_names_osim_3_neg)\n",
    "overlapping_gene_names_osim_3_neg\n"
   ]
  },
  {
   "cell_type": "code",
   "execution_count": 83,
   "id": "950a6aa1-6f2a-4a0e-a0ec-cab59b9a0e2c",
   "metadata": {
    "tags": []
   },
   "outputs": [],
   "source": [
    "overlap_positive_3= 1699 \n",
    "overlap_negative_3 = 647\n",
    "\n",
    "total_genes_DE = 2778\n",
    "\n",
    "\n",
    "\n",
    "prop_overlap_pos_3 <- overlap_positive_3 / total_genes_DE\n",
    "prop_overlap_neg_3 <- overlap_negative_3 / total_genes_DE"
   ]
  },
  {
   "cell_type": "code",
   "execution_count": 84,
   "id": "3b069391-79c0-487f-8eb7-25e9466d207b",
   "metadata": {
    "tags": []
   },
   "outputs": [],
   "source": [
    "proportions_3 <- data.frame(\n",
    "  Category = c(\"Positive_DE_genes\", \"Negative_DE_genes\"),\n",
    "  Proportion = c(prop_overlap_pos_3, prop_overlap_neg_3)\n",
    ")"
   ]
  },
  {
   "cell_type": "code",
   "execution_count": 85,
   "id": "8fed6a0e-41ce-48ac-adff-6557dbd52401",
   "metadata": {
    "tags": []
   },
   "outputs": [
    {
     "data": {
      "text/html": [
       "<strong>png:</strong> 2"
      ],
      "text/latex": [
       "\\textbf{png:} 2"
      ],
      "text/markdown": [
       "**png:** 2"
      ],
      "text/plain": [
       "png \n",
       "  2 "
      ]
     },
     "metadata": {},
     "output_type": "display_data"
    }
   ],
   "source": [
    "png(\"barplot3.png\", width = 2000, height = 3000, res = 400)\n",
    "barplot(proportions_3$Proportion, names.arg = proportions_3$Category, \n",
    "        xlab = \"Category\", ylab = \"Proportion\", main = \"Overlapping with ChIP peaks Osim 3\",\n",
    "        col = c(\"purple\", \"red\"), ylim = c(0, max(proportions_3$Proportion) * 1.2))\n",
    "dev.off()"
   ]
  }
 ],
 "metadata": {
  "kernelspec": {
   "display_name": "R",
   "language": "R",
   "name": "ir"
  },
  "language_info": {
   "codemirror_mode": "r",
   "file_extension": ".r",
   "mimetype": "text/x-r-source",
   "name": "R",
   "pygments_lexer": "r",
   "version": "4.1.1"
  }
 },
 "nbformat": 4,
 "nbformat_minor": 5
}
